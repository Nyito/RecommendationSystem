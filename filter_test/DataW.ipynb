{
 "cells": [
  {
   "cell_type": "code",
   "execution_count": 196,
   "metadata": {},
   "outputs": [],
   "source": [
    "import pandas as pd\n",
    "import numpy as np"
   ]
  },
  {
   "cell_type": "code",
   "execution_count": 197,
   "metadata": {},
   "outputs": [
    {
     "data": {
      "text/html": [
       "<div>\n",
       "<style scoped>\n",
       "    .dataframe tbody tr th:only-of-type {\n",
       "        vertical-align: middle;\n",
       "    }\n",
       "\n",
       "    .dataframe tbody tr th {\n",
       "        vertical-align: top;\n",
       "    }\n",
       "\n",
       "    .dataframe thead th {\n",
       "        text-align: right;\n",
       "    }\n",
       "</style>\n",
       "<table border=\"1\" class=\"dataframe\">\n",
       "  <thead>\n",
       "    <tr style=\"text-align: right;\">\n",
       "      <th></th>\n",
       "      <th>Uniq Id</th>\n",
       "      <th>Product Name</th>\n",
       "      <th>Brand Name</th>\n",
       "      <th>Asin</th>\n",
       "      <th>Category</th>\n",
       "      <th>Upc Ean Code</th>\n",
       "      <th>List Price</th>\n",
       "      <th>Selling Price</th>\n",
       "      <th>Quantity</th>\n",
       "      <th>Model Number</th>\n",
       "      <th>...</th>\n",
       "      <th>Product Url</th>\n",
       "      <th>Stock</th>\n",
       "      <th>Product Details</th>\n",
       "      <th>Dimensions</th>\n",
       "      <th>Color</th>\n",
       "      <th>Ingredients</th>\n",
       "      <th>Direction To Use</th>\n",
       "      <th>Is Amazon Seller</th>\n",
       "      <th>Size Quantity Variant</th>\n",
       "      <th>Product Description</th>\n",
       "    </tr>\n",
       "  </thead>\n",
       "  <tbody>\n",
       "    <tr>\n",
       "      <th>0</th>\n",
       "      <td>4c69b61db1fc16e7013b43fc926e502d</td>\n",
       "      <td>DB Longboards CoreFlex Crossbow 41\" Bamboo Fib...</td>\n",
       "      <td>NaN</td>\n",
       "      <td>NaN</td>\n",
       "      <td>Sports &amp; Outdoors | Outdoor Recreation | Skate...</td>\n",
       "      <td>NaN</td>\n",
       "      <td>NaN</td>\n",
       "      <td>$237.68</td>\n",
       "      <td>NaN</td>\n",
       "      <td>NaN</td>\n",
       "      <td>...</td>\n",
       "      <td>https://www.amazon.com/DB-Longboards-CoreFlex-...</td>\n",
       "      <td>NaN</td>\n",
       "      <td>NaN</td>\n",
       "      <td>NaN</td>\n",
       "      <td>NaN</td>\n",
       "      <td>NaN</td>\n",
       "      <td>NaN</td>\n",
       "      <td>Y</td>\n",
       "      <td>NaN</td>\n",
       "      <td>NaN</td>\n",
       "    </tr>\n",
       "    <tr>\n",
       "      <th>1</th>\n",
       "      <td>66d49bbed043f5be260fa9f7fbff5957</td>\n",
       "      <td>Electronic Snap Circuits Mini Kits Classpack, ...</td>\n",
       "      <td>NaN</td>\n",
       "      <td>NaN</td>\n",
       "      <td>Toys &amp; Games | Learning &amp; Education | Science ...</td>\n",
       "      <td>NaN</td>\n",
       "      <td>NaN</td>\n",
       "      <td>$99.95</td>\n",
       "      <td>NaN</td>\n",
       "      <td>55324</td>\n",
       "      <td>...</td>\n",
       "      <td>https://www.amazon.com/Electronic-Circuits-Cla...</td>\n",
       "      <td>NaN</td>\n",
       "      <td>NaN</td>\n",
       "      <td>NaN</td>\n",
       "      <td>NaN</td>\n",
       "      <td>NaN</td>\n",
       "      <td>NaN</td>\n",
       "      <td>Y</td>\n",
       "      <td>NaN</td>\n",
       "      <td>NaN</td>\n",
       "    </tr>\n",
       "    <tr>\n",
       "      <th>2</th>\n",
       "      <td>2c55cae269aebf53838484b0d7dd931a</td>\n",
       "      <td>3Doodler Create Flexy 3D Printing Filament Ref...</td>\n",
       "      <td>NaN</td>\n",
       "      <td>NaN</td>\n",
       "      <td>Toys &amp; Games | Arts &amp; Crafts | Craft Kits</td>\n",
       "      <td>NaN</td>\n",
       "      <td>NaN</td>\n",
       "      <td>$34.99</td>\n",
       "      <td>NaN</td>\n",
       "      <td>NaN</td>\n",
       "      <td>...</td>\n",
       "      <td>https://www.amazon.com/3Doodler-Plastic-Innova...</td>\n",
       "      <td>NaN</td>\n",
       "      <td>NaN</td>\n",
       "      <td>NaN</td>\n",
       "      <td>NaN</td>\n",
       "      <td>NaN</td>\n",
       "      <td>NaN</td>\n",
       "      <td>Y</td>\n",
       "      <td>NaN</td>\n",
       "      <td>NaN</td>\n",
       "    </tr>\n",
       "    <tr>\n",
       "      <th>3</th>\n",
       "      <td>18018b6bc416dab347b1b7db79994afa</td>\n",
       "      <td>Guillow Airplane Design Studio with Travel Cas...</td>\n",
       "      <td>NaN</td>\n",
       "      <td>NaN</td>\n",
       "      <td>Toys &amp; Games | Hobbies | Models &amp; Model Kits |...</td>\n",
       "      <td>NaN</td>\n",
       "      <td>NaN</td>\n",
       "      <td>$28.91</td>\n",
       "      <td>NaN</td>\n",
       "      <td>142</td>\n",
       "      <td>...</td>\n",
       "      <td>https://www.amazon.com/Guillow-Airplane-Design...</td>\n",
       "      <td>NaN</td>\n",
       "      <td>NaN</td>\n",
       "      <td>NaN</td>\n",
       "      <td>NaN</td>\n",
       "      <td>NaN</td>\n",
       "      <td>NaN</td>\n",
       "      <td>Y</td>\n",
       "      <td>NaN</td>\n",
       "      <td>NaN</td>\n",
       "    </tr>\n",
       "    <tr>\n",
       "      <th>4</th>\n",
       "      <td>e04b990e95bf73bbe6a3fa09785d7cd0</td>\n",
       "      <td>Woodstock- Collage 500 pc Puzzle</td>\n",
       "      <td>NaN</td>\n",
       "      <td>NaN</td>\n",
       "      <td>Toys &amp; Games | Puzzles | Jigsaw Puzzles</td>\n",
       "      <td>NaN</td>\n",
       "      <td>NaN</td>\n",
       "      <td>$17.49</td>\n",
       "      <td>NaN</td>\n",
       "      <td>62151</td>\n",
       "      <td>...</td>\n",
       "      <td>https://www.amazon.com/Woodstock-Collage-500-p...</td>\n",
       "      <td>NaN</td>\n",
       "      <td>NaN</td>\n",
       "      <td>NaN</td>\n",
       "      <td>NaN</td>\n",
       "      <td>NaN</td>\n",
       "      <td>NaN</td>\n",
       "      <td>Y</td>\n",
       "      <td>NaN</td>\n",
       "      <td>NaN</td>\n",
       "    </tr>\n",
       "  </tbody>\n",
       "</table>\n",
       "<p>5 rows × 28 columns</p>\n",
       "</div>"
      ],
      "text/plain": [
       "                            Uniq Id  \\\n",
       "0  4c69b61db1fc16e7013b43fc926e502d   \n",
       "1  66d49bbed043f5be260fa9f7fbff5957   \n",
       "2  2c55cae269aebf53838484b0d7dd931a   \n",
       "3  18018b6bc416dab347b1b7db79994afa   \n",
       "4  e04b990e95bf73bbe6a3fa09785d7cd0   \n",
       "\n",
       "                                        Product Name  Brand Name  Asin  \\\n",
       "0  DB Longboards CoreFlex Crossbow 41\" Bamboo Fib...         NaN   NaN   \n",
       "1  Electronic Snap Circuits Mini Kits Classpack, ...         NaN   NaN   \n",
       "2  3Doodler Create Flexy 3D Printing Filament Ref...         NaN   NaN   \n",
       "3  Guillow Airplane Design Studio with Travel Cas...         NaN   NaN   \n",
       "4                   Woodstock- Collage 500 pc Puzzle         NaN   NaN   \n",
       "\n",
       "                                            Category Upc Ean Code  List Price  \\\n",
       "0  Sports & Outdoors | Outdoor Recreation | Skate...          NaN         NaN   \n",
       "1  Toys & Games | Learning & Education | Science ...          NaN         NaN   \n",
       "2          Toys & Games | Arts & Crafts | Craft Kits          NaN         NaN   \n",
       "3  Toys & Games | Hobbies | Models & Model Kits |...          NaN         NaN   \n",
       "4            Toys & Games | Puzzles | Jigsaw Puzzles          NaN         NaN   \n",
       "\n",
       "  Selling Price  Quantity Model Number  ...  \\\n",
       "0       $237.68       NaN          NaN  ...   \n",
       "1        $99.95       NaN        55324  ...   \n",
       "2        $34.99       NaN          NaN  ...   \n",
       "3        $28.91       NaN          142  ...   \n",
       "4        $17.49       NaN        62151  ...   \n",
       "\n",
       "                                         Product Url Stock Product Details  \\\n",
       "0  https://www.amazon.com/DB-Longboards-CoreFlex-...   NaN             NaN   \n",
       "1  https://www.amazon.com/Electronic-Circuits-Cla...   NaN             NaN   \n",
       "2  https://www.amazon.com/3Doodler-Plastic-Innova...   NaN             NaN   \n",
       "3  https://www.amazon.com/Guillow-Airplane-Design...   NaN             NaN   \n",
       "4  https://www.amazon.com/Woodstock-Collage-500-p...   NaN             NaN   \n",
       "\n",
       "  Dimensions Color Ingredients Direction To Use  Is Amazon Seller  \\\n",
       "0        NaN   NaN         NaN              NaN                 Y   \n",
       "1        NaN   NaN         NaN              NaN                 Y   \n",
       "2        NaN   NaN         NaN              NaN                 Y   \n",
       "3        NaN   NaN         NaN              NaN                 Y   \n",
       "4        NaN   NaN         NaN              NaN                 Y   \n",
       "\n",
       "  Size Quantity Variant  Product Description  \n",
       "0                   NaN                  NaN  \n",
       "1                   NaN                  NaN  \n",
       "2                   NaN                  NaN  \n",
       "3                   NaN                  NaN  \n",
       "4                   NaN                  NaN  \n",
       "\n",
       "[5 rows x 28 columns]"
      ]
     },
     "execution_count": 197,
     "metadata": {},
     "output_type": "execute_result"
    }
   ],
   "source": [
    "dataset = pd.read_csv(\"AmazonData.csv\")\n",
    "dataset.head(5)"
   ]
  },
  {
   "cell_type": "code",
   "execution_count": 198,
   "metadata": {},
   "outputs": [
    {
     "data": {
      "text/plain": [
       "(10002, 28)"
      ]
     },
     "execution_count": 198,
     "metadata": {},
     "output_type": "execute_result"
    }
   ],
   "source": [
    "dataset.shape"
   ]
  },
  {
   "cell_type": "code",
   "execution_count": 199,
   "metadata": {},
   "outputs": [
    {
     "name": "stdout",
     "output_type": "stream",
     "text": [
      "<class 'pandas.core.frame.DataFrame'>\n",
      "RangeIndex: 10002 entries, 0 to 10001\n",
      "Data columns (total 28 columns):\n",
      " #   Column                 Non-Null Count  Dtype  \n",
      "---  ------                 --------------  -----  \n",
      " 0   Uniq Id                10002 non-null  object \n",
      " 1   Product Name           10002 non-null  object \n",
      " 2   Brand Name             0 non-null      float64\n",
      " 3   Asin                   0 non-null      float64\n",
      " 4   Category               9172 non-null   object \n",
      " 5   Upc Ean Code           34 non-null     object \n",
      " 6   List Price             0 non-null      float64\n",
      " 7   Selling Price          9895 non-null   object \n",
      " 8   Quantity               0 non-null      float64\n",
      " 9   Model Number           8232 non-null   object \n",
      " 10  About Product          9729 non-null   object \n",
      " 11  Product Specification  8370 non-null   object \n",
      " 12  Technical Details      9212 non-null   object \n",
      " 13  Shipping Weight        8864 non-null   object \n",
      " 14  Product Dimensions     479 non-null    object \n",
      " 15  Image                  10002 non-null  object \n",
      " 16  Variants               2478 non-null   object \n",
      " 17  Sku                    0 non-null      float64\n",
      " 18  Product Url            10002 non-null  object \n",
      " 19  Stock                  0 non-null      float64\n",
      " 20  Product Details        0 non-null      float64\n",
      " 21  Dimensions             0 non-null      float64\n",
      " 22  Color                  0 non-null      float64\n",
      " 23  Ingredients            0 non-null      float64\n",
      " 24  Direction To Use       0 non-null      float64\n",
      " 25  Is Amazon Seller       10002 non-null  object \n",
      " 26  Size Quantity Variant  0 non-null      float64\n",
      " 27  Product Description    0 non-null      float64\n",
      "dtypes: float64(13), object(15)\n",
      "memory usage: 2.1+ MB\n"
     ]
    }
   ],
   "source": [
    "dataset.info()"
   ]
  },
  {
   "cell_type": "code",
   "execution_count": 200,
   "metadata": {},
   "outputs": [
    {
     "data": {
      "text/plain": [
       "0        False\n",
       "1        False\n",
       "2        False\n",
       "3        False\n",
       "4        False\n",
       "         ...  \n",
       "9997     False\n",
       "9998     False\n",
       "9999     False\n",
       "10000    False\n",
       "10001    False\n",
       "Length: 10002, dtype: bool"
      ]
     },
     "execution_count": 200,
     "metadata": {},
     "output_type": "execute_result"
    }
   ],
   "source": [
    "dataset.duplicated()"
   ]
  },
  {
   "cell_type": "code",
   "execution_count": 201,
   "metadata": {},
   "outputs": [],
   "source": [
    "cols = [0,2,3,5,6,8,9,12,14,15,16,17,18,19,20,21,22,23,24,25,26,27]\n",
    "dataset.drop(dataset.columns[cols], axis =1, inplace=True)"
   ]
  },
  {
   "cell_type": "code",
   "execution_count": 202,
   "metadata": {},
   "outputs": [
    {
     "name": "stdout",
     "output_type": "stream",
     "text": [
      "<class 'pandas.core.frame.DataFrame'>\n",
      "Int64Index: 7216 entries, 0 to 10001\n",
      "Data columns (total 6 columns):\n",
      " #   Column                 Non-Null Count  Dtype \n",
      "---  ------                 --------------  ----- \n",
      " 0   Product Name           7216 non-null   object\n",
      " 1   Category               7216 non-null   object\n",
      " 2   Selling Price          7216 non-null   object\n",
      " 3   About Product          7216 non-null   object\n",
      " 4   Product Specification  7216 non-null   object\n",
      " 5   Shipping Weight        7216 non-null   object\n",
      "dtypes: object(6)\n",
      "memory usage: 394.6+ KB\n"
     ]
    }
   ],
   "source": [
    "dataset.dropna(inplace = True)\n",
    "dataset.info()"
   ]
  },
  {
   "cell_type": "code",
   "execution_count": 203,
   "metadata": {},
   "outputs": [],
   "source": [
    "new = dataset[\"Category\"].str.split(\"|\", n = 3, expand = True)\n",
    "\n",
    "new = new.apply(lambda x: x.str.strip())\n",
    "  \n",
    "# making the first category called Main Category\n",
    "dataset[\"Main Category\"]= new[0] \n",
    "  \n",
    "# making the second category called sub_category \n",
    "dataset[\"Sub Category\"]= new[1]\n",
    "\n",
    "# making the third category called side_category \n",
    "dataset[\"Side Category\"]= new[2]\n",
    "\n",
    "# making the last column consist of the remaining categories\n",
    "dataset[\"Other Categories\"]= new[3]\n",
    "\n",
    "# Dropping old category columns and the remaining categories \n",
    "dataset.drop(columns =[\"Category\", \"Other Categories\"], inplace = True)"
   ]
  },
  {
   "cell_type": "code",
   "execution_count": 204,
   "metadata": {},
   "outputs": [
    {
     "name": "stdout",
     "output_type": "stream",
     "text": [
      "<class 'pandas.core.frame.DataFrame'>\n",
      "Int64Index: 7216 entries, 0 to 10001\n",
      "Data columns (total 8 columns):\n",
      " #   Column                 Non-Null Count  Dtype \n",
      "---  ------                 --------------  ----- \n",
      " 0   Product Name           7216 non-null   object\n",
      " 1   Selling Price          7216 non-null   object\n",
      " 2   About Product          7216 non-null   object\n",
      " 3   Product Specification  7216 non-null   object\n",
      " 4   Shipping Weight        7216 non-null   object\n",
      " 5   Main Category          7216 non-null   object\n",
      " 6   Sub Category           7216 non-null   object\n",
      " 7   Side Category          6231 non-null   object\n",
      "dtypes: object(8)\n",
      "memory usage: 507.4+ KB\n"
     ]
    }
   ],
   "source": [
    "dataset.info()"
   ]
  },
  {
   "cell_type": "code",
   "execution_count": 205,
   "metadata": {},
   "outputs": [],
   "source": [
    "dataset['Main Category'] = dataset['Main Category'].astype('string')\n",
    "dataset['Sub Category'] = dataset['Sub Category'].astype('string')"
   ]
  },
  {
   "cell_type": "code",
   "execution_count": 206,
   "metadata": {},
   "outputs": [
    {
     "name": "stdout",
     "output_type": "stream",
     "text": [
      "<class 'pandas.core.frame.DataFrame'>\n",
      "Int64Index: 7216 entries, 0 to 10001\n",
      "Data columns (total 8 columns):\n",
      " #   Column                 Non-Null Count  Dtype \n",
      "---  ------                 --------------  ----- \n",
      " 0   Product Name           7216 non-null   object\n",
      " 1   Selling Price          7216 non-null   object\n",
      " 2   About Product          7216 non-null   object\n",
      " 3   Product Specification  7216 non-null   object\n",
      " 4   Shipping Weight        7216 non-null   object\n",
      " 5   Main Category          7216 non-null   string\n",
      " 6   Sub Category           7216 non-null   string\n",
      " 7   Side Category          6231 non-null   object\n",
      "dtypes: object(6), string(2)\n",
      "memory usage: 507.4+ KB\n"
     ]
    }
   ],
   "source": [
    "dataset.info()"
   ]
  },
  {
   "cell_type": "code",
   "execution_count": 207,
   "metadata": {},
   "outputs": [
    {
     "data": {
      "text/plain": [
       "0        Sports & Outdoors\n",
       "1             Toys & Games\n",
       "2             Toys & Games\n",
       "3             Toys & Games\n",
       "4             Toys & Games\n",
       "               ...        \n",
       "9995        Home & Kitchen\n",
       "9996          Toys & Games\n",
       "9998          Toys & Games\n",
       "9999       Office Products\n",
       "10001       Home & Kitchen\n",
       "Name: Main Category, Length: 7216, dtype: string"
      ]
     },
     "execution_count": 207,
     "metadata": {},
     "output_type": "execute_result"
    }
   ],
   "source": [
    "dataset[\"Main Category\"]"
   ]
  },
  {
   "cell_type": "code",
   "execution_count": 208,
   "metadata": {},
   "outputs": [
    {
     "data": {
      "text/plain": [
       "0              Outdoor Recreation\n",
       "1            Learning & Education\n",
       "2                   Arts & Crafts\n",
       "3                         Hobbies\n",
       "4                         Puzzles\n",
       "                   ...           \n",
       "9995                      Bedding\n",
       "9996                Building Toys\n",
       "9998                Arts & Crafts\n",
       "9999     Office & School Supplies\n",
       "10001                   Furniture\n",
       "Name: Sub Category, Length: 7216, dtype: string"
      ]
     },
     "execution_count": 208,
     "metadata": {},
     "output_type": "execute_result"
    }
   ],
   "source": [
    "dataset[\"Sub Category\"]"
   ]
  },
  {
   "cell_type": "code",
   "execution_count": 209,
   "metadata": {},
   "outputs": [],
   "source": [
    "main_category_input = 'Toys & Games'\n",
    "sub_category_input = 'Building Toys'"
   ]
  },
  {
   "cell_type": "code",
   "execution_count": 210,
   "metadata": {},
   "outputs": [
    {
     "data": {
      "text/plain": [
       "<StringArray>\n",
       "[                       'Sports & Outdoors',\n",
       "                             'Toys & Games',\n",
       "                'Clothing, Shoes & Jewelry',\n",
       "                           'Home & Kitchen',\n",
       "                             'Pet Supplies',\n",
       "                    'Arts, Crafts & Sewing',\n",
       "                              'Electronics',\n",
       "                     'Patio, Lawn & Garden',\n",
       "                 'Tools & Home Improvement',\n",
       "                          'Office Products',\n",
       "                            'Baby Products',\n",
       "                   'Grocery & Gourmet Food',\n",
       "                              'Video Games',\n",
       "    'Remote & App Controlled Vehicle Parts',\n",
       "                       'Health & Household',\n",
       "                  'Industrial & Scientific',\n",
       "                   'Beauty & Personal Care',\n",
       "                               'Automotive',\n",
       " 'Remote & App Controlled Vehicles & Parts',\n",
       "                      'Musical Instruments',\n",
       "                                  'Hobbies',\n",
       "                              'Movies & TV',\n",
       "                'Cell Phones & Accessories']\n",
       "Length: 23, dtype: string"
      ]
     },
     "execution_count": 210,
     "metadata": {},
     "output_type": "execute_result"
    }
   ],
   "source": [
    "dataset['Main Category'].unique()"
   ]
  },
  {
   "cell_type": "code",
   "execution_count": 211,
   "metadata": {},
   "outputs": [
    {
     "data": {
      "text/plain": [
       "<StringArray>\n",
       "[                      'Outdoor Recreation',\n",
       "                     'Learning & Education',\n",
       "                            'Arts & Crafts',\n",
       "                                  'Hobbies',\n",
       "                                  'Puzzles',\n",
       "                   'Costumes & Accessories',\n",
       "                               'Home Décor',\n",
       "                      'Baby & Toddler Toys',\n",
       "                         'Collectible Toys',\n",
       "                            'Building Toys',\n",
       "                                'Furniture',\n",
       "                       'Novelty & Gag Toys',\n",
       "                    'Sports & Outdoor Play',\n",
       "                        \"Kids' Electronics\",\n",
       "                         'Sports & Fitness',\n",
       "                  'Dress Up & Pretend Play',\n",
       "                                  'Bedding',\n",
       "                   'Toy Figures & Playsets',\n",
       "                           'Party Supplies',\n",
       "                      'Dolls & Accessories',\n",
       "                      'Games & Accessories',\n",
       "                                     'Dogs',\n",
       "                           'Novelty & More',\n",
       "                                      'Men',\n",
       "             'Stuffed Animals & Plush Toys',\n",
       "                                 'Fan Shop',\n",
       "                                 'Crafting',\n",
       "                           'Camera & Photo',\n",
       "                 'Beading & Jewelry Making',\n",
       "                            'Outdoor Décor',\n",
       "                            'Play Vehicles',\n",
       "         'Painting, Drawing & Art Supplies',\n",
       "                  'Lighting & Ceiling Fans',\n",
       "                 'Office & School Supplies',\n",
       "                 'Activity & Entertainment',\n",
       "         \"Kids' Furniture, Décor & Storage\",\n",
       "                           'Pantry Staples',\n",
       "                                  'Nursery',\n",
       "                           'Legacy Systems',\n",
       "                'Puppets & Puppet Theaters',\n",
       "                                'Baby Care',\n",
       "                                   'Sewing',\n",
       "          'Power Plant & Driveline Systems',\n",
       "                       'Household Supplies',\n",
       "                                'Fasteners',\n",
       "                         \"Kids' Home Store\",\n",
       "             'Tricycles, Scooters & Wagons',\n",
       "                         'Kitchen & Dining',\n",
       "               'Pools, Hot Tubs & Supplies',\n",
       "                                    'Women',\n",
       "                   'Foot, Hand & Nail Care',\n",
       "                     'Interior Accessories',\n",
       "    'Remote & App Controlled Vehicle Parts',\n",
       "                   'Event & Party Supplies',\n",
       "                              'Printmaking',\n",
       "                       'Office Electronics',\n",
       "             'Medical Supplies & Equipment',\n",
       "                                       'PC',\n",
       "                  'Computers & Accessories',\n",
       "                    'Luggage & Travel Gear',\n",
       "                        'Science Education',\n",
       "                                 'Hardware',\n",
       "                   'Storage & Organization',\n",
       "                     'Exterior Accessories',\n",
       "                                 'Wall Art',\n",
       "            'Patio Furniture & Accessories',\n",
       "                'Microphones & Accessories',\n",
       "                                  'Feeding',\n",
       " 'Remote & App Controlled Vehicles & Parts',\n",
       "            'Professional Medical Supplies',\n",
       "              'Power Transmission Products',\n",
       "                               'Headphones',\n",
       "                           'Seasonal Décor',\n",
       "                               'Electrical',\n",
       "                  'Scrapbooking & Stamping',\n",
       "                'Lab & Scientific Products',\n",
       "                       'Power & Hand Tools',\n",
       "                        'Replacement Parts',\n",
       "                      'Tools & Accessories',\n",
       "                    'Industrial Electrical',\n",
       "                   'Pet Supplies Markdowns',\n",
       "            'Top Selection from AmazonPets',\n",
       "                                   'Makeup',\n",
       "                               'Needlework',\n",
       "                   'Portable Audio & Video',\n",
       "         'Adhesives, Sealants & Lubricants',\n",
       "                                'Hair Care',\n",
       "                                  'Blu-ray',\n",
       "                                     'Cats',\n",
       "                                    'Birds',\n",
       "                           'Potty Training',\n",
       "                                'Skin Care',\n",
       "      'Stationery & Gift Wrapping Supplies',\n",
       "                                   'Fabric',\n",
       "                            'Personal Care',\n",
       "                              'Accessories']\n",
       "Length: 96, dtype: string"
      ]
     },
     "execution_count": 211,
     "metadata": {},
     "output_type": "execute_result"
    }
   ],
   "source": [
    "dataset['Sub Category'].unique()"
   ]
  },
  {
   "cell_type": "code",
   "execution_count": 212,
   "metadata": {},
   "outputs": [],
   "source": [
    "# Verifica se as categorias fornecidas são válidas\n",
    "if main_category_input not in dataset['Main Category'].unique():\n",
    "    print('Categoria principal não encontrada na base de dados.')\n",
    "if sub_category_input not in dataset['Sub Category'].unique():\n",
    "    print('Subcategoria não encontrada na base de dados.')\n"
   ]
  },
  {
   "cell_type": "code",
   "execution_count": 213,
   "metadata": {},
   "outputs": [],
   "source": [
    "\n",
    "# Calcula uma pontuação para cada produto com base na similaridade das categorias\n",
    "dataset['score'] = 0\n",
    "\n",
    "# Aumenta a pontuação se a \"Main Category\" ou \"Sub Category\" corresponder\n",
    "dataset.loc[dataset['Main Category'] == main_category_input, 'score'] += 2\n",
    "dataset.loc[dataset['Sub Category'] == sub_category_input, 'score'] += 1\n"
   ]
  },
  {
   "cell_type": "code",
   "execution_count": 215,
   "metadata": {},
   "outputs": [
    {
     "name": "stdout",
     "output_type": "stream",
     "text": [
      "3349                    LEGO Storage Brick 8, Bright Pink\n",
      "1580    Fischertechnik Dynamic XS Building Kit (70 Piece)\n",
      "2593    Magformers Sweet House 64 Pieces Pink and Purp...\n",
      "9432    Ravensburger Gravitrax Flip Accessory - Marble...\n",
      "3470    Plus-Plus BIG - Preschool Construction Buildin...\n",
      "                              ...                        \n",
      "2627    Manhattan Toy Natural Historian Opposites Padd...\n",
      "9470       Squadron Products Tools Rubber Block Model Kit\n",
      "9424                            Runewars: Essentials Pack\n",
      "9423    Harvey Ball 2-Tier Lacquer Bento Lunch Box wit...\n",
      "2880    Calypso Studios Inc. 3\" Comforting Clay Cross ...\n",
      "Name: Product Name, Length: 5556, dtype: object\n"
     ]
    }
   ],
   "source": [
    "\n",
    "# Ordena os produtos com base na pontuação, do mais alto para o mais baixo\n",
    "produtos_recomendados = dataset.sort_values(by='score', ascending=False)\n",
    "\n",
    "# Remove produtos com pontuação 0 (sem correspondência)\n",
    "produtos_recomendados = produtos_recomendados[produtos_recomendados['score'] > 0]\n",
    "\n",
    "# Remove a coluna de pontuação antes de retornar\n",
    "produtos_recomendados = produtos_recomendados.drop(columns='score')\n",
    "\n",
    "# Retorna as recomendações\n",
    "if produtos_recomendados.empty:\n",
    "    print('Nenhuma recomendação encontrada para essas categorias.')\n",
    "\n",
    "print(produtos_recomendados)"
   ]
  }
 ],
 "metadata": {
  "kernelspec": {
   "display_name": "Python 3",
   "language": "python",
   "name": "python3"
  },
  "language_info": {
   "codemirror_mode": {
    "name": "ipython",
    "version": 3
   },
   "file_extension": ".py",
   "mimetype": "text/x-python",
   "name": "python",
   "nbconvert_exporter": "python",
   "pygments_lexer": "ipython3",
   "version": "3.7.12"
  }
 },
 "nbformat": 4,
 "nbformat_minor": 2
}
