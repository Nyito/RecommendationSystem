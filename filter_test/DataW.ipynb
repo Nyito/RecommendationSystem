{
 "cells": [
  {
   "cell_type": "code",
   "execution_count": 456,
   "metadata": {},
   "outputs": [
    {
     "name": "stdout",
     "output_type": "stream",
     "text": [
      "<class 'pandas.core.frame.DataFrame'>\n",
      "RangeIndex: 10002 entries, 0 to 10001\n",
      "Data columns (total 28 columns):\n",
      " #   Column                 Non-Null Count  Dtype  \n",
      "---  ------                 --------------  -----  \n",
      " 0   Uniq Id                10002 non-null  object \n",
      " 1   Product Name           10002 non-null  object \n",
      " 2   Brand Name             0 non-null      float64\n",
      " 3   Asin                   0 non-null      float64\n",
      " 4   Category               9172 non-null   object \n",
      " 5   Upc Ean Code           34 non-null     object \n",
      " 6   List Price             0 non-null      float64\n",
      " 7   Selling Price          9895 non-null   object \n",
      " 8   Quantity               0 non-null      float64\n",
      " 9   Model Number           8232 non-null   object \n",
      " 10  About Product          9729 non-null   object \n",
      " 11  Product Specification  8370 non-null   object \n",
      " 12  Technical Details      9212 non-null   object \n",
      " 13  Shipping Weight        8864 non-null   object \n",
      " 14  Product Dimensions     479 non-null    object \n",
      " 15  Image                  10002 non-null  object \n",
      " 16  Variants               2478 non-null   object \n",
      " 17  Sku                    0 non-null      float64\n",
      " 18  Product Url            10002 non-null  object \n",
      " 19  Stock                  0 non-null      float64\n",
      " 20  Product Details        0 non-null      float64\n",
      " 21  Dimensions             0 non-null      float64\n",
      " 22  Color                  0 non-null      float64\n",
      " 23  Ingredients            0 non-null      float64\n",
      " 24  Direction To Use       0 non-null      float64\n",
      " 25  Is Amazon Seller       10002 non-null  object \n",
      " 26  Size Quantity Variant  0 non-null      float64\n",
      " 27  Product Description    0 non-null      float64\n",
      "dtypes: float64(13), object(15)\n",
      "memory usage: 2.1+ MB\n"
     ]
    }
   ],
   "source": [
    "import pandas as pd\n",
    "import numpy as np\n",
    "\n",
    "dataset = pd.read_csv(\"AmazonData.csv\")\n",
    "dataset.info()"
   ]
  },
  {
   "cell_type": "code",
   "execution_count": 457,
   "metadata": {},
   "outputs": [
    {
     "name": "stdout",
     "output_type": "stream",
     "text": [
      "<class 'pandas.core.frame.DataFrame'>\n",
      "Int64Index: 7216 entries, 0 to 10001\n",
      "Data columns (total 6 columns):\n",
      " #   Column                 Non-Null Count  Dtype \n",
      "---  ------                 --------------  ----- \n",
      " 0   Product Name           7216 non-null   object\n",
      " 1   Category               7216 non-null   object\n",
      " 2   Selling Price          7216 non-null   object\n",
      " 3   About Product          7216 non-null   object\n",
      " 4   Product Specification  7216 non-null   object\n",
      " 5   Shipping Weight        7216 non-null   object\n",
      "dtypes: object(6)\n",
      "memory usage: 394.6+ KB\n"
     ]
    }
   ],
   "source": [
    "cols = [0,2,3,5,6,8,9,12,14,15,16,17,18,19,20,21,22,23,24,25,26,27]\n",
    "dataset.drop(dataset.columns[cols], axis =1, inplace=True)\n",
    "dataset.dropna(inplace = True)\n",
    "dataset.info()"
   ]
  },
  {
   "cell_type": "code",
   "execution_count": 458,
   "metadata": {},
   "outputs": [],
   "source": [
    "new = dataset[\"Category\"].str.split(\"|\", n = 3, expand = True)\n",
    "new = new.apply(lambda x: x.str.strip())\n",
    "  \n",
    "# making the first category called Main Category\n",
    "dataset[\"Main Category\"]= new[0] \n",
    "  \n",
    "# making the second category called sub_category \n",
    "dataset[\"Sub Category\"]= new[1]\n",
    "\n",
    "# making the third category called side_category \n",
    "dataset[\"Side Category\"]= new[2]\n",
    "\n",
    "# making the last column consist of the remaining categories\n",
    "dataset[\"Other Category\"]= new[3]\n",
    "\n",
    "# Dropping old category columns and the remaining categories \n",
    "dataset.drop(columns =[\"Category\"], inplace = True)"
   ]
  },
  {
   "cell_type": "code",
   "execution_count": 459,
   "metadata": {},
   "outputs": [
    {
     "name": "stdout",
     "output_type": "stream",
     "text": [
      "<class 'pandas.core.frame.DataFrame'>\n",
      "Int64Index: 7216 entries, 0 to 10001\n",
      "Data columns (total 9 columns):\n",
      " #   Column                 Non-Null Count  Dtype \n",
      "---  ------                 --------------  ----- \n",
      " 0   Product Name           7216 non-null   object\n",
      " 1   Selling Price          7216 non-null   object\n",
      " 2   About Product          7216 non-null   object\n",
      " 3   Product Specification  7216 non-null   object\n",
      " 4   Shipping Weight        7216 non-null   object\n",
      " 5   Main Category          7216 non-null   object\n",
      " 6   Sub Category           7216 non-null   object\n",
      " 7   Side Category          6231 non-null   object\n",
      " 8   Other Category         2791 non-null   object\n",
      "dtypes: object(9)\n",
      "memory usage: 563.8+ KB\n"
     ]
    }
   ],
   "source": [
    "dataset.info()"
   ]
  },
  {
   "cell_type": "code",
   "execution_count": 460,
   "metadata": {},
   "outputs": [
    {
     "name": "stdout",
     "output_type": "stream",
     "text": [
      "\n",
      "Produto selecionado:\n",
      "Product Name                             Tomy Stink Bomz Plush Toy, Ripper\n",
      "Selling Price                                                        $3.02\n",
      "About Product            Make sure this fits by entering your model num...\n",
      "Product Specification    ProductDimensions:12.8x9.4x4.2inches|ItemWeigh...\n",
      "Shipping Weight                                                   4 ounces\n",
      "Main Category                                                 Toys & Games\n",
      "Sub Category                                  Stuffed Animals & Plush Toys\n",
      "Side Category                                                         None\n",
      "Other Category                                                        None\n",
      "Name: 752, dtype: object\n",
      "\n",
      "\n",
      "Toys & Games\n",
      "Stuffed Animals & Plush Toys\n",
      "None\n",
      "None\n"
     ]
    }
   ],
   "source": [
    "product_line = int(input(\"Digite o número do produto: \"))\n",
    "product_line = product_line - 2\n",
    "\n",
    "if 0 <= product_line < len(dataset):\n",
    "    produto_selecionado = dataset.iloc[product_line]  # Seleciona o produto pela linha\n",
    "    print(\"\\nProduto selecionado:\")\n",
    "    print(produto_selecionado)\n",
    "else:\n",
    "    print(\"Número de linha inválido. Tente novamente.\")\n",
    "\n",
    "main_category_input = produto_selecionado['Main Category']\n",
    "sub_category_input = produto_selecionado['Sub Category']\n",
    "side_category_input = produto_selecionado['Side Category']\n",
    "other_category_input = produto_selecionado['Other Category']\n",
    "\n",
    "print(\"\\n\")\n",
    "print(main_category_input)\n",
    "print(sub_category_input)\n",
    "print(side_category_input)\n",
    "print(other_category_input)\n"
   ]
  },
  {
   "cell_type": "code",
   "execution_count": 461,
   "metadata": {},
   "outputs": [],
   "source": [
    "# Verifica se as categorias fornecidas são válidas\n",
    "if main_category_input not in dataset['Main Category'].unique():\n",
    "    print('Main Category não encontrada na base de dados.')\n",
    "if sub_category_input not in dataset['Sub Category'].unique():\n",
    "    print('Subcategoria não encontrada na base de dados.')\n",
    "if side_category_input not in dataset['Side Category'].unique():\n",
    "    print('Side Category não encontrada na base de dados.')\n",
    "if other_category_input not in dataset['Other Category'].unique():\n",
    "    print('Other Category não encontrada na base de dados.')"
   ]
  },
  {
   "cell_type": "code",
   "execution_count": 462,
   "metadata": {},
   "outputs": [],
   "source": [
    "\n",
    "# Calcula uma pontuação para cada produto com base na similaridade das categorias\n",
    "dataset['score'] = 0\n",
    "\n",
    "# Aumenta a pontuação se a \"Main Category\" ou \"Sub Category\" corresponder13\n",
    "2555\n",
    "\n",
    "dataset.loc[dataset['Main Category'] == main_category_input, 'score'] += 1\n",
    "dataset.loc[dataset['Sub Category'] == sub_category_input, 'score'] += 1\n",
    "dataset.loc[dataset['Side Category'] == side_category_input, 'score'] += 1\n",
    "dataset.loc[dataset['Other Category'] == other_category_input, 'score'] += 1\n"
   ]
  },
  {
   "cell_type": "code",
   "execution_count": 463,
   "metadata": {},
   "outputs": [
    {
     "name": "stdout",
     "output_type": "stream",
     "text": [
      "                                           Product Name Selling Price  \\\n",
      "8116                         Hansa - Cow, Brown & White        $52.85   \n",
      "3276  GUND Deluxe Pusheen Cat Plush Stuffed Animal, ...        $37.16   \n",
      "7144                           HANSA Scorpion 14\" Plush        $16.31   \n",
      "4840  Wild Republic Audubon Birds Collection with Au...        $24.99   \n",
      "7138  GUND Pusheen Snackables Ice Cream Plush Stuffe...        $15.30   \n",
      "...                                                 ...           ...   \n",
      "2663     Ertl John Deere 850K Diecast Dozer, 1:50-Scale        $40.56   \n",
      "2674  Pulchra Ssss.Gridman: Rikka Takarada 1: 6 Scal...       $180.30   \n",
      "2677  Funko POP Disney Day of The Dead Jack Skelling...        $10.99   \n",
      "9456  Trends International DC Comics - Batman - Robi...        $39.92   \n",
      "2878  3Doodler Start Product Design Themed Activity ...        $49.85   \n",
      "\n",
      "                                          About Product  \\\n",
      "8116  Handcrafted, highly realistic and very cuddly ...   \n",
      "3276  Make sure this fits by entering your model num...   \n",
      "7144  Make sure this fits by entering your model num...   \n",
      "4840  Make sure this fits by entering your model num...   \n",
      "7138  Make sure this fits by entering your model num...   \n",
      "...                                                 ...   \n",
      "2663  Make sure this fits by entering your model num...   \n",
      "2674  Make sure this fits by entering your model num...   \n",
      "2677  Make sure this fits by entering your model num...   \n",
      "9456  Make sure this fits by entering your model num...   \n",
      "2878  For kids who love to design & personalize: wit...   \n",
      "\n",
      "                                  Product Specification Shipping Weight  \\\n",
      "8116  ProductDimensions:15.8x5.9x10.2inches|ItemWeig...      1.1 pounds   \n",
      "3276  ProductDimensions:7.8x14.4x7.2inches|ItemWeigh...     15.2 ounces   \n",
      "7144  ProductDimensions:9.4x14.4x5.8inches|ItemWeigh...      4.3 ounces   \n",
      "4840  Product Dimensions:         4.5 x 4 x 4 inches...      1.1 pounds   \n",
      "7138  ProductDimensions:8x7.5x9.5inches|ItemWeight:6...      8.8 ounces   \n",
      "...                                                 ...             ...   \n",
      "2663  ProductDimensions:5.5x2.7x2.5inches|ItemWeight...     1.12 pounds   \n",
      "2674  ProductDimensions:4x3x10.2inches|ItemWeight:1....     1.32 pounds   \n",
      "2677  ProductDimensions:2.5x2.5x3.8inches|ItemWeight...     3.84 ounces   \n",
      "9456  ProductDimensions:16.5x24.2x0.8inches|ItemWeig...      2.3 pounds   \n",
      "2878  ProductDimensions:8.1x5.8x2.8inches|ItemWeight...     10.4 ounces   \n",
      "\n",
      "     Main Category                  Sub Category  \\\n",
      "8116  Toys & Games  Stuffed Animals & Plush Toys   \n",
      "3276  Toys & Games  Stuffed Animals & Plush Toys   \n",
      "7144  Toys & Games  Stuffed Animals & Plush Toys   \n",
      "4840  Toys & Games  Stuffed Animals & Plush Toys   \n",
      "7138  Toys & Games  Stuffed Animals & Plush Toys   \n",
      "...            ...                           ...   \n",
      "2663  Toys & Games                       Hobbies   \n",
      "2674  Toys & Games        Toy Figures & Playsets   \n",
      "2677  Toys & Games              Collectible Toys   \n",
      "9456  Toys & Games        Toy Figures & Playsets   \n",
      "2878  Toys & Games       Dress Up & Pretend Play   \n",
      "\n",
      "                      Side Category              Other Category  \n",
      "8116                  Plush Figures                        None  \n",
      "3276  Stuffed Animals & Teddy Bears                        None  \n",
      "7144                           None                        None  \n",
      "4840  Stuffed Animals & Teddy Bears                        None  \n",
      "7138  Stuffed Animals & Teddy Bears                        None  \n",
      "...                             ...                         ...  \n",
      "2663            Models & Model Kits  Pre-Built & Diecast Models  \n",
      "2674                           None                        None  \n",
      "2677   Statues, Bobbleheads & Busts                        None  \n",
      "9456                 Action Figures                        None  \n",
      "2878                   Pretend Play                  Play Tools  \n",
      "\n",
      "[5556 rows x 9 columns]\n"
     ]
    }
   ],
   "source": [
    "\n",
    "# Ordena os produtos com base na pontuação, do mais alto para o mais baixo\n",
    "produtos_recomendados = dataset.sort_values(by='score', ascending=False)\n",
    "\n",
    "# Remove produtos com pontuação 0 (sem correspondência)\n",
    "produtos_recomendados = produtos_recomendados[produtos_recomendados['score'] > 0]\n",
    "\n",
    "# Remove a coluna de pontuação antes de retornar\n",
    "produtos_recomendados = produtos_recomendados.drop(columns='score')\n",
    "\n",
    "# Retorna as recomendações\n",
    "if produtos_recomendados.empty:\n",
    "    print('Nenhuma recomendação encontrada para essas categorias.')\n",
    "\n",
    "print(produtos_recomendados)"
   ]
  }
 ],
 "metadata": {
  "kernelspec": {
   "display_name": "Python 3",
   "language": "python",
   "name": "python3"
  },
  "language_info": {
   "codemirror_mode": {
    "name": "ipython",
    "version": 3
   },
   "file_extension": ".py",
   "mimetype": "text/x-python",
   "name": "python",
   "nbconvert_exporter": "python",
   "pygments_lexer": "ipython3",
   "version": "3.7.12"
  }
 },
 "nbformat": 4,
 "nbformat_minor": 2
}
