{
 "cells": [
  {
   "cell_type": "code",
   "execution_count": 6,
   "metadata": {},
   "outputs": [
    {
     "name": "stdout",
     "output_type": "stream",
     "text": [
      "<class 'pandas.core.frame.DataFrame'>\n",
      "RangeIndex: 10002 entries, 0 to 10001\n",
      "Data columns (total 28 columns):\n",
      " #   Column                 Non-Null Count  Dtype  \n",
      "---  ------                 --------------  -----  \n",
      " 0   Uniq Id                10002 non-null  object \n",
      " 1   Product Name           10002 non-null  object \n",
      " 2   Brand Name             0 non-null      float64\n",
      " 3   Asin                   0 non-null      float64\n",
      " 4   Category               9172 non-null   object \n",
      " 5   Upc Ean Code           34 non-null     object \n",
      " 6   List Price             0 non-null      float64\n",
      " 7   Selling Price          9895 non-null   object \n",
      " 8   Quantity               0 non-null      float64\n",
      " 9   Model Number           8232 non-null   object \n",
      " 10  About Product          9729 non-null   object \n",
      " 11  Product Specification  8370 non-null   object \n",
      " 12  Technical Details      9212 non-null   object \n",
      " 13  Shipping Weight        8864 non-null   object \n",
      " 14  Product Dimensions     479 non-null    object \n",
      " 15  Image                  10002 non-null  object \n",
      " 16  Variants               2478 non-null   object \n",
      " 17  Sku                    0 non-null      float64\n",
      " 18  Product Url            10002 non-null  object \n",
      " 19  Stock                  0 non-null      float64\n",
      " 20  Product Details        0 non-null      float64\n",
      " 21  Dimensions             0 non-null      float64\n",
      " 22  Color                  0 non-null      float64\n",
      " 23  Ingredients            0 non-null      float64\n",
      " 24  Direction To Use       0 non-null      float64\n",
      " 25  Is Amazon Seller       10002 non-null  object \n",
      " 26  Size Quantity Variant  0 non-null      float64\n",
      " 27  Product Description    0 non-null      float64\n",
      "dtypes: float64(13), object(15)\n",
      "memory usage: 2.1+ MB\n"
     ]
    }
   ],
   "source": [
    "import pandas as pd\n",
    "import numpy as np\n",
    "\n",
    "dataset = pd.read_csv(\"../data/AmazonData.csv\")\n",
    "dataset.info()"
   ]
  },
  {
   "cell_type": "code",
   "execution_count": 7,
   "metadata": {},
   "outputs": [
    {
     "name": "stdout",
     "output_type": "stream",
     "text": [
      "<class 'pandas.core.frame.DataFrame'>\n",
      "Int64Index: 7216 entries, 0 to 10001\n",
      "Data columns (total 6 columns):\n",
      " #   Column                 Non-Null Count  Dtype \n",
      "---  ------                 --------------  ----- \n",
      " 0   Product Name           7216 non-null   object\n",
      " 1   Category               7216 non-null   object\n",
      " 2   Selling Price          7216 non-null   object\n",
      " 3   About Product          7216 non-null   object\n",
      " 4   Product Specification  7216 non-null   object\n",
      " 5   Shipping Weight        7216 non-null   object\n",
      "dtypes: object(6)\n",
      "memory usage: 394.6+ KB\n"
     ]
    }
   ],
   "source": [
    "cols = [0,2,3,5,6,8,9,12,14,15,16,17,18,19,20,21,22,23,24,25,26,27]\n",
    "dataset.drop(dataset.columns[cols], axis =1, inplace=True)\n",
    "dataset.dropna(inplace = True)\n",
    "dataset.info()"
   ]
  },
  {
   "cell_type": "code",
   "execution_count": 8,
   "metadata": {},
   "outputs": [],
   "source": [
    "new = dataset[\"Category\"].str.split(\"|\", n = 3, expand = True)\n",
    "new = new.apply(lambda x: x.str.strip())\n",
    "  \n",
    "# making the first category called Main Category\n",
    "dataset[\"Main Category\"]= new[0] \n",
    "  \n",
    "# making the second category called sub_category \n",
    "dataset[\"Sub Category\"]= new[1]\n",
    "\n",
    "# making the third category called side_category \n",
    "dataset[\"Side Category\"]= new[2]\n",
    "\n",
    "# making the last column consist of the remaining categories\n",
    "dataset[\"Other Category\"]= new[3]\n",
    "\n",
    "# Dropping old category columns and the remaining categories \n",
    "dataset.drop(columns =[\"Category\"], inplace = True)"
   ]
  },
  {
   "cell_type": "code",
   "execution_count": 9,
   "metadata": {},
   "outputs": [
    {
     "name": "stdout",
     "output_type": "stream",
     "text": [
      "<class 'pandas.core.frame.DataFrame'>\n",
      "Int64Index: 7216 entries, 0 to 10001\n",
      "Data columns (total 9 columns):\n",
      " #   Column                 Non-Null Count  Dtype \n",
      "---  ------                 --------------  ----- \n",
      " 0   Product Name           7216 non-null   object\n",
      " 1   Selling Price          7216 non-null   object\n",
      " 2   About Product          7216 non-null   object\n",
      " 3   Product Specification  7216 non-null   object\n",
      " 4   Shipping Weight        7216 non-null   object\n",
      " 5   Main Category          7216 non-null   object\n",
      " 6   Sub Category           7216 non-null   object\n",
      " 7   Side Category          6231 non-null   object\n",
      " 8   Other Category         2791 non-null   object\n",
      "dtypes: object(9)\n",
      "memory usage: 563.8+ KB\n"
     ]
    }
   ],
   "source": [
    "dataset.info()"
   ]
  },
  {
   "cell_type": "code",
   "execution_count": 10,
   "metadata": {},
   "outputs": [
    {
     "name": "stdout",
     "output_type": "stream",
     "text": [
      "\n",
      "Produto selecionado:\n",
      "Product Name             LEGO Minecraft Creeper BigFig and Ocelot Chara...\n",
      "Selling Price                                                       $14.99\n",
      "About Product            Make sure this fits by entering your model num...\n",
      "Product Specification    ProductDimensions:5.5x7.5x1.8inches|ItemWeight...\n",
      "Shipping Weight                                                 5.6 ounces\n",
      "Main Category                                                 Toys & Games\n",
      "Sub Category                                                 Building Toys\n",
      "Side Category                                                Building Sets\n",
      "Other Category                                                        None\n",
      "Name: 13, dtype: object\n",
      "\n",
      "\n",
      "Toys & Games\n",
      "Building Toys\n",
      "Building Sets\n",
      "None\n"
     ]
    }
   ],
   "source": [
    "product_line = int(input(\"Digite o número do produto: \"))\n",
    "product_line = product_line - 2\n",
    "\n",
    "if 0 <= product_line < len(dataset):\n",
    "    produto_selecionado = dataset.iloc[product_line]  # Seleciona o produto pela linha\n",
    "    print(\"\\nProduto selecionado:\")\n",
    "    print(produto_selecionado)\n",
    "else:\n",
    "    print(\"Número de linha inválido. Tente novamente.\")\n",
    "\n",
    "main_category_input = produto_selecionado['Main Category']\n",
    "sub_category_input = produto_selecionado['Sub Category']\n",
    "side_category_input = produto_selecionado['Side Category']\n",
    "other_category_input = produto_selecionado['Other Category']\n",
    "\n",
    "print(\"\\n\")\n",
    "print(main_category_input)\n",
    "print(sub_category_input)\n",
    "print(side_category_input)\n",
    "print(other_category_input)\n"
   ]
  },
  {
   "cell_type": "code",
   "execution_count": 11,
   "metadata": {},
   "outputs": [],
   "source": [
    "# Verifica se as categorias fornecidas são válidas\n",
    "if main_category_input not in dataset['Main Category'].unique():\n",
    "    print('Main Category não encontrada na base de dados.')\n",
    "if sub_category_input not in dataset['Sub Category'].unique():\n",
    "    print('Subcategoria não encontrada na base de dados.')\n",
    "if side_category_input not in dataset['Side Category'].unique():\n",
    "    print('Side Category não encontrada na base de dados.')\n",
    "if other_category_input not in dataset['Other Category'].unique():\n",
    "    print('Other Category não encontrada na base de dados.')"
   ]
  },
  {
   "cell_type": "code",
   "execution_count": 12,
   "metadata": {},
   "outputs": [],
   "source": [
    "\n",
    "# Calcula uma pontuação para cada produto com base na similaridade das categorias\n",
    "dataset['score'] = 0\n",
    "\n",
    "# Aumenta a pontuação se a \"Main Category\" ou \"Sub Category\" corresponder\n",
    "dataset.loc[dataset['Main Category'] == main_category_input, 'score'] += 1\n",
    "dataset.loc[dataset['Sub Category'] == sub_category_input, 'score'] += 1\n",
    "dataset.loc[dataset['Side Category'] == side_category_input, 'score'] += 1\n",
    "dataset.loc[dataset['Other Category'] == other_category_input, 'score'] += 1\n"
   ]
  },
  {
   "cell_type": "code",
   "execution_count": 13,
   "metadata": {},
   "outputs": [
    {
     "name": "stdout",
     "output_type": "stream",
     "text": [
      "                                           Product Name Selling Price  \\\n",
      "195   LEGO Creator Expert Gingerbread House 10267 Bu...        $99.99   \n",
      "3690    PLAYMOBIL Horse Stable with Araber Building Set        $14.99   \n",
      "1154                                 Lauri Toddler Tote        $11.99   \n",
      "8159  Mega Construx Call Of Duty Care Package Wwii B...         $5.99   \n",
      "2216  LEGO NINJAGO Spinjitzu Zane 70661 Building Kit...        $15.95   \n",
      "...                                                 ...           ...   \n",
      "2627  Manhattan Toy Natural Historian Opposites Padd...         $7.99   \n",
      "9470     Squadron Products Tools Rubber Block Model Kit        $16.53   \n",
      "9424                          Runewars: Essentials Pack         $9.99   \n",
      "9423  Harvey Ball 2-Tier Lacquer Bento Lunch Box wit...        $24.77   \n",
      "2880  Calypso Studios Inc. 3\" Comforting Clay Cross ...         $8.99   \n",
      "\n",
      "                                          About Product  \\\n",
      "195   Make sure this fits by entering your model num...   \n",
      "3690  Make sure this fits by entering your model num...   \n",
      "1154  Make sure this fits by entering your model num...   \n",
      "8159  Make sure this fits by entering your model num...   \n",
      "2216  Make sure this fits by entering your model num...   \n",
      "...                                                 ...   \n",
      "2627  Make sure this fits by entering your model num...   \n",
      "9470  Handy when filing | Handy when using a punch |...   \n",
      "9424  Make sure this fits by entering your model num...   \n",
      "9423  Make sure this fits by entering your model num...   \n",
      "2880  Make sure this fits by entering your model num...   \n",
      "\n",
      "                                  Product Specification Shipping Weight  \\\n",
      "195   ProductDimensions:18.9x11.1x3.6inches|ItemWeig...     3.35 pounds   \n",
      "3690  ProductDimensions:3.6x7.3x11.1inches|ItemWeigh...     1.06 pounds   \n",
      "1154  ProductDimensions:9x2x10inches|ItemWeight:10.6...     11.2 ounces   \n",
      "8159  ProductDimensions:1.1x5x6inches|ItemWeight:2.7...      6.4 ounces   \n",
      "2216  ProductDimensions:9.4x9.1x2.4inches|ItemWeight...      4.8 ounces   \n",
      "...                                                 ...             ...   \n",
      "2627  ProductDimensions:6x0.8x6inches|ItemWeight:6.4...      6.9 ounces   \n",
      "9470  ProductDimensions:4x4x1inches|ItemWeight:9.9ou...      9.9 ounces   \n",
      "9424  ProductDimensions:11.1x2.1x8.7inches|ItemWeigh...     1.32 pounds   \n",
      "9423  ProductDimensions:4x4x3inches|ItemWeight:7.8ou...      7.8 ounces   \n",
      "2880  ProductDimensions:3x1x0.8inches|ItemWeight:0.8...     1.44 ounces   \n",
      "\n",
      "     Main Category                      Sub Category  \\\n",
      "195   Toys & Games                     Building Toys   \n",
      "3690  Toys & Games                     Building Toys   \n",
      "1154  Toys & Games                     Building Toys   \n",
      "8159  Toys & Games                     Building Toys   \n",
      "2216  Toys & Games                     Building Toys   \n",
      "...            ...                               ...   \n",
      "2627  Toys & Games               Baby & Toddler Toys   \n",
      "9470  Toys & Games                           Hobbies   \n",
      "9424  Toys & Games               Games & Accessories   \n",
      "9423  Toys & Games  Kids' Furniture, Décor & Storage   \n",
      "2880  Toys & Games                     Arts & Crafts   \n",
      "\n",
      "                        Side Category Other Category  \n",
      "195                     Building Sets           None  \n",
      "3690                    Building Sets           None  \n",
      "1154                    Building Sets           None  \n",
      "8159                    Building Sets           None  \n",
      "2216                    Building Sets           None  \n",
      "...                               ...            ...  \n",
      "2627                             None           None  \n",
      "9470  Hobby Building Tools & Hardware           None  \n",
      "9424                      Board Games           None  \n",
      "9423          Backpacks & Lunch Boxes    Lunch Boxes  \n",
      "2880                     Clay & Dough           None  \n",
      "\n",
      "[5556 rows x 9 columns]\n"
     ]
    }
   ],
   "source": [
    "\n",
    "# Ordena os produtos com base na pontuação, do mais alto para o mais baixo\n",
    "produtos_recomendados = dataset.sort_values(by='score', ascending=False)\n",
    "\n",
    "# Remove produtos com pontuação 0 (sem correspondência)\n",
    "produtos_recomendados = produtos_recomendados[produtos_recomendados['score'] > 0]\n",
    "\n",
    "# Remove a coluna de pontuação antes de retornar\n",
    "produtos_recomendados = produtos_recomendados.drop(columns='score')\n",
    "\n",
    "# Retorna as recomendações\n",
    "if produtos_recomendados.empty:\n",
    "    print('Nenhuma recomendação encontrada para essas categorias.')\n",
    "\n",
    "print(produtos_recomendados)"
   ]
  }
 ],
 "metadata": {
  "kernelspec": {
   "display_name": "tcc",
   "language": "python",
   "name": "python3"
  },
  "language_info": {
   "codemirror_mode": {
    "name": "ipython",
    "version": 3
   },
   "file_extension": ".py",
   "mimetype": "text/x-python",
   "name": "python",
   "nbconvert_exporter": "python",
   "pygments_lexer": "ipython3",
   "version": "3.7.12"
  }
 },
 "nbformat": 4,
 "nbformat_minor": 2
}
