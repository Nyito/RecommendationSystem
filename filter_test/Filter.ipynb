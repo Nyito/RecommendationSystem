{
 "cells": [
  {
   "cell_type": "code",
   "execution_count": 41,
   "metadata": {},
   "outputs": [
    {
     "name": "stdout",
     "output_type": "stream",
     "text": [
      "<class 'pandas.core.frame.DataFrame'>\n",
      "RangeIndex: 10002 entries, 0 to 10001\n",
      "Data columns (total 28 columns):\n",
      " #   Column                 Non-Null Count  Dtype  \n",
      "---  ------                 --------------  -----  \n",
      " 0   Uniq Id                10002 non-null  object \n",
      " 1   Product Name           10002 non-null  object \n",
      " 2   Brand Name             0 non-null      float64\n",
      " 3   Asin                   0 non-null      float64\n",
      " 4   Category               9172 non-null   object \n",
      " 5   Upc Ean Code           34 non-null     object \n",
      " 6   List Price             0 non-null      float64\n",
      " 7   Selling Price          9895 non-null   object \n",
      " 8   Quantity               0 non-null      float64\n",
      " 9   Model Number           8232 non-null   object \n",
      " 10  About Product          9729 non-null   object \n",
      " 11  Product Specification  8370 non-null   object \n",
      " 12  Technical Details      9212 non-null   object \n",
      " 13  Shipping Weight        8864 non-null   object \n",
      " 14  Product Dimensions     479 non-null    object \n",
      " 15  Image                  10002 non-null  object \n",
      " 16  Variants               2478 non-null   object \n",
      " 17  Sku                    0 non-null      float64\n",
      " 18  Product Url            10002 non-null  object \n",
      " 19  Stock                  0 non-null      float64\n",
      " 20  Product Details        0 non-null      float64\n",
      " 21  Dimensions             0 non-null      float64\n",
      " 22  Color                  0 non-null      float64\n",
      " 23  Ingredients            0 non-null      float64\n",
      " 24  Direction To Use       0 non-null      float64\n",
      " 25  Is Amazon Seller       10002 non-null  object \n",
      " 26  Size Quantity Variant  0 non-null      float64\n",
      " 27  Product Description    0 non-null      float64\n",
      "dtypes: float64(13), object(15)\n",
      "memory usage: 2.1+ MB\n"
     ]
    }
   ],
   "source": [
    "import pandas as pd\n",
    "import numpy as np\n",
    "\n",
    "dataset = pd.read_csv(\"AmazonData.csv\")\n",
    "dataset.info()"
   ]
  },
  {
   "cell_type": "code",
   "execution_count": 42,
   "metadata": {},
   "outputs": [
    {
     "name": "stdout",
     "output_type": "stream",
     "text": [
      "<class 'pandas.core.frame.DataFrame'>\n",
      "Int64Index: 7216 entries, 0 to 10001\n",
      "Data columns (total 6 columns):\n",
      " #   Column                 Non-Null Count  Dtype \n",
      "---  ------                 --------------  ----- \n",
      " 0   Product Name           7216 non-null   object\n",
      " 1   Category               7216 non-null   object\n",
      " 2   Selling Price          7216 non-null   object\n",
      " 3   About Product          7216 non-null   object\n",
      " 4   Product Specification  7216 non-null   object\n",
      " 5   Shipping Weight        7216 non-null   object\n",
      "dtypes: object(6)\n",
      "memory usage: 394.6+ KB\n"
     ]
    }
   ],
   "source": [
    "cols = [0,2,3,5,6,8,9,12,14,15,16,17,18,19,20,21,22,23,24,25,26,27]\n",
    "dataset.drop(dataset.columns[cols], axis =1, inplace=True)\n",
    "dataset.dropna(inplace = True)\n",
    "dataset.info()"
   ]
  },
  {
   "cell_type": "code",
   "execution_count": 43,
   "metadata": {},
   "outputs": [],
   "source": [
    "new = dataset[\"Category\"].str.split(\"|\", n = 3, expand = True)\n",
    "new = new.apply(lambda x: x.str.strip())\n",
    "  \n",
    "# making the first category called Main Category\n",
    "dataset[\"Main Category\"]= new[0] \n",
    "  \n",
    "# making the second category called sub_category \n",
    "dataset[\"Sub Category\"]= new[1]\n",
    "\n",
    "# making the third category called side_category \n",
    "dataset[\"Side Category\"]= new[2]\n",
    "\n",
    "# making the last column consist of the remaining categories\n",
    "dataset[\"Other Category\"]= new[3]\n",
    "\n",
    "# Dropping old category columns and the remaining categories \n",
    "dataset.drop(columns =[\"Category\"], inplace = True)"
   ]
  },
  {
   "cell_type": "code",
   "execution_count": 44,
   "metadata": {},
   "outputs": [
    {
     "name": "stdout",
     "output_type": "stream",
     "text": [
      "<class 'pandas.core.frame.DataFrame'>\n",
      "Int64Index: 7216 entries, 0 to 10001\n",
      "Data columns (total 9 columns):\n",
      " #   Column                 Non-Null Count  Dtype \n",
      "---  ------                 --------------  ----- \n",
      " 0   Product Name           7216 non-null   object\n",
      " 1   Selling Price          7216 non-null   object\n",
      " 2   About Product          7216 non-null   object\n",
      " 3   Product Specification  7216 non-null   object\n",
      " 4   Shipping Weight        7216 non-null   object\n",
      " 5   Main Category          7216 non-null   object\n",
      " 6   Sub Category           7216 non-null   object\n",
      " 7   Side Category          6231 non-null   object\n",
      " 8   Other Category         2791 non-null   object\n",
      "dtypes: object(9)\n",
      "memory usage: 563.8+ KB\n"
     ]
    }
   ],
   "source": [
    "dataset.info()"
   ]
  },
  {
   "cell_type": "code",
   "execution_count": 45,
   "metadata": {},
   "outputs": [
    {
     "name": "stdout",
     "output_type": "stream",
     "text": [
      "\n",
      "Produto selecionado:\n",
      "Product Name             Rubie's Child's Pokemon Deluxe Pikachu Costume...\n",
      "Selling Price                                                       $29.12\n",
      "About Product            Make sure this fits by entering your model num...\n",
      "Product Specification    ProductDimensions:16x8x1inches|ItemWeight:1pou...\n",
      "Shipping Weight                                                 9.8 ounces\n",
      "Main Category                                    Clothing, Shoes & Jewelry\n",
      "Sub Category                                        Costumes & Accessories\n",
      "Side Category                                                  Kids & Baby\n",
      "Other Category                                            Girls | Costumes\n",
      "Name: 6, dtype: object\n",
      "\n",
      "\n",
      "Clothing, Shoes & Jewelry\n",
      "Costumes & Accessories\n",
      "Kids & Baby\n",
      "Girls | Costumes\n"
     ]
    }
   ],
   "source": [
    "product_line = int(input(\"Digite o número do produto: \"))\n",
    "product_line = product_line - 2\n",
    "\n",
    "if 0 <= product_line < len(dataset):\n",
    "    produto_selecionado = dataset.iloc[product_line]  # Seleciona o produto pela linha\n",
    "    print(\"\\nProduto selecionado:\")\n",
    "    print(produto_selecionado)\n",
    "else:\n",
    "    print(\"Número de linha inválido. Tente novamente.\")\n",
    "\n",
    "main_category_input = produto_selecionado['Main Category']\n",
    "sub_category_input = produto_selecionado['Sub Category']\n",
    "side_category_input = produto_selecionado['Side Category']\n",
    "other_category_input = produto_selecionado['Other Category']\n",
    "\n",
    "print(\"\\n\")\n",
    "print(main_category_input)\n",
    "print(sub_category_input)\n",
    "print(side_category_input)\n",
    "print(other_category_input)\n"
   ]
  },
  {
   "cell_type": "code",
   "execution_count": 46,
   "metadata": {},
   "outputs": [],
   "source": [
    "# Verifica se as categorias fornecidas são válidas\n",
    "if main_category_input not in dataset['Main Category'].unique():\n",
    "    print('Main Category não encontrada na base de dados.')\n",
    "if sub_category_input not in dataset['Sub Category'].unique():\n",
    "    print('Subcategoria não encontrada na base de dados.')\n",
    "if side_category_input not in dataset['Side Category'].unique():\n",
    "    print('Side Category não encontrada na base de dados.')\n",
    "if other_category_input not in dataset['Other Category'].unique():\n",
    "    print('Other Category não encontrada na base de dados.')"
   ]
  },
  {
   "cell_type": "code",
   "execution_count": 47,
   "metadata": {},
   "outputs": [],
   "source": [
    "\n",
    "# Calcula uma pontuação para cada produto com base na similaridade das categorias\n",
    "dataset['score'] = 0\n",
    "\n",
    "# Aumenta a pontuação se a \"Main Category\" ou \"Sub Category\" corresponder\n",
    "\n",
    "dataset.loc[dataset['Main Category'] == main_category_input, 'score'] += 1\n",
    "dataset.loc[dataset['Sub Category'] == sub_category_input, 'score'] += 1\n",
    "dataset.loc[dataset['Side Category'] == side_category_input, 'score'] += 1\n",
    "dataset.loc[dataset['Other Category'] == other_category_input, 'score'] += 1\n"
   ]
  },
  {
   "cell_type": "code",
   "execution_count": 48,
   "metadata": {},
   "outputs": [
    {
     "name": "stdout",
     "output_type": "stream",
     "text": [
      "                                           Product Name Selling Price  \\\n",
      "7359                    Medieval Princess Girls Costume        $27.24   \n",
      "8901  Rubie's Costume Girls DC Superhero Deluxe Star...        $16.43   \n",
      "8744  Princess Paradise Skele-Bat Child's Costume, 1...        $31.92   \n",
      "2397                          Cool Ghoul Costume, Large        $12.61   \n",
      "1493   Disney Minnie Mouse Toddler Girls' Costume, Pink        $17.46   \n",
      "...                                                 ...           ...   \n",
      "5764  Marvel Avengers Assemble Captain America Costu...        $18.75   \n",
      "4420  Great Eastern Entertainment Hellsing OVA Penta...         $7.14   \n",
      "7982                      Batgirl Glitter Slipper Shoes         $9.32   \n",
      "8728  The Riddler-Poison DC Comics Originals Ivy Str...        $11.99   \n",
      "6443  Great Eastern Entertainment Negima School Logo...         $3.55   \n",
      "\n",
      "                                          About Product  \\\n",
      "7359  Make sure this fits by entering your model num...   \n",
      "8901  Make sure this fits by entering your model num...   \n",
      "8744  Make sure this fits by entering your model num...   \n",
      "2397  Make sure this fits by entering your model num...   \n",
      "1493  Make sure this fits by entering your model num...   \n",
      "...                                                 ...   \n",
      "5764  Make sure this fits by entering your model num...   \n",
      "4420  Make sure this fits by entering your model num...   \n",
      "7982  Make sure this fits by entering your model num...   \n",
      "8728  Make sure this fits by entering your model num...   \n",
      "6443  Make sure this fits by entering your model num...   \n",
      "\n",
      "                                  Product Specification Shipping Weight  \\\n",
      "7359  ProductDimensions:15x11x1inches|ItemWeight:1.1...      1.1 pounds   \n",
      "8901  ProductDimensions:12x2x15inches|ItemWeight:10....     10.4 ounces   \n",
      "8744  ProductDimensions:17x16x2inches|ItemWeight:1po...     1.03 pounds   \n",
      "2397  PackageDimensions:17x11.3x1.8inches|ItemWeight...     15.2 ounces   \n",
      "1493  ProductDimensions:27x2x15inches|ItemWeight:8ou...        8 ounces   \n",
      "...                                                 ...             ...   \n",
      "5764  ProductDimensions:18x12x3inches|ItemWeight:6.7...        8 ounces   \n",
      "4420  ProductDimensions:3x1x1inches|ItemWeight:1.6ou...      1.6 ounces   \n",
      "7982  ProductDimensions:5x3x1inches|ItemWeight:2.4ou...      2.4 ounces   \n",
      "8728  ProductDimensions:2.5x1x3.5inches|ItemWeight:1...     1.44 ounces   \n",
      "6443  ProductDimensions:5.8x3.8x1.5inches|ItemWeight...      1.6 ounces   \n",
      "\n",
      "                  Main Category            Sub Category Side Category  \\\n",
      "7359  Clothing, Shoes & Jewelry  Costumes & Accessories   Kids & Baby   \n",
      "8901  Clothing, Shoes & Jewelry  Costumes & Accessories   Kids & Baby   \n",
      "8744  Clothing, Shoes & Jewelry  Costumes & Accessories   Kids & Baby   \n",
      "2397  Clothing, Shoes & Jewelry  Costumes & Accessories   Kids & Baby   \n",
      "1493  Clothing, Shoes & Jewelry  Costumes & Accessories   Kids & Baby   \n",
      "...                         ...                     ...           ...   \n",
      "5764  Clothing, Shoes & Jewelry                     Men          None   \n",
      "4420  Clothing, Shoes & Jewelry          Novelty & More      Clothing   \n",
      "7982  Clothing, Shoes & Jewelry                   Women         Shoes   \n",
      "8728  Clothing, Shoes & Jewelry          Novelty & More      Clothing   \n",
      "6443  Clothing, Shoes & Jewelry                     Men   Accessories   \n",
      "\n",
      "                                        Other Category  \n",
      "7359                                  Girls | Costumes  \n",
      "8901                                  Girls | Costumes  \n",
      "8744                                  Girls | Costumes  \n",
      "2397                                  Girls | Costumes  \n",
      "1493                                  Girls | Costumes  \n",
      "...                                                ...  \n",
      "5764                                              None  \n",
      "4420         Novelty | Women | Accessories | Keychains  \n",
      "7982                                          Slippers  \n",
      "8728          Novelty | Boys | Accessories | Keychains  \n",
      "6443  Wallets, Card Cases & Money Organizers | Wallets  \n",
      "\n",
      "[258 rows x 9 columns]\n"
     ]
    }
   ],
   "source": [
    "\n",
    "# Ordena os produtos com base na pontuação, do mais alto para o mais baixo\n",
    "produtos_recomendados = dataset.sort_values(by='score', ascending=False)\n",
    "\n",
    "# Remove produtos com pontuação 0 (sem correspondência)\n",
    "produtos_recomendados = produtos_recomendados[produtos_recomendados['score'] > 0]\n",
    "\n",
    "# Remove a coluna de pontuação antes de retornar\n",
    "produtos_recomendados = produtos_recomendados.drop(columns='score')\n",
    "\n",
    "# Retorna as recomendações\n",
    "if produtos_recomendados.empty:\n",
    "    print('Nenhuma recomendação encontrada para essas categorias.')\n",
    "\n",
    "print(produtos_recomendados)"
   ]
  }
 ],
 "metadata": {
  "kernelspec": {
   "display_name": "Python 3",
   "language": "python",
   "name": "python3"
  },
  "language_info": {
   "codemirror_mode": {
    "name": "ipython",
    "version": 3
   },
   "file_extension": ".py",
   "mimetype": "text/x-python",
   "name": "python",
   "nbconvert_exporter": "python",
   "pygments_lexer": "ipython3",
   "version": "3.7.12"
  }
 },
 "nbformat": 4,
 "nbformat_minor": 2
}
