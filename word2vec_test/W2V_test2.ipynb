{
 "cells": [
  {
   "cell_type": "code",
   "execution_count": 437,
   "metadata": {},
   "outputs": [
    {
     "name": "stderr",
     "output_type": "stream",
     "text": [
      "[nltk_data] Downloading package stopwords to /home/leo/nltk_data...\n",
      "[nltk_data]   Package stopwords is already up-to-date!\n"
     ]
    }
   ],
   "source": [
    "import pandas as pd\n",
    "import numpy as np\n",
    "\n",
    "import nltk\n",
    "nltk.download('stopwords')\n",
    "from gensim.models import Word2Vec\n",
    "from sklearn.metrics.pairwise import cosine_similarity\n"
   ]
  },
  {
   "cell_type": "code",
   "execution_count": 438,
   "metadata": {},
   "outputs": [
    {
     "name": "stdout",
     "output_type": "stream",
     "text": [
      "<class 'pandas.core.frame.DataFrame'>\n",
      "RangeIndex: 10002 entries, 0 to 10001\n",
      "Data columns (total 28 columns):\n",
      " #   Column                 Non-Null Count  Dtype  \n",
      "---  ------                 --------------  -----  \n",
      " 0   Uniq Id                10002 non-null  object \n",
      " 1   Product Name           10002 non-null  object \n",
      " 2   Brand Name             0 non-null      float64\n",
      " 3   Asin                   0 non-null      float64\n",
      " 4   Category               9172 non-null   object \n",
      " 5   Upc Ean Code           34 non-null     object \n",
      " 6   List Price             0 non-null      float64\n",
      " 7   Selling Price          9895 non-null   object \n",
      " 8   Quantity               0 non-null      float64\n",
      " 9   Model Number           8232 non-null   object \n",
      " 10  About Product          9729 non-null   object \n",
      " 11  Product Specification  8370 non-null   object \n",
      " 12  Technical Details      9212 non-null   object \n",
      " 13  Shipping Weight        8864 non-null   object \n",
      " 14  Product Dimensions     479 non-null    object \n",
      " 15  Image                  10002 non-null  object \n",
      " 16  Variants               2478 non-null   object \n",
      " 17  Sku                    0 non-null      float64\n",
      " 18  Product Url            10002 non-null  object \n",
      " 19  Stock                  0 non-null      float64\n",
      " 20  Product Details        0 non-null      float64\n",
      " 21  Dimensions             0 non-null      float64\n",
      " 22  Color                  0 non-null      float64\n",
      " 23  Ingredients            0 non-null      float64\n",
      " 24  Direction To Use       0 non-null      float64\n",
      " 25  Is Amazon Seller       10002 non-null  object \n",
      " 26  Size Quantity Variant  0 non-null      float64\n",
      " 27  Product Description    0 non-null      float64\n",
      "dtypes: float64(13), object(15)\n",
      "memory usage: 2.1+ MB\n"
     ]
    }
   ],
   "source": [
    "dataset = pd.read_csv(\"AmazonData.csv\")\n",
    "dataset.info()"
   ]
  },
  {
   "cell_type": "code",
   "execution_count": 439,
   "metadata": {},
   "outputs": [
    {
     "name": "stdout",
     "output_type": "stream",
     "text": [
      "<class 'pandas.core.frame.DataFrame'>\n",
      "Int64Index: 7216 entries, 0 to 10001\n",
      "Data columns (total 6 columns):\n",
      " #   Column                 Non-Null Count  Dtype \n",
      "---  ------                 --------------  ----- \n",
      " 0   Product Name           7216 non-null   object\n",
      " 1   Category               7216 non-null   object\n",
      " 2   Selling Price          7216 non-null   object\n",
      " 3   About Product          7216 non-null   object\n",
      " 4   Product Specification  7216 non-null   object\n",
      " 5   Shipping Weight        7216 non-null   object\n",
      "dtypes: object(6)\n",
      "memory usage: 394.6+ KB\n"
     ]
    }
   ],
   "source": [
    "cols = [0,2,3,5,6,8,9,12,14,15,16,17,18,19,20,21,22,23,24,25,26,27]\n",
    "dataset.drop(dataset.columns[cols], axis =1, inplace=True)\n",
    "dataset.dropna(inplace = True)\n",
    "dataset.info()"
   ]
  },
  {
   "cell_type": "code",
   "execution_count": 440,
   "metadata": {},
   "outputs": [],
   "source": [
    "new = dataset[\"Category\"].str.split(\"|\", n = 3, expand = True)\n",
    "new = new.apply(lambda x: x.str.strip())\n",
    "  \n",
    "# making the first category called Main Category\n",
    "dataset[\"Main Category\"]= new[0] \n",
    "  \n",
    "# making the second category called sub_category \n",
    "dataset[\"Sub Category\"]= new[1]\n",
    "\n",
    "# making the third category called side_category \n",
    "dataset[\"Side Category\"]= new[2]\n",
    "\n",
    "# making the last column consist of the remaining categories\n",
    "dataset[\"Other Category\"]= new[3]\n",
    "\n",
    "# Dropping old category columns and the remaining categories \n",
    "dataset.drop(columns =[\"Category\"], inplace = True)"
   ]
  },
  {
   "cell_type": "code",
   "execution_count": 441,
   "metadata": {},
   "outputs": [
    {
     "name": "stdout",
     "output_type": "stream",
     "text": [
      "<class 'pandas.core.frame.DataFrame'>\n",
      "Int64Index: 7216 entries, 0 to 10001\n",
      "Data columns (total 9 columns):\n",
      " #   Column                 Non-Null Count  Dtype \n",
      "---  ------                 --------------  ----- \n",
      " 0   Product Name           7216 non-null   object\n",
      " 1   Selling Price          7216 non-null   object\n",
      " 2   About Product          7216 non-null   object\n",
      " 3   Product Specification  7216 non-null   object\n",
      " 4   Shipping Weight        7216 non-null   object\n",
      " 5   Main Category          7216 non-null   object\n",
      " 6   Sub Category           7216 non-null   object\n",
      " 7   Side Category          6231 non-null   object\n",
      " 8   Other Category         2791 non-null   object\n",
      "dtypes: object(9)\n",
      "memory usage: 563.8+ KB\n"
     ]
    }
   ],
   "source": [
    "dataset.info()"
   ]
  },
  {
   "cell_type": "code",
   "execution_count": 442,
   "metadata": {},
   "outputs": [],
   "source": [
    "def preprocessamento(texto):\n",
    "    texto = texto.replace('[^a-zA-Z]',' ').lower()\n",
    "    stop_re = '\\\\b'+'\\\\b|\\\\b'.join(nltk.corpus.stopwords.words('english'))+'\\\\b'\n",
    "    texto = texto.replace(stop_re, '')\n",
    "    texto = texto.split()\n",
    "    return texto"
   ]
  },
  {
   "cell_type": "code",
   "execution_count": 443,
   "metadata": {},
   "outputs": [
    {
     "data": {
      "text/plain": [
       "0        [db, longboards, coreflex, crossbow, 41\", bamb...\n",
       "1        [electronic, snap, circuits, mini, kits, class...\n",
       "2        [3doodler, create, flexy, 3d, printing, filame...\n",
       "3        [guillow, airplane, design, studio, with, trav...\n",
       "4                   [woodstock-, collage, 500, pc, puzzle]\n",
       "                               ...                        \n",
       "9995     [cozy, line, home, fashions, size, 2, piece, o...\n",
       "9996           [lego, 8-brick, storage, box,, bright, red]\n",
       "9998     [trends, international, nfl, la, chargers, hg,...\n",
       "9999     [newpath, learning, 10, piece, science, owls, ...\n",
       "10001    [hasegawa, ladders, lucano, step, ladder,, ora...\n",
       "Name: Processed Product Name, Length: 7216, dtype: object"
      ]
     },
     "execution_count": 443,
     "metadata": {},
     "output_type": "execute_result"
    }
   ],
   "source": [
    "dataset[\"Processed Product Name\"] = dataset[\"Product Name\"].apply(preprocessamento)\n",
    "dataset[\"Processed Product Name\"]"
   ]
  },
  {
   "cell_type": "code",
   "execution_count": 444,
   "metadata": {},
   "outputs": [],
   "source": [
    "modelo = Word2Vec(sentences=dataset[\"Processed Product Name\"], vector_size=100, window=5, min_count=1, workers=4)"
   ]
  },
  {
   "cell_type": "code",
   "execution_count": 445,
   "metadata": {},
   "outputs": [],
   "source": [
    "def vectorize_product(product_name):\n",
    "    words = [word for word in product_name if word in modelo.wv]\n",
    "    if len(words) > 0:\n",
    "        return np.mean([modelo.wv[word] for word in words], axis=0)\n",
    "    else:\n",
    "        return np.zeros(modelo.wv.vector_size)"
   ]
  },
  {
   "cell_type": "code",
   "execution_count": 446,
   "metadata": {},
   "outputs": [
    {
     "data": {
      "text/plain": [
       "0        [-0.026015468, 0.038651183, 0.035992764, 0.000...\n",
       "1        [-0.103402406, 0.14822036, 0.1363379, -0.00632...\n",
       "2        [-0.11704521, 0.18137215, 0.16436759, -0.01115...\n",
       "3        [-0.2694781, 0.3530375, 0.3001987, -0.03014556...\n",
       "4        [-0.12634698, 0.21866429, 0.1763436, -0.016193...\n",
       "                               ...                        \n",
       "9995     [-0.17574261, 0.27484408, 0.22719797, -0.01636...\n",
       "9996     [-0.14175738, 0.21316409, 0.19264893, -0.00976...\n",
       "9998     [-0.1412848, 0.21853943, 0.19099298, -0.012475...\n",
       "9999     [-0.15240571, 0.24434316, 0.19968817, -0.01123...\n",
       "10001    [-0.03310827, 0.055054367, 0.043399375, -0.001...\n",
       "Name: Product Vector, Length: 7216, dtype: object"
      ]
     },
     "execution_count": 446,
     "metadata": {},
     "output_type": "execute_result"
    }
   ],
   "source": [
    "dataset[\"Product Vector\"] = dataset[\"Processed Product Name\"].apply(vectorize_product)\n",
    "dataset[\"Product Vector\"]"
   ]
  },
  {
   "cell_type": "code",
   "execution_count": 447,
   "metadata": {},
   "outputs": [],
   "source": [
    "def recomendar_produtos(input_text, top_n=5):\n",
    "    # Pré-processar a entrada do usuário\n",
    "    input_text_processed = preprocessamento(input_text)\n",
    "    \n",
    "    # Gerar vetor para a entrada\n",
    "    input_vector = vectorize_product(input_text_processed)\n",
    "    \n",
    "    # Calcular similaridades cosseno\n",
    "    similarities = dataset[\"Product Vector\"].apply(lambda x: cosine_similarity([input_vector], [x])[0][0])\n",
    "    \n",
    "    # Ordenar por similaridade e pegar os top_n produtos\n",
    "    top_indices = similarities.nlargest(top_n).index\n",
    "    \n",
    "    # Retornar o DataFrame com os produtos recomendados, mas mantendo os nomes originais\n",
    "    return dataset.loc[top_indices, dataset.columns != 'Product Vector']"
   ]
  },
  {
   "cell_type": "code",
   "execution_count": 448,
   "metadata": {},
   "outputs": [],
   "source": [
    "input_text = input(\"Digite o nome do produto: \")"
   ]
  },
  {
   "cell_type": "code",
   "execution_count": 449,
   "metadata": {},
   "outputs": [
    {
     "name": "stdout",
     "output_type": "stream",
     "text": [
      "                                        Product Name Selling Price  \\\n",
      "0  DB Longboards CoreFlex Crossbow 41\" Bamboo Fib...       $237.68   \n",
      "1  Electronic Snap Circuits Mini Kits Classpack, ...        $99.95   \n",
      "2  3Doodler Create Flexy 3D Printing Filament Ref...        $34.99   \n",
      "3  Guillow Airplane Design Studio with Travel Cas...        $28.91   \n",
      "4                   Woodstock- Collage 500 pc Puzzle        $17.49   \n",
      "\n",
      "                                       About Product  \\\n",
      "0  Make sure this fits by entering your model num...   \n",
      "1  Make sure this fits by entering your model num...   \n",
      "2  Make sure this fits by entering your model num...   \n",
      "3  Make 8 different Planes at one time. | Experim...   \n",
      "4  Make sure this fits by entering your model num...   \n",
      "\n",
      "                               Product Specification Shipping Weight  \\\n",
      "0  Shipping Weight: 10.7 pounds (View shipping ra...     10.7 pounds   \n",
      "1  Product Dimensions:         14.7 x 11.1 x 10.2...        4 pounds   \n",
      "2  ProductDimensions:10.3x3.4x0.8inches|ItemWeigh...     12.8 ounces   \n",
      "3  ProductDimensions:3.5x6.2x13inches|ItemWeight:...     13.4 ounces   \n",
      "4  ProductDimensions:1.9x8x10inches|ItemWeight:13...     13.4 ounces   \n",
      "\n",
      "       Main Category          Sub Category                   Side Category  \\\n",
      "0  Sports & Outdoors    Outdoor Recreation  Skates, Skateboards & Scooters   \n",
      "1       Toys & Games  Learning & Education             Science Kits & Toys   \n",
      "2       Toys & Games         Arts & Crafts                      Craft Kits   \n",
      "3       Toys & Games               Hobbies             Models & Model Kits   \n",
      "4       Toys & Games               Puzzles                  Jigsaw Puzzles   \n",
      "\n",
      "                                      Other Category  \\\n",
      "0  Skateboarding | Standard Skateboards & Longboa...   \n",
      "1                                               None   \n",
      "2                                               None   \n",
      "3                   Model Kits | Airplane & Jet Kits   \n",
      "4                                               None   \n",
      "\n",
      "                              Processed Product Name  \n",
      "0  [db, longboards, coreflex, crossbow, 41\", bamb...  \n",
      "1  [electronic, snap, circuits, mini, kits, class...  \n",
      "2  [3doodler, create, flexy, 3d, printing, filame...  \n",
      "3  [guillow, airplane, design, studio, with, trav...  \n",
      "4             [woodstock-, collage, 500, pc, puzzle]  \n"
     ]
    }
   ],
   "source": [
    "recomendacoes = recomendar_produtos(input_text, top_n=5)\n",
    "print(recomendacoes)"
   ]
  }
 ],
 "metadata": {
  "kernelspec": {
   "display_name": "tcc",
   "language": "python",
   "name": "python3"
  },
  "language_info": {
   "codemirror_mode": {
    "name": "ipython",
    "version": 3
   },
   "file_extension": ".py",
   "mimetype": "text/x-python",
   "name": "python",
   "nbconvert_exporter": "python",
   "pygments_lexer": "ipython3",
   "version": "3.7.12"
  }
 },
 "nbformat": 4,
 "nbformat_minor": 2
}
