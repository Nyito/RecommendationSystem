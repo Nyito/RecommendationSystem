{
 "cells": [
  {
   "cell_type": "code",
   "execution_count": 1,
   "metadata": {},
   "outputs": [
    {
     "name": "stderr",
     "output_type": "stream",
     "text": [
      "[nltk_data] Downloading package stopwords to /home/leo/nltk_data...\n",
      "[nltk_data]   Package stopwords is already up-to-date!\n"
     ]
    }
   ],
   "source": [
    "import pandas as pd\n",
    "import numpy as np\n",
    "\n",
    "import nltk\n",
    "nltk.download('stopwords')\n",
    "from gensim.models import Word2Vec\n",
    "from sklearn.metrics.pairwise import cosine_similarity\n"
   ]
  },
  {
   "cell_type": "code",
   "execution_count": 2,
   "metadata": {},
   "outputs": [
    {
     "name": "stdout",
     "output_type": "stream",
     "text": [
      "<class 'pandas.core.frame.DataFrame'>\n",
      "RangeIndex: 10002 entries, 0 to 10001\n",
      "Data columns (total 28 columns):\n",
      " #   Column                 Non-Null Count  Dtype  \n",
      "---  ------                 --------------  -----  \n",
      " 0   Uniq Id                10002 non-null  object \n",
      " 1   Product Name           10002 non-null  object \n",
      " 2   Brand Name             0 non-null      float64\n",
      " 3   Asin                   0 non-null      float64\n",
      " 4   Category               9172 non-null   object \n",
      " 5   Upc Ean Code           34 non-null     object \n",
      " 6   List Price             0 non-null      float64\n",
      " 7   Selling Price          9895 non-null   object \n",
      " 8   Quantity               0 non-null      float64\n",
      " 9   Model Number           8232 non-null   object \n",
      " 10  About Product          9729 non-null   object \n",
      " 11  Product Specification  8370 non-null   object \n",
      " 12  Technical Details      9212 non-null   object \n",
      " 13  Shipping Weight        8864 non-null   object \n",
      " 14  Product Dimensions     479 non-null    object \n",
      " 15  Image                  10002 non-null  object \n",
      " 16  Variants               2478 non-null   object \n",
      " 17  Sku                    0 non-null      float64\n",
      " 18  Product Url            10002 non-null  object \n",
      " 19  Stock                  0 non-null      float64\n",
      " 20  Product Details        0 non-null      float64\n",
      " 21  Dimensions             0 non-null      float64\n",
      " 22  Color                  0 non-null      float64\n",
      " 23  Ingredients            0 non-null      float64\n",
      " 24  Direction To Use       0 non-null      float64\n",
      " 25  Is Amazon Seller       10002 non-null  object \n",
      " 26  Size Quantity Variant  0 non-null      float64\n",
      " 27  Product Description    0 non-null      float64\n",
      "dtypes: float64(13), object(15)\n",
      "memory usage: 2.1+ MB\n"
     ]
    }
   ],
   "source": [
    "dataset = pd.read_csv(\"../data/AmazonData.csv\")\n",
    "dataset.info()"
   ]
  },
  {
   "cell_type": "code",
   "execution_count": 3,
   "metadata": {},
   "outputs": [
    {
     "name": "stdout",
     "output_type": "stream",
     "text": [
      "<class 'pandas.core.frame.DataFrame'>\n",
      "Int64Index: 7216 entries, 0 to 10001\n",
      "Data columns (total 6 columns):\n",
      " #   Column                 Non-Null Count  Dtype \n",
      "---  ------                 --------------  ----- \n",
      " 0   Product Name           7216 non-null   object\n",
      " 1   Category               7216 non-null   object\n",
      " 2   Selling Price          7216 non-null   object\n",
      " 3   About Product          7216 non-null   object\n",
      " 4   Product Specification  7216 non-null   object\n",
      " 5   Shipping Weight        7216 non-null   object\n",
      "dtypes: object(6)\n",
      "memory usage: 394.6+ KB\n"
     ]
    }
   ],
   "source": [
    "cols = [0,2,3,5,6,8,9,12,14,15,16,17,18,19,20,21,22,23,24,25,26,27]\n",
    "dataset.drop(dataset.columns[cols], axis =1, inplace=True)\n",
    "dataset.dropna(inplace = True)\n",
    "dataset.info()"
   ]
  },
  {
   "cell_type": "code",
   "execution_count": 4,
   "metadata": {},
   "outputs": [],
   "source": [
    "new = dataset[\"Category\"].str.split(\"|\", n = 3, expand = True)\n",
    "new = new.apply(lambda x: x.str.strip())\n",
    "  \n",
    "# making the first category called Main Category\n",
    "dataset[\"Main Category\"]= new[0] \n",
    "  \n",
    "# making the second category called sub_category \n",
    "dataset[\"Sub Category\"]= new[1]\n",
    "\n",
    "# making the third category called side_category \n",
    "dataset[\"Side Category\"]= new[2]\n",
    "\n",
    "# making the last column consist of the remaining categories\n",
    "dataset[\"Other Category\"]= new[3]\n",
    "\n",
    "# Dropping old category columns and the remaining categories \n",
    "dataset.drop(columns =[\"Category\"], inplace = True)"
   ]
  },
  {
   "cell_type": "code",
   "execution_count": 5,
   "metadata": {},
   "outputs": [
    {
     "name": "stdout",
     "output_type": "stream",
     "text": [
      "<class 'pandas.core.frame.DataFrame'>\n",
      "Int64Index: 7216 entries, 0 to 10001\n",
      "Data columns (total 9 columns):\n",
      " #   Column                 Non-Null Count  Dtype \n",
      "---  ------                 --------------  ----- \n",
      " 0   Product Name           7216 non-null   object\n",
      " 1   Selling Price          7216 non-null   object\n",
      " 2   About Product          7216 non-null   object\n",
      " 3   Product Specification  7216 non-null   object\n",
      " 4   Shipping Weight        7216 non-null   object\n",
      " 5   Main Category          7216 non-null   object\n",
      " 6   Sub Category           7216 non-null   object\n",
      " 7   Side Category          6231 non-null   object\n",
      " 8   Other Category         2791 non-null   object\n",
      "dtypes: object(9)\n",
      "memory usage: 563.8+ KB\n"
     ]
    }
   ],
   "source": [
    "dataset.info()"
   ]
  },
  {
   "cell_type": "code",
   "execution_count": 6,
   "metadata": {},
   "outputs": [],
   "source": [
    "def preprocessamento(texto):\n",
    "    texto = texto.replace('[^a-zA-Z]',' ').lower()\n",
    "    stop_re = '\\\\b'+'\\\\b|\\\\b'.join(nltk.corpus.stopwords.words('english'))+'\\\\b'\n",
    "    texto = texto.replace(stop_re, '')\n",
    "    texto = texto.split()\n",
    "    return texto"
   ]
  },
  {
   "cell_type": "code",
   "execution_count": 7,
   "metadata": {},
   "outputs": [
    {
     "data": {
      "text/plain": [
       "0        [db, longboards, coreflex, crossbow, 41\", bamb...\n",
       "1        [electronic, snap, circuits, mini, kits, class...\n",
       "2        [3doodler, create, flexy, 3d, printing, filame...\n",
       "3        [guillow, airplane, design, studio, with, trav...\n",
       "4                   [woodstock-, collage, 500, pc, puzzle]\n",
       "                               ...                        \n",
       "9995     [cozy, line, home, fashions, size, 2, piece, o...\n",
       "9996           [lego, 8-brick, storage, box,, bright, red]\n",
       "9998     [trends, international, nfl, la, chargers, hg,...\n",
       "9999     [newpath, learning, 10, piece, science, owls, ...\n",
       "10001    [hasegawa, ladders, lucano, step, ladder,, ora...\n",
       "Name: Processed Product Name, Length: 7216, dtype: object"
      ]
     },
     "execution_count": 7,
     "metadata": {},
     "output_type": "execute_result"
    }
   ],
   "source": [
    "dataset[\"Processed Product Name\"] = dataset[\"Product Name\"].apply(preprocessamento)\n",
    "dataset[\"Processed Product Name\"]"
   ]
  },
  {
   "cell_type": "code",
   "execution_count": 8,
   "metadata": {},
   "outputs": [],
   "source": [
    "modelo = Word2Vec(sentences=dataset[\"Processed Product Name\"], vector_size=100, window=5, min_count=1, workers=4)"
   ]
  },
  {
   "cell_type": "code",
   "execution_count": 9,
   "metadata": {},
   "outputs": [],
   "source": [
    "def vectorize_product(product_name):\n",
    "    words = [word for word in product_name if word in modelo.wv]\n",
    "    if len(words) > 0:\n",
    "        return np.mean([modelo.wv[word] for word in words], axis=0)\n",
    "    else:\n",
    "        return np.zeros(modelo.wv.vector_size)"
   ]
  },
  {
   "cell_type": "code",
   "execution_count": 10,
   "metadata": {},
   "outputs": [
    {
     "data": {
      "text/plain": [
       "0        [-0.028427698, 0.038930576, 0.034446027, 0.000...\n",
       "1        [-0.11887617, 0.15092024, 0.1340297, -0.003559...\n",
       "2        [-0.13145433, 0.18151474, 0.15550838, -0.00980...\n",
       "3        [-0.30230486, 0.341934, 0.29935572, -0.0174990...\n",
       "4        [-0.14529756, 0.22786859, 0.17120734, -0.01370...\n",
       "                               ...                        \n",
       "9995     [-0.1954298, 0.27134368, 0.21675357, -0.014566...\n",
       "9996     [-0.15959293, 0.20706719, 0.17997284, -0.00754...\n",
       "9998     [-0.15552968, 0.22217631, 0.18348745, -0.01008...\n",
       "9999     [-0.17371441, 0.24964409, 0.19012699, -0.01401...\n",
       "10001    [-0.03730512, 0.056377154, 0.043323267, 0.0004...\n",
       "Name: Product Vector, Length: 7216, dtype: object"
      ]
     },
     "execution_count": 10,
     "metadata": {},
     "output_type": "execute_result"
    }
   ],
   "source": [
    "dataset[\"Product Vector\"] = dataset[\"Processed Product Name\"].apply(vectorize_product)\n",
    "dataset[\"Product Vector\"]"
   ]
  },
  {
   "cell_type": "code",
   "execution_count": 11,
   "metadata": {},
   "outputs": [],
   "source": [
    "def recomendar_produtos(input_text, top_n=5):\n",
    "    # Pré-processar a entrada do usuário\n",
    "    input_text_processed = preprocessamento(input_text)\n",
    "    \n",
    "    # Gerar vetor para a entrada\n",
    "    input_vector = vectorize_product(input_text_processed)\n",
    "    \n",
    "    # Calcular similaridades cosseno\n",
    "    similarities = dataset[\"Product Vector\"].apply(lambda x: cosine_similarity([input_vector], [x])[0][0])\n",
    "    \n",
    "    # Ordenar por similaridade e pegar os top_n produtos\n",
    "    top_indices = similarities.nlargest(top_n).index\n",
    "    \n",
    "    # Retornar o DataFrame com os produtos recomendados, mas mantendo os nomes originais\n",
    "    return dataset.loc[top_indices, dataset.columns != 'Product Vector']"
   ]
  },
  {
   "cell_type": "code",
   "execution_count": 12,
   "metadata": {},
   "outputs": [],
   "source": [
    "input_text = input(\"Digite o nome do produto: \")"
   ]
  },
  {
   "cell_type": "code",
   "execution_count": 13,
   "metadata": {},
   "outputs": [
    {
     "name": "stdout",
     "output_type": "stream",
     "text": [
      "                                           Product Name Selling Price  \\\n",
      "3349                  LEGO Storage Brick 8, Bright Pink        $39.99   \n",
      "3940                     LEGO Round Storage Box 1, Blue        $11.92   \n",
      "8755  Ashley Productions Big Hardcover Blank Book Pa...        $51.35   \n",
      "2423  School Smart Blunt Tip Student Scissors, 6-1/4...        $25.32   \n",
      "3821  Mega Construx Heroes Battle of Eternia Collection        $10.19   \n",
      "\n",
      "                                          About Product  \\\n",
      "3349  Make sure this fits by entering your model num...   \n",
      "3940  Make sure this fits by entering your model num...   \n",
      "8755  Make sure this fits by entering your model num...   \n",
      "2423  Make sure this fits by entering your model num...   \n",
      "3821  Make sure this fits by entering your model num...   \n",
      "\n",
      "                                  Product Specification Shipping Weight  \\\n",
      "3349  ProductDimensions:19.7x9.8x7.1inches|ItemWeigh...      4.8 pounds   \n",
      "3940  ProductDimensions:4.8x4.8x7.2inches|ItemWeight...        7 ounces   \n",
      "8755  ProductDimensions:8.5x11x1inches|ItemWeight:15...     15.6 pounds   \n",
      "2423  ASIN:B003U6QLBI|ShippingWeight:1.6pounds(Views...      1.6 pounds   \n",
      "3821  ProductDimensions:1.4x10.3x8inches|ItemWeight:...      4.8 ounces   \n",
      "\n",
      "        Main Category                      Sub Category       Side Category  \\\n",
      "3349     Toys & Games                     Building Toys                None   \n",
      "3940     Toys & Games  Kids' Furniture, Décor & Storage                None   \n",
      "8755     Toys & Games              Learning & Education                None   \n",
      "2423  Office Products          Office & School Supplies  Education & Crafts   \n",
      "3821     Toys & Games            Toy Figures & Playsets      Action Figures   \n",
      "\n",
      "         Other Category                             Processed Product Name  \n",
      "3349               None           [lego, storage, brick, 8,, bright, pink]  \n",
      "3940               None              [lego, round, storage, box, 1,, blue]  \n",
      "8755               None  [ashley, productions, big, hardcover, blank, b...  \n",
      "2423  Students Scissors  [school, smart, blunt, tip, student, scissors,...  \n",
      "3821               None  [mega, construx, heroes, battle, of, eternia, ...  \n"
     ]
    }
   ],
   "source": [
    "recomendacoes = recomendar_produtos(input_text, top_n=5)\n",
    "print(recomendacoes)"
   ]
  }
 ],
 "metadata": {
  "kernelspec": {
   "display_name": "tcc",
   "language": "python",
   "name": "python3"
  },
  "language_info": {
   "codemirror_mode": {
    "name": "ipython",
    "version": 3
   },
   "file_extension": ".py",
   "mimetype": "text/x-python",
   "name": "python",
   "nbconvert_exporter": "python",
   "pygments_lexer": "ipython3",
   "version": "3.7.12"
  }
 },
 "nbformat": 4,
 "nbformat_minor": 2
}
