{
 "cells": [
  {
   "cell_type": "code",
   "execution_count": 6,
   "metadata": {},
   "outputs": [],
   "source": [
    "import pandas as pd\n",
    "import numpy as np"
   ]
  },
  {
   "cell_type": "code",
   "execution_count": 7,
   "metadata": {},
   "outputs": [
    {
     "name": "stderr",
     "output_type": "stream",
     "text": [
      "[nltk_data] Downloading package stopwords to /home/leo/nltk_data...\n",
      "[nltk_data]   Package stopwords is already up-to-date!\n"
     ]
    }
   ],
   "source": [
    "\n",
    "import nltk\n",
    "nltk.download('stopwords')\n",
    "import gensim"
   ]
  },
  {
   "cell_type": "code",
   "execution_count": 8,
   "metadata": {},
   "outputs": [
    {
     "name": "stdout",
     "output_type": "stream",
     "text": [
      "<class 'pandas.core.frame.DataFrame'>\n",
      "RangeIndex: 10002 entries, 0 to 10001\n",
      "Data columns (total 28 columns):\n",
      " #   Column                 Non-Null Count  Dtype  \n",
      "---  ------                 --------------  -----  \n",
      " 0   Uniq Id                10002 non-null  object \n",
      " 1   Product Name           10002 non-null  object \n",
      " 2   Brand Name             0 non-null      float64\n",
      " 3   Asin                   0 non-null      float64\n",
      " 4   Category               9172 non-null   object \n",
      " 5   Upc Ean Code           34 non-null     object \n",
      " 6   List Price             0 non-null      float64\n",
      " 7   Selling Price          9895 non-null   object \n",
      " 8   Quantity               0 non-null      float64\n",
      " 9   Model Number           8232 non-null   object \n",
      " 10  About Product          9729 non-null   object \n",
      " 11  Product Specification  8370 non-null   object \n",
      " 12  Technical Details      9212 non-null   object \n",
      " 13  Shipping Weight        8864 non-null   object \n",
      " 14  Product Dimensions     479 non-null    object \n",
      " 15  Image                  10002 non-null  object \n",
      " 16  Variants               2478 non-null   object \n",
      " 17  Sku                    0 non-null      float64\n",
      " 18  Product Url            10002 non-null  object \n",
      " 19  Stock                  0 non-null      float64\n",
      " 20  Product Details        0 non-null      float64\n",
      " 21  Dimensions             0 non-null      float64\n",
      " 22  Color                  0 non-null      float64\n",
      " 23  Ingredients            0 non-null      float64\n",
      " 24  Direction To Use       0 non-null      float64\n",
      " 25  Is Amazon Seller       10002 non-null  object \n",
      " 26  Size Quantity Variant  0 non-null      float64\n",
      " 27  Product Description    0 non-null      float64\n",
      "dtypes: float64(13), object(15)\n",
      "memory usage: 2.1+ MB\n"
     ]
    }
   ],
   "source": [
    "dataset = pd.read_csv(\"../data/AmazonData.csv\")\n",
    "dataset.info()"
   ]
  },
  {
   "cell_type": "code",
   "execution_count": 9,
   "metadata": {},
   "outputs": [
    {
     "name": "stdout",
     "output_type": "stream",
     "text": [
      "<class 'pandas.core.frame.DataFrame'>\n",
      "Int64Index: 7216 entries, 0 to 10001\n",
      "Data columns (total 6 columns):\n",
      " #   Column                 Non-Null Count  Dtype \n",
      "---  ------                 --------------  ----- \n",
      " 0   Product Name           7216 non-null   object\n",
      " 1   Category               7216 non-null   object\n",
      " 2   Selling Price          7216 non-null   object\n",
      " 3   About Product          7216 non-null   object\n",
      " 4   Product Specification  7216 non-null   object\n",
      " 5   Shipping Weight        7216 non-null   object\n",
      "dtypes: object(6)\n",
      "memory usage: 394.6+ KB\n"
     ]
    }
   ],
   "source": [
    "cols = [0,2,3,5,6,8,9,12,14,15,16,17,18,19,20,21,22,23,24,25,26,27]\n",
    "dataset.drop(dataset.columns[cols], axis =1, inplace=True)\n",
    "dataset.dropna(inplace = True)\n",
    "dataset.info()"
   ]
  },
  {
   "cell_type": "code",
   "execution_count": 10,
   "metadata": {},
   "outputs": [
    {
     "data": {
      "text/plain": [
       "0        Sports & Outdoors | Outdoor Recreation | Skate...\n",
       "1        Toys & Games | Learning & Education | Science ...\n",
       "2                Toys & Games | Arts & Crafts | Craft Kits\n",
       "3        Toys & Games | Hobbies | Models & Model Kits |...\n",
       "4                  Toys & Games | Puzzles | Jigsaw Puzzles\n",
       "                               ...                        \n",
       "9995     Home & Kitchen | Bedding | Kids' Bedding | Qui...\n",
       "9996                          Toys & Games | Building Toys\n",
       "9998                          Toys & Games | Arts & Crafts\n",
       "9999     Office Products | Office & School Supplies | E...\n",
       "10001    Home & Kitchen | Furniture | Kids' Furniture |...\n",
       "Name: Category, Length: 7216, dtype: object"
      ]
     },
     "execution_count": 10,
     "metadata": {},
     "output_type": "execute_result"
    }
   ],
   "source": [
    "dataset[\"Category\"]"
   ]
  },
  {
   "cell_type": "code",
   "execution_count": 11,
   "metadata": {},
   "outputs": [
    {
     "name": "stderr",
     "output_type": "stream",
     "text": [
      "/home/leo/anaconda3/envs/tcc/lib/python3.7/site-packages/ipykernel_launcher.py:1: FutureWarning: The default value of regex will change from True to False in a future version.\n",
      "  \"\"\"Entry point for launching an IPython kernel.\n"
     ]
    },
    {
     "data": {
      "text/plain": [
       "0        sports   outdoors   outdoor recreation   skate...\n",
       "1        toys   games   learning   education   science ...\n",
       "2                toys   games   arts   crafts   craft kits\n",
       "3        toys   games   hobbies   models   model kits  ...\n",
       "4                  toys   games   puzzles   jigsaw puzzles\n",
       "                               ...                        \n",
       "9995     home   kitchen   bedding   kids  bedding   qui...\n",
       "9996                          toys   games   building toys\n",
       "9998                          toys   games   arts   crafts\n",
       "9999     office products   office   school supplies   e...\n",
       "10001    home   kitchen   furniture   kids  furniture  ...\n",
       "Name: Category, Length: 7216, dtype: object"
      ]
     },
     "execution_count": 11,
     "metadata": {},
     "output_type": "execute_result"
    }
   ],
   "source": [
    "dataset[\"Category\"] = dataset[\"Category\"].str.replace('[^a-zA-Z]',' ').str.lower()\n",
    "dataset[\"Category\"]"
   ]
  },
  {
   "cell_type": "code",
   "execution_count": 12,
   "metadata": {},
   "outputs": [
    {
     "name": "stderr",
     "output_type": "stream",
     "text": [
      "/home/leo/anaconda3/envs/tcc/lib/python3.7/site-packages/ipykernel_launcher.py:2: FutureWarning: The default value of regex will change from True to False in a future version.\n",
      "  \n"
     ]
    }
   ],
   "source": [
    "stop_re = '\\\\b'+'\\\\b|\\\\b'.join(nltk.corpus.stopwords.words('english'))+'\\\\b'\n",
    "dataset[\"Category\"] = dataset[\"Category\"].str.replace(stop_re, '')"
   ]
  },
  {
   "cell_type": "code",
   "execution_count": 13,
   "metadata": {},
   "outputs": [
    {
     "data": {
      "text/plain": [
       "0        sports   outdoors   outdoor recreation   skate...\n",
       "1        toys   games   learning   education   science ...\n",
       "2                toys   games   arts   crafts   craft kits\n",
       "3        toys   games   hobbies   models   model kits  ...\n",
       "4                  toys   games   puzzles   jigsaw puzzles\n",
       "                               ...                        \n",
       "9995     home   kitchen   bedding   kids  bedding   qui...\n",
       "9996                          toys   games   building toys\n",
       "9998                          toys   games   arts   crafts\n",
       "9999     office products   office   school supplies   e...\n",
       "10001    home   kitchen   furniture   kids  furniture  ...\n",
       "Name: Category, Length: 7216, dtype: object"
      ]
     },
     "execution_count": 13,
     "metadata": {},
     "output_type": "execute_result"
    }
   ],
   "source": [
    "dataset[\"Category\"]"
   ]
  },
  {
   "cell_type": "code",
   "execution_count": 14,
   "metadata": {},
   "outputs": [
    {
     "data": {
      "text/plain": [
       "0     [sports, outdoors, outdoor, recreation, skates...\n",
       "1     [toys, games, learning, education, science, ki...\n",
       "2              [toys, games, arts, crafts, craft, kits]\n",
       "3     [toys, games, hobbies, models, model, kits, mo...\n",
       "4               [toys, games, puzzles, jigsaw, puzzles]\n",
       "6     [clothing, shoes, jewelry, costumes, accessori...\n",
       "8     [home, kitchen, home, cor, window, treatments,...\n",
       "10                   [toys, games, baby, toddler, toys]\n",
       "11    [toys, games, collectible, toys, statues, bobb...\n",
       "13        [toys, games, building, toys, building, sets]\n",
       "Name: Category, dtype: object"
      ]
     },
     "execution_count": 14,
     "metadata": {},
     "output_type": "execute_result"
    }
   ],
   "source": [
    "dataset[\"Category\"] = dataset[\"Category\"].str.split()\n",
    "dataset[\"Category\"].head(10)"
   ]
  },
  {
   "cell_type": "code",
   "execution_count": 15,
   "metadata": {},
   "outputs": [
    {
     "name": "stdout",
     "output_type": "stream",
     "text": [
      "[('jigsaw', 0.9688258767127991), ('brain', 0.9533729553222656), ('teasers', 0.9391809701919556), ('floor', 0.9119426608085632), ('disentanglement', 0.8319880962371826), ('assembly', 0.8042234778404236), ('pegged', 0.7517823576927185), ('puzzle', 0.6973331570625305), ('games', 0.6861521601676941), ('toys', 0.6814497709274292)]\n"
     ]
    }
   ],
   "source": [
    "model = gensim.models.Word2Vec(dataset[\"Category\"], min_count=1, vector_size=100, window=5)\n",
    "\n",
    "similar = model.wv.most_similar(\"puzzles\")\n",
    "print(similar)"
   ]
  }
 ],
 "metadata": {
  "kernelspec": {
   "display_name": "tcc",
   "language": "python",
   "name": "python3"
  },
  "language_info": {
   "codemirror_mode": {
    "name": "ipython",
    "version": 3
   },
   "file_extension": ".py",
   "mimetype": "text/x-python",
   "name": "python",
   "nbconvert_exporter": "python",
   "pygments_lexer": "ipython3",
   "version": "3.7.12"
  }
 },
 "nbformat": 4,
 "nbformat_minor": 2
}
