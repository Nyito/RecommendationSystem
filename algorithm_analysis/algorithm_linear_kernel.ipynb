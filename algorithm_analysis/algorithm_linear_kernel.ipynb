{
 "cells": [
  {
   "cell_type": "code",
   "execution_count": 1,
   "metadata": {},
   "outputs": [],
   "source": [
    "import pandas as pd                                             # importando pandas\n",
    "pd.set_option('display.max_rows', None)                         # \n",
    "pd.set_option('display.max_columns', None)\n",
    "pd.set_option('display.width', 2000)\n",
    "pd.set_option('display.float_format', '{:20,.2f}'.format)\n",
    "pd.set_option('display.max_colwidth', None)\n"
   ]
  },
  {
   "cell_type": "code",
   "execution_count": 2,
   "metadata": {},
   "outputs": [
    {
     "data": {
      "text/plain": [
       "0    Sports & Outdoors | Outdoor Recreation | Skates, Skateboards & Scooters | Skateboarding | Standard Skateboards & Longboards | Longboards\n",
       "1                                                                                   Toys & Games | Learning & Education | Science Kits & Toys\n",
       "2                                                                                                   Toys & Games | Arts & Crafts | Craft Kits\n",
       "3                                                             Toys & Games | Hobbies | Models & Model Kits | Model Kits | Airplane & Jet Kits\n",
       "4                                                                                                     Toys & Games | Puzzles | Jigsaw Puzzles\n",
       "Name: Category, dtype: object"
      ]
     },
     "execution_count": 2,
     "metadata": {},
     "output_type": "execute_result"
    }
   ],
   "source": [
    "dataset = pd.read_csv('../data/AmazonData.csv')                    # atribuindo a base de dados à variavel dataset\n",
    "dataset[\"Category\"].head()                                      # printando as 5 primeiras linhas da base de dados, somente a coluna \"Category\""
   ]
  },
  {
   "cell_type": "code",
   "execution_count": 3,
   "metadata": {},
   "outputs": [
    {
     "name": "stdout",
     "output_type": "stream",
     "text": [
      "<class 'pandas.core.frame.DataFrame'>\n",
      "RangeIndex: 10002 entries, 0 to 10001\n",
      "Data columns (total 28 columns):\n",
      " #   Column                 Non-Null Count  Dtype  \n",
      "---  ------                 --------------  -----  \n",
      " 0   Uniq Id                10002 non-null  object \n",
      " 1   Product Name           10002 non-null  object \n",
      " 2   Brand Name             0 non-null      float64\n",
      " 3   Asin                   0 non-null      float64\n",
      " 4   Category               9172 non-null   object \n",
      " 5   Upc Ean Code           34 non-null     object \n",
      " 6   List Price             0 non-null      float64\n",
      " 7   Selling Price          9895 non-null   object \n",
      " 8   Quantity               0 non-null      float64\n",
      " 9   Model Number           8230 non-null   object \n",
      " 10  About Product          9729 non-null   object \n",
      " 11  Product Specification  8370 non-null   object \n",
      " 12  Technical Details      9212 non-null   object \n",
      " 13  Shipping Weight        8864 non-null   object \n",
      " 14  Product Dimensions     479 non-null    object \n",
      " 15  Image                  10002 non-null  object \n",
      " 16  Variants               2478 non-null   object \n",
      " 17  Sku                    0 non-null      float64\n",
      " 18  Product Url            10002 non-null  object \n",
      " 19  Stock                  0 non-null      float64\n",
      " 20  Product Details        0 non-null      float64\n",
      " 21  Dimensions             0 non-null      float64\n",
      " 22  Color                  0 non-null      float64\n",
      " 23  Ingredients            0 non-null      float64\n",
      " 24  Direction To Use       0 non-null      float64\n",
      " 25  Is Amazon Seller       10002 non-null  object \n",
      " 26  Size Quantity Variant  0 non-null      float64\n",
      " 27  Product Description    0 non-null      float64\n",
      "dtypes: float64(13), object(15)\n",
      "memory usage: 2.1+ MB\n"
     ]
    }
   ],
   "source": [
    "dataset.info()                                          # printando um resumo da base de dados"
   ]
  },
  {
   "cell_type": "code",
   "execution_count": 4,
   "metadata": {},
   "outputs": [
    {
     "name": "stdout",
     "output_type": "stream",
     "text": [
      "<class 'pandas.core.frame.DataFrame'>\n",
      "Index: 7216 entries, 0 to 10001\n",
      "Data columns (total 6 columns):\n",
      " #   Column                 Non-Null Count  Dtype \n",
      "---  ------                 --------------  ----- \n",
      " 0   Product Name           7216 non-null   object\n",
      " 1   Category               7216 non-null   object\n",
      " 2   Selling Price          7216 non-null   object\n",
      " 3   About Product          7216 non-null   object\n",
      " 4   Product Specification  7216 non-null   object\n",
      " 5   Shipping Weight        7216 non-null   object\n",
      "dtypes: object(6)\n",
      "memory usage: 394.6+ KB\n"
     ]
    }
   ],
   "source": [
    "cols = [0,2,3,5,6,8,9,12,14,15,16,17,18,19,20,21,22,23,24,25,26,27]\n",
    "dataset.drop(dataset.columns[cols], axis =1, inplace=True)\n",
    "dataset.dropna(inplace = True)\n",
    "dataset.info()"
   ]
  },
  {
   "cell_type": "code",
   "execution_count": 5,
   "metadata": {},
   "outputs": [],
   "source": [
    "index_to_drop = pd.read_csv('../data/index_to_drop.csv', header=0).squeeze().tolist()\n",
    "dataset.drop(index_to_drop, inplace=True)"
   ]
  },
  {
   "cell_type": "code",
   "execution_count": 6,
   "metadata": {},
   "outputs": [],
   "source": [
    "                                                                                                        # trattamento de dados   \n",
    "dataset['Selling Price_processed'] = dataset['Selling Price'].apply(lambda x: str(x).replace('$',''))   # retirando \"$\" dos preços\n",
    "# dataset['Selling Price_processed'] = dataset['Selling Price_processed'].astype(float)                   # definindo os preços como float, e não object\n",
    "dataset.to_csv('../data/ReferenceData.csv', index=False)"
   ]
  },
  {
   "cell_type": "markdown",
   "metadata": {},
   "source": [
    "We can compute the similarity between product descriptions using TfidfVectorizer"
   ]
  },
  {
   "cell_type": "markdown",
   "metadata": {},
   "source": [
    "# TF-IDF "
   ]
  },
  {
   "cell_type": "code",
   "execution_count": null,
   "metadata": {},
   "outputs": [],
   "source": [
    "dataset = pd.read_csv('../data/ReferenceData.csv') "
   ]
  },
  {
   "cell_type": "code",
   "execution_count": 8,
   "metadata": {},
   "outputs": [
    {
     "data": {
      "text/plain": [
       "(7136, 1017)"
      ]
     },
     "execution_count": 8,
     "metadata": {},
     "output_type": "execute_result"
    }
   ],
   "source": [
    "#Import TfIdfVectorizer from scikit-learn\n",
    "from sklearn.feature_extraction.text import TfidfVectorizer         # importando feature TF-IDF de sklearn                \n",
    "                                                                    # TF-IDF da valores as palavras de um documento com base na sua \n",
    "                                                                    # frequencia de uso\n",
    "\n",
    "#Define a TF-IDF Vectorizer Object. Remove all english stop words such as 'the', 'a'\n",
    "tfidf = TfidfVectorizer(stop_words='english')                       # função que remove palavras de pouca relevancia\n",
    "\n",
    "#Replace NaN with an empty string\n",
    "dataset[\"Category\"] = dataset[\"Category\"].fillna(\"\")                # preenche valores NA da base de dados com \"nada\"\n",
    "\n",
    "#Construct the required TF-IDF matrix by fitting and transforming the data\n",
    "tfidf_matrix = tfidf.fit_transform(dataset[\"Category\"])             # retorna uma matriz com o vocabulário e o IDF aprendidos\n",
    "\n",
    "#Output the shape of tfidf_matrix\n",
    "tfidf_matrix.shape                                                  # printa as dimensãoes da matriz de vocabulário"
   ]
  },
  {
   "cell_type": "markdown",
   "metadata": {},
   "source": [
    "We can observe that there are 1133 vocabularies in our dataset of 10002 products."
   ]
  },
  {
   "cell_type": "code",
   "execution_count": 9,
   "metadata": {},
   "outputs": [
    {
     "data": {
      "text/plain": [
       "array(['accent', 'accents', 'accessories', 'action', 'activities',\n",
       "       'activity', 'additives', 'adhesives', 'adirondack', 'advent',\n",
       "       'agility', 'aids', 'air', 'airbrush', 'aircraft', 'airplane',\n",
       "       'airplanes', 'albums', 'alternators', 'amazonpets'], dtype=object)"
      ]
     },
     "execution_count": 9,
     "metadata": {},
     "output_type": "execute_result"
    }
   ],
   "source": [
    "#Array mapping from feature integer indices to feature name.\n",
    "tfidf.get_feature_names_out()[0:20]                                     # printa os vocabulários"
   ]
  },
  {
   "cell_type": "markdown",
   "metadata": {},
   "source": [
    "We will use this matrix to calculate the similarity score with linear kernel, cosine similarity and sigmoid score."
   ]
  },
  {
   "cell_type": "markdown",
   "metadata": {},
   "source": [
    "# Content-Based Filtering"
   ]
  },
  {
   "cell_type": "code",
   "execution_count": 10,
   "metadata": {},
   "outputs": [],
   "source": [
    "# Import linear_kernel, cosine_similarity, and sigmoid_kernel\n",
    "from sklearn.metrics.pairwise import linear_kernel                      # importa os métodos para calcular distancias de 3 maneiras:\n",
    "from sklearn.metrics.pairwise import cosine_similarity                  # linear, cosseno e sigmoide\n",
    "from sklearn.metrics.pairwise import sigmoid_kernel                     # ver https://scikit-learn.org/stable/modules/metrics.html#linear-kernel\n",
    "\n",
    "# Compute the cosine similarity matrix\n",
    "linear = linear_kernel(tfidf_matrix, tfidf_matrix)                      # retorna a matriz de distancias de todos os vocabuláriros por todos os vocabulários   \n",
    "cosine_sim = cosine_similarity(tfidf_matrix, tfidf_matrix)              # obtendo as distancias calculadas por 3 métodos diferentes\n",
    "sig_score = sigmoid_kernel(tfidf_matrix, tfidf_matrix)"
   ]
  },
  {
   "cell_type": "code",
   "execution_count": 11,
   "metadata": {},
   "outputs": [
    {
     "name": "stdout",
     "output_type": "stream",
     "text": [
      "(7136, 7136)\n",
      "(7136, 7136)\n",
      "(7136, 7136)\n"
     ]
    }
   ],
   "source": [
    "print(linear.shape)                                 # printa as dimensões das matrizes \n",
    "print(cosine_sim.shape)\n",
    "print(sig_score.shape)"
   ]
  },
  {
   "cell_type": "code",
   "execution_count": 12,
   "metadata": {},
   "outputs": [
    {
     "name": "stdout",
     "output_type": "stream",
     "text": [
      "linear:\n",
      "\n",
      "[[1.         0.         0.         ... 0.         0.         0.        ]\n",
      " [0.         1.         0.2762659  ... 0.09542959 0.26489059 0.        ]\n",
      " [0.         0.2762659  1.         ... 0.64177978 0.07873749 0.        ]\n",
      " ...\n",
      " [0.         0.09542959 0.64177978 ... 1.         0.12268616 0.        ]\n",
      " [0.         0.26489059 0.07873749 ... 0.12268616 1.         0.        ]\n",
      " [0.         0.         0.         ... 0.         0.         1.        ]]\n",
      "\n",
      "cosine:\n",
      "\n",
      "[[1.         0.         0.         ... 0.         0.         0.        ]\n",
      " [0.         1.         0.2762659  ... 0.09542959 0.26489059 0.        ]\n",
      " [0.         0.2762659  1.         ... 0.64177978 0.07873749 0.        ]\n",
      " ...\n",
      " [0.         0.09542959 0.64177978 ... 1.         0.12268616 0.        ]\n",
      " [0.         0.26489059 0.07873749 ... 0.12268616 1.         0.        ]\n",
      " [0.         0.         0.         ... 0.         0.         1.        ]]\n",
      "\n",
      "sigmoid:\n",
      "\n",
      "[[0.7620068  0.76159416 0.76159416 ... 0.76159416 0.76159416 0.76159416]\n",
      " [0.76159416 0.7620068  0.76170822 ... 0.76163356 0.76170352 0.76159416]\n",
      " [0.76159416 0.76170822 0.7620068  ... 0.76185905 0.76162667 0.76159416]\n",
      " ...\n",
      " [0.76159416 0.76163356 0.76185905 ... 0.7620068  0.76164482 0.76159416]\n",
      " [0.76159416 0.76170352 0.76162667 ... 0.76164482 0.7620068  0.76159416]\n",
      " [0.76159416 0.76159416 0.76159416 ... 0.76159416 0.76159416 0.7620068 ]]\n"
     ]
    }
   ],
   "source": [
    "print(\"linear:\\n\")                                  # printa as matrizes de similaridade (quanto maior o valor, mais similar)\n",
    "print(linear)                                       # tirando a diagonal principal, q é 1(ou 0,76...) por ser a distncia da palavra,\n",
    "print(\"\\ncosine:\\n\")                                # por ela mesma\n",
    "print(cosine_sim)\n",
    "print(\"\\nsigmoid:\\n\")\n",
    "print(sig_score)"
   ]
  },
  {
   "cell_type": "markdown",
   "metadata": {},
   "source": [
    "This matrix represents each product category's similarity score with every other product category."
   ]
  },
  {
   "cell_type": "markdown",
   "metadata": {},
   "source": [
    "We need to define a function that takes the product name as an input and outputs a list of the 10 most similar products. For this we need a reverse mapping of products and DataFrame indices. This means we need a mechanism to identify the index of a product in our DataFrame."
   ]
  },
  {
   "cell_type": "code",
   "execution_count": 13,
   "metadata": {},
   "outputs": [],
   "source": [
    "#Construct a reverse map of indices and product names\n",
    "indices = pd.Series(dataset.index, index=dataset[\"Product Name\"])       # constroi um vetor de indices com os nomes dos produtos da base de dados"
   ]
  },
  {
   "cell_type": "code",
   "execution_count": 14,
   "metadata": {},
   "outputs": [
    {
     "data": {
      "text/plain": [
       "Product Name\n",
       "DB Longboards CoreFlex Crossbow 41\" Bamboo Fiberglass Longboard Complete                                                                             0\n",
       "Electronic Snap Circuits Mini Kits Classpack, FM Radio, Motion Detector, Music Box (Set of 5)                                                        1\n",
       "3Doodler Create Flexy 3D Printing Filament Refill Bundle (X5 Pack, Over 1000'. of Extruded Plastics! - Innovate                                      2\n",
       "Guillow Airplane Design Studio with Travel Case Building Kit                                                                                         3\n",
       "Woodstock- Collage 500 pc Puzzle                                                                                                                     4\n",
       "Rubie's Child's Pokemon Deluxe Pikachu Costume, X-Small                                                                                              5\n",
       "ARTSCAPE Etched Glass 24\" x 36\" Window Film, 24-by-36-Inch                                                                                           6\n",
       "Moonlite, 3-Story Bundle for Boys, Includes 3 Story Reels for Use with Storybook Projector                                                           7\n",
       "DC Cover Girls: Black Canary by Joëlle Jones Statue                                                                                                  8\n",
       "LEGO Minecraft Creeper BigFig and Ocelot Characters 21156 Buildable Toy Minecraft Figure Gift Set for Play and Decoration, New 2020 (184 Pieces)     9\n",
       "C&D Visionary DC Comic Originals Flash Logo Sticker                                                                                                 10\n",
       "The Learning Journey ABC Melody Maker, Primary                                                                                                      11\n",
       "The Complete Common Core: State Standards Kit, Grade 5                                                                                              12\n",
       "Flash Furniture 25''W x 45''L Trapezoid Red HP Laminate Activity Table - Height Adjustable Short Legs                                               13\n",
       "Schylling Veterinarian Kit                                                                                                                          14\n",
       "Yellies! Frizz; Voice-Activated Spider Pet; Ages 5 & Up                                                                                             15\n",
       "Disney HK318329 Sofia The First Sleepover Set                                                                                                       16\n",
       "Team Associated 9665 Hinge Pin Brace with Hinge Pins B4/T4                                                                                          17\n",
       "PLUS PLUS - Construction Building Toy, Open Play Set - 3,600 Pieces with Storage Tub - Basic Color Mix                                              18\n",
       "Peppa Pig Shape Sorter Clock Puzzle (12Piece)                                                                                                       19\n",
       "dtype: int64"
      ]
     },
     "execution_count": 14,
     "metadata": {},
     "output_type": "execute_result"
    }
   ],
   "source": [
    "indices[:20]                                                            #  printa os 20 primeiros valores de indices"
   ]
  },
  {
   "cell_type": "markdown",
   "metadata": {},
   "source": [
    "# UDF"
   ]
  },
  {
   "cell_type": "code",
   "execution_count": 15,
   "metadata": {},
   "outputs": [
    {
     "name": "stderr",
     "output_type": "stream",
     "text": [
      "c:\\Users\\Nytoy\\OneDrive\\Documents\\GitHub\\RecommendationSystem\\.venv\\Lib\\site-packages\\fuzzywuzzy\\fuzz.py:11: UserWarning: Using slow pure-python SequenceMatcher. Install python-Levenshtein to remove this warning\n",
      "  warnings.warn('Using slow pure-python SequenceMatcher. Install python-Levenshtein to remove this warning')\n"
     ]
    }
   ],
   "source": [
    "from fuzzywuzzy import fuzz                                             # importa fuzzywuzzy\n",
    "from fuzzywuzzy import process"
   ]
  },
  {
   "cell_type": "code",
   "execution_count": 16,
   "metadata": {},
   "outputs": [],
   "source": [
    "choices = list(indices.index)                                           # cria vetor com as escolha a serem selecionadas"
   ]
  },
  {
   "cell_type": "code",
   "execution_count": 17,
   "metadata": {},
   "outputs": [
    {
     "name": "stdout",
     "output_type": "stream",
     "text": [
      "CPU times: total: 781 ms\n",
      "Wall time: 1.97 s\n"
     ]
    },
    {
     "data": {
      "text/plain": [
       "'LEGO Lunch Box, Medium Pink'"
      ]
     },
     "execution_count": 17,
     "metadata": {},
     "output_type": "execute_result"
    }
   ],
   "source": [
    "%%time\n",
    "\n",
    "extracted = process.extract(\"lego\", choices, limit=1)\n",
    "extracted[0][0]"
   ]
  },
  {
   "cell_type": "code",
   "execution_count": 18,
   "metadata": {},
   "outputs": [
    {
     "name": "stdout",
     "output_type": "stream",
     "text": [
      "Product Name                                                                                                                                                                                                                                                                                                                                                                                                                                                                                                                                                                                                                                                               VTech Twist and Hug Koala Rattle\n",
      "Category                                                                                                                                                                                                                                                                                                                                                                                                                                                                                                                                                                                                                                        Toys & Games | Kids' Electronics | Electronic Learning Toys\n",
      "Selling Price                                                                                                                                                                                                                                                                                                                                                                                                                                                                                                                                                                                                                                                                                         $7.99\n",
      "About Product              Make sure this fits by entering your model number. | Press the twinkling heart button to trigger phrases about feelings, fun facts about the koala, silly sounds and entertaining music and songs | Your little one will be delighted when shaking the adorable koala, hearing playful sounds and short tunes | Twisting the koala's colorful textured ears develop motor skills and promote tactile stimulation | Easy-grasp textured handle is perfectly sized for little ones to hold and shake, plus it's great for on-the-go play | Intended for ages 3-24 months. Requires 1 AAA battery. Battery included for demo purposes only, new battery recommended for regular use\n",
      "Product Specification                                                                                                                                                                                                                                                                                                                                                                                                                                         ProductDimensions:2.2x6.3x5.9inches|ItemWeight:5.1ounces|ShippingWeight:8.5ounces(Viewshippingratesandpolicies)|ASIN:B07GXMCWT5|Itemmodelnumber:80-513200|Manufacturerrecommendedage:3month-2years|Batteries:1AAAbatteriesrequired.(included)\n",
      "Shipping Weight                                                                                                                                                                                                                                                                                                                                                                                                                                                                                                                                                                                                                                                                                  8.5 ounces\n",
      "Selling Price_processed                                                                                                                                                                                                                                                                                                                                                                                                                                                                                                                                                                                                                                                                                7.99\n",
      "Name: 39, dtype: object\n"
     ]
    }
   ],
   "source": [
    "print(dataset.loc[39])"
   ]
  },
  {
   "cell_type": "code",
   "execution_count": 19,
   "metadata": {},
   "outputs": [],
   "source": [
    "# Function that takes in product name as input and outputs most similar product\n",
    "def rec_lin(user_input, linear=linear):\n",
    "    \n",
    "    # use fuzzywuzzy to grab the product with name closest to user input\n",
    "    extracted = process.extract(user_input, choices, limit=1)               # usa extract para extrair do vetor de escolhas, um produto que possui similaridade com o input do usuário\n",
    "    product_name = extracted[0][0]                                          # atribui essa escolha a uma variável\n",
    "    \n",
    "    # Get the index of the product that matches the product name\n",
    "    idx = indices[product_name]                                             # cria uma variável para armazenar o indice do produto\n",
    "\n",
    "    # Get the pairwise similarity scores\n",
    "    sim_scores = list(enumerate(linear[idx]))                               # cria lista com os valaores de produtos similares\n",
    "\n",
    "    # Sort the products based on the similarity scores\n",
    "    sim_scores = sorted(sim_scores, key=lambda x: x[1], reverse=True)       # organiza a lista\n",
    "\n",
    "    # Get the scores of the 10 most similar products\n",
    "    sim_scores = sim_scores[1:11]                                           # pega os 10 produtos mais similares\n",
    "\n",
    "    # Get the product indices\n",
    "    product_indices = [i[0] for i in sim_scores]                            # pega os indices dos produtos\n",
    "\n",
    "    df_return = dataset[[\"Product Name\",\"Selling Price\", \"Selling Price_processed\"]].loc[product_indices]\n",
    "    # Return the top 10 most similar products\n",
    "    return df_return.sort_values(by=\"Selling Price_processed\", ascending=True)[[\"Product Name\",\"Selling Price\"]]"
   ]
  },
  {
   "cell_type": "code",
   "execution_count": 40,
   "metadata": {
    "scrolled": true
   },
   "outputs": [
    {
     "data": {
      "text/html": [
       "<div>\n",
       "<style scoped>\n",
       "    .dataframe tbody tr th:only-of-type {\n",
       "        vertical-align: middle;\n",
       "    }\n",
       "\n",
       "    .dataframe tbody tr th {\n",
       "        vertical-align: top;\n",
       "    }\n",
       "\n",
       "    .dataframe thead th {\n",
       "        text-align: right;\n",
       "    }\n",
       "</style>\n",
       "<table border=\"1\" class=\"dataframe\">\n",
       "  <thead>\n",
       "    <tr style=\"text-align: right;\">\n",
       "      <th></th>\n",
       "      <th>Product Name</th>\n",
       "      <th>Selling Price</th>\n",
       "    </tr>\n",
       "  </thead>\n",
       "  <tbody>\n",
       "    <tr>\n",
       "      <th>88</th>\n",
       "      <td>Firefly: The Game - Esmeralda Game Expansion</td>\n",
       "      <td>$12.50</td>\n",
       "    </tr>\n",
       "    <tr>\n",
       "      <th>291</th>\n",
       "      <td>Pressman Toys Giant Snakes &amp; Ladders Game (4 Player)</td>\n",
       "      <td>$14.90</td>\n",
       "    </tr>\n",
       "    <tr>\n",
       "      <th>118</th>\n",
       "      <td>Indie Boards and Cards Flash Point Fire Rescue 2nd Story</td>\n",
       "      <td>$14.99</td>\n",
       "    </tr>\n",
       "    <tr>\n",
       "      <th>278</th>\n",
       "      <td>Smart Play Ingenio Colors &amp; Shapes Memory Match Game</td>\n",
       "      <td>$15.20</td>\n",
       "    </tr>\n",
       "    <tr>\n",
       "      <th>252</th>\n",
       "      <td>Toysmith Get Outside GO! Neon Dart Ball Set, Packaging may vary</td>\n",
       "      <td>$16.78</td>\n",
       "    </tr>\n",
       "    <tr>\n",
       "      <th>223</th>\n",
       "      <td>Schylling Shuffle Shot</td>\n",
       "      <td>$19.99</td>\n",
       "    </tr>\n",
       "    <tr>\n",
       "      <th>250</th>\n",
       "      <td>Carson-Dellosa Publishing Language Arts Learning Games, Grade 2</td>\n",
       "      <td>$24.99</td>\n",
       "    </tr>\n",
       "    <tr>\n",
       "      <th>302</th>\n",
       "      <td>Ninja Division NAS Howl &amp; Yip Board Game</td>\n",
       "      <td>$3.07</td>\n",
       "    </tr>\n",
       "    <tr>\n",
       "      <th>193</th>\n",
       "      <td>GreenBrier Games Yashima Legends from Fairytale Board Game</td>\n",
       "      <td>$35.00</td>\n",
       "    </tr>\n",
       "    <tr>\n",
       "      <th>299</th>\n",
       "      <td>Inlaid Cribbage Box with Cards</td>\n",
       "      <td>$43.00</td>\n",
       "    </tr>\n",
       "  </tbody>\n",
       "</table>\n",
       "</div>"
      ],
      "text/plain": [
       "                                                        Product Name Selling Price\n",
       "88                      Firefly: The Game - Esmeralda Game Expansion        $12.50\n",
       "291             Pressman Toys Giant Snakes & Ladders Game (4 Player)        $14.90\n",
       "118         Indie Boards and Cards Flash Point Fire Rescue 2nd Story        $14.99\n",
       "278             Smart Play Ingenio Colors & Shapes Memory Match Game        $15.20\n",
       "252  Toysmith Get Outside GO! Neon Dart Ball Set, Packaging may vary        $16.78\n",
       "223                                           Schylling Shuffle Shot        $19.99\n",
       "250  Carson-Dellosa Publishing Language Arts Learning Games, Grade 2        $24.99\n",
       "302                         Ninja Division NAS Howl & Yip Board Game         $3.07\n",
       "193       GreenBrier Games Yashima Legends from Fairytale Board Game        $35.00\n",
       "299                                   Inlaid Cribbage Box with Cards        $43.00"
      ]
     },
     "execution_count": 40,
     "metadata": {},
     "output_type": "execute_result"
    }
   ],
   "source": [
    "name = input(\"What would you like to search for today? \")\n",
    "rec_lin(name)"
   ]
  }
 ],
 "metadata": {
  "kernelspec": {
   "display_name": ".venv",
   "language": "python",
   "name": "python3"
  },
  "language_info": {
   "codemirror_mode": {
    "name": "ipython",
    "version": 3
   },
   "file_extension": ".py",
   "mimetype": "text/x-python",
   "name": "python",
   "nbconvert_exporter": "python",
   "pygments_lexer": "ipython3",
   "version": "3.11.9"
  }
 },
 "nbformat": 4,
 "nbformat_minor": 4
}
