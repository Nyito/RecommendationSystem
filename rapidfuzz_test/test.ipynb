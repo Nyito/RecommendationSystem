{
 "cells": [
  {
   "cell_type": "code",
   "execution_count": 6,
   "metadata": {},
   "outputs": [],
   "source": [
    "from rapidfuzz import fuzz, process, utils\n",
    "import pandas as pd"
   ]
  },
  {
   "cell_type": "code",
   "execution_count": 7,
   "metadata": {},
   "outputs": [
    {
     "name": "stdout",
     "output_type": "stream",
     "text": [
      "<class 'pandas.core.frame.DataFrame'>\n",
      "RangeIndex: 7136 entries, 0 to 7135\n",
      "Data columns (total 8 columns):\n",
      " #   Column                   Non-Null Count  Dtype  \n",
      "---  ------                   --------------  -----  \n",
      " 0   Product Name             7136 non-null   object \n",
      " 1   Selling Price($)         7136 non-null   float64\n",
      " 2   About Product            7136 non-null   object \n",
      " 3   Product Specification    7136 non-null   object \n",
      " 4   Shipping Weight(Pounds)  7136 non-null   float64\n",
      " 5   Main Category            7136 non-null   object \n",
      " 6   Sub-Category             7136 non-null   object \n",
      " 7   Side Category            6155 non-null   object \n",
      "dtypes: float64(2), object(6)\n",
      "memory usage: 446.1+ KB\n"
     ]
    }
   ],
   "source": [
    "dataset = pd.read_csv('../data/CleanData.csv')\n",
    "dataset.info()"
   ]
  },
  {
   "cell_type": "code",
   "execution_count": 8,
   "metadata": {},
   "outputs": [
    {
     "name": "stdout",
     "output_type": "stream",
     "text": [
      "Junior Learning Fantail Books Turquoise Non Fiction Educational Action Games\n"
     ]
    }
   ],
   "source": [
    "print(dataset['Product Name'][6875])"
   ]
  },
  {
   "cell_type": "code",
   "execution_count": 9,
   "metadata": {},
   "outputs": [],
   "source": [
    "# Função para realizar os testes\n",
    "def testar_inputs(input_user, products, divisor=None, limit=2):\n",
    "    # Caso haja divisor, quebrar o input em partes\n",
    "    if divisor:\n",
    "        inputs = [i.strip() for i in input_user.split(divisor)]\n",
    "    else:\n",
    "        inputs = [input_user]\n",
    "\n",
    "    df_resultados = pd.DataFrame(columns=['scenario', 'input', 'scorer_name', 'scorer_value', 'product_name'])\n",
    "    \n",
    "    scorers = [\n",
    "        fuzz.ratio,\n",
    "        fuzz.partial_ratio,\n",
    "        fuzz.token_sort_ratio,\n",
    "        fuzz.partial_token_sort_ratio,\n",
    "        fuzz.token_set_ratio,\n",
    "        fuzz.partial_token_set_ratio,\n",
    "        fuzz.QRatio,\n",
    "        fuzz.WRatio\n",
    "    ]\n",
    "\n",
    "    scorer_names = [\n",
    "        \"ratio\",\n",
    "        \"partial_ratio\",\n",
    "        \"token_sort_ratio\",\n",
    "        \"partial_token_sort_ratio\",\n",
    "        \"token_set_ratio\",\n",
    "        \"partial_token_set_ratio\",\n",
    "        \"Q_ratio\",\n",
    "        \"W_ratio\"\n",
    "    ]\n",
    "\n",
    "    # Testar cada input individualmente\n",
    "    for inp in inputs:\n",
    "        for scorer, name in zip(scorers, scorer_names):\n",
    "            best_matches = process.extract(inp, products, scorer=scorer, limit=limit, processor=utils.default_process)\n",
    "            df_aux = pd.DataFrame({'input':inp, 'scorer_name':name, 'scorer_value':best_matches[0][1], 'product_name':best_matches[0][0]}, index=[0])\n",
    "            df_resultados = pd.concat([df_resultados, df_aux], ignore_index=True)\n",
    "\n",
    "    return df_resultados"
   ]
  },
  {
   "cell_type": "code",
   "execution_count": 10,
   "metadata": {},
   "outputs": [
    {
     "name": "stderr",
     "output_type": "stream",
     "text": [
      "C:\\Users\\Nytoy\\AppData\\Local\\Temp\\ipykernel_18384\\2954801050.py:38: FutureWarning: The behavior of DataFrame concatenation with empty or all-NA entries is deprecated. In a future version, this will no longer exclude empty or all-NA columns when determining the result dtypes. To retain the old behavior, exclude the relevant entries before the concat operation.\n",
      "  df_resultados = pd.concat([df_resultados, df_aux], ignore_index=True)\n",
      "C:\\Users\\Nytoy\\AppData\\Local\\Temp\\ipykernel_18384\\2954801050.py:38: FutureWarning: The behavior of DataFrame concatenation with empty or all-NA entries is deprecated. In a future version, this will no longer exclude empty or all-NA columns when determining the result dtypes. To retain the old behavior, exclude the relevant entries before the concat operation.\n",
      "  df_resultados = pd.concat([df_resultados, df_aux], ignore_index=True)\n",
      "C:\\Users\\Nytoy\\AppData\\Local\\Temp\\ipykernel_18384\\2954801050.py:38: FutureWarning: The behavior of DataFrame concatenation with empty or all-NA entries is deprecated. In a future version, this will no longer exclude empty or all-NA columns when determining the result dtypes. To retain the old behavior, exclude the relevant entries before the concat operation.\n",
      "  df_resultados = pd.concat([df_resultados, df_aux], ignore_index=True)\n",
      "C:\\Users\\Nytoy\\AppData\\Local\\Temp\\ipykernel_18384\\2954801050.py:38: FutureWarning: The behavior of DataFrame concatenation with empty or all-NA entries is deprecated. In a future version, this will no longer exclude empty or all-NA columns when determining the result dtypes. To retain the old behavior, exclude the relevant entries before the concat operation.\n",
      "  df_resultados = pd.concat([df_resultados, df_aux], ignore_index=True)\n"
     ]
    },
    {
     "name": "stdout",
     "output_type": "stream",
     "text": [
      "   scenario                   input               scorer_name  scorer_value  \\\n",
      "0       NaN                Learning                     ratio     52.631579   \n",
      "1       NaN                Learning             partial_ratio    100.000000   \n",
      "2       NaN                Learning          token_sort_ratio     53.846154   \n",
      "3       NaN                Learning  partial_token_sort_ratio    100.000000   \n",
      "4       NaN                Learning           token_set_ratio    100.000000   \n",
      "..      ...                     ...                       ...           ...   \n",
      "59      NaN  Learninc Fentail Bools  partial_token_sort_ratio     68.181818   \n",
      "60      NaN  Learninc Fentail Bools           token_set_ratio     55.000000   \n",
      "61      NaN  Learninc Fentail Bools   partial_token_set_ratio     68.181818   \n",
      "62      NaN  Learninc Fentail Bools                   Q_ratio     56.140351   \n",
      "63      NaN  Learninc Fentail Bools                   W_ratio     77.727273   \n",
      "\n",
      "                                         product_name  \n",
      "0                                         Party Bingo  \n",
      "1      The Learning Journey ABC Melody Maker, Primary  \n",
      "2                                  Ringing Basketball  \n",
      "3      The Learning Journey ABC Melody Maker, Primary  \n",
      "4      The Learning Journey ABC Melody Maker, Primary  \n",
      "..                                                ...  \n",
      "59  Learning Resources Pattern Blocks Smart Pack, ...  \n",
      "60                                 Ringing Basketball  \n",
      "61  Learning Resources Pattern Blocks Smart Pack, ...  \n",
      "62                Learning Resources Feet By The Foot  \n",
      "63  Junior Learning Fantail Books Turquoise Non Fi...  \n",
      "\n",
      "[64 rows x 5 columns]\n"
     ]
    }
   ],
   "source": [
    "products_list = dataset[\"Product Name\"]\n",
    "\n",
    "limit = 2\n",
    "\n",
    "# scenarios = [\n",
    "#     {\"input\": \"Fantail\", \"divisor\": None},  \n",
    "#     {\"input\": \"Learning; Turquoise; Fiction\", \"divisor\": ';'},  \n",
    "#     {\"input\": \"Non Fiction Educational Games\", \"divisor\": None},  \n",
    "#     {\"input\": \"Fantail Books; Junior Books; Fiction Action Games\", \"divisor\": ';'}, \n",
    "# ]\n",
    "scenarios = [\n",
    "    {\"input\": \"Learning; Turquoise; Fiction\", \"divisor\": ';'},  \n",
    "    {\"input\": \"Learninc; Turqooise; Fection\", \"divisor\": ';'},  \n",
    "    {\"input\": \"Learning Fantail Books\", \"divisor\": None},  \n",
    "    {\"input\": \"Learninc Fentail Bools\", \"divisor\": None},  \n",
    "\n",
    "]\n",
    "\n",
    "lista_df = []\n",
    "\n",
    "for scenario in scenarios:\n",
    "    input = scenario['input']\n",
    "    divisor = scenario['divisor']\n",
    "\n",
    "    resultados = testar_inputs(input_user=input, products=products_list, divisor=divisor, limit=limit)\n",
    "    # print(resultados)\n",
    "    lista_df.append(resultados)\n",
    "\n",
    "df_final = pd.concat(lista_df, ignore_index=True)\n",
    "\n",
    "print(df_final)\n",
    "\n",
    "df_final.to_csv('Learning.csv', index=False)"
   ]
  }
 ],
 "metadata": {
  "kernelspec": {
   "display_name": ".venv",
   "language": "python",
   "name": "python3"
  },
  "language_info": {
   "codemirror_mode": {
    "name": "ipython",
    "version": 3
   },
   "file_extension": ".py",
   "mimetype": "text/x-python",
   "name": "python",
   "nbconvert_exporter": "python",
   "pygments_lexer": "ipython3",
   "version": "3.11.9"
  }
 },
 "nbformat": 4,
 "nbformat_minor": 2
}
