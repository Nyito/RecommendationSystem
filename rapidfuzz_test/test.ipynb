{
 "cells": [
  {
   "cell_type": "code",
   "execution_count": 25,
   "metadata": {},
   "outputs": [],
   "source": [
    "from rapidfuzz import fuzz, process, utils\n",
    "import pandas as pd"
   ]
  },
  {
   "cell_type": "code",
   "execution_count": 26,
   "metadata": {},
   "outputs": [
    {
     "name": "stdout",
     "output_type": "stream",
     "text": [
      "<class 'pandas.core.frame.DataFrame'>\n",
      "RangeIndex: 7136 entries, 0 to 7135\n",
      "Data columns (total 8 columns):\n",
      " #   Column                   Non-Null Count  Dtype  \n",
      "---  ------                   --------------  -----  \n",
      " 0   Product Name             7136 non-null   object \n",
      " 1   Selling Price($)         7136 non-null   float64\n",
      " 2   About Product            7136 non-null   object \n",
      " 3   Product Specification    7136 non-null   object \n",
      " 4   Shipping Weight(Pounds)  7136 non-null   float64\n",
      " 5   Main Category            7136 non-null   object \n",
      " 6   Sub-Category             7136 non-null   object \n",
      " 7   Side Category            6155 non-null   object \n",
      "dtypes: float64(2), object(6)\n",
      "memory usage: 446.1+ KB\n"
     ]
    }
   ],
   "source": [
    "dataset = pd.read_csv('../data/CleanData.csv')\n",
    "dataset.info()"
   ]
  },
  {
   "cell_type": "code",
   "execution_count": 27,
   "metadata": {},
   "outputs": [
    {
     "name": "stdout",
     "output_type": "stream",
     "text": [
      "Junior Learning Fantail Books Turquoise Non Fiction Educational Action Games\n"
     ]
    }
   ],
   "source": [
    "print(dataset['Product Name'][6875])"
   ]
  },
  {
   "cell_type": "code",
   "execution_count": 42,
   "metadata": {},
   "outputs": [],
   "source": [
    "# Função para realizar os testes\n",
    "def testar_inputs(input_user, products, divisor=None, limit=1):\n",
    "    # Caso haja divisor, quebrar o input em partes\n",
    "    if divisor:\n",
    "        inputs = [i.strip() for i in input_user.split(divisor)]\n",
    "    else:\n",
    "        inputs = [input_user]\n",
    "\n",
    "    df_resultados = pd.DataFrame(columns=['input', 'scorer_name', 'scorer_value', 'product_name'])\n",
    "    \n",
    "    scorers = [\n",
    "        fuzz.ratio,\n",
    "        fuzz.partial_ratio,\n",
    "        fuzz.token_sort_ratio,\n",
    "        fuzz.partial_token_sort_ratio,\n",
    "        fuzz.token_set_ratio,\n",
    "        fuzz.partial_token_set_ratio,\n",
    "        fuzz.QRatio,\n",
    "        fuzz.WRatio\n",
    "    ]\n",
    "\n",
    "    scorer_names = [\n",
    "        \"ratio\",\n",
    "        \"partial_ratio\",\n",
    "        \"token_sort_ratio\",\n",
    "        \"partial_token_sort_ratio\",\n",
    "        \"token_set_ratio\",\n",
    "        \"partial_token_set_ratio\",\n",
    "        \"Q_ratio\",\n",
    "        \"W_ratio\"\n",
    "    ]\n",
    "\n",
    "    # Testar cada input individualmente\n",
    "    for inp in inputs:\n",
    "        for scorer, name in zip(scorers, scorer_names):\n",
    "            best_matches = process.extract(inp, products, scorer=scorer, limit=limit, processor=utils.default_process)\n",
    "            df_aux = pd.DataFrame({'input':inp, 'scorer_name':name, 'scorer_value':best_matches[0][1], 'product_name':best_matches[0][0]}, index=[0])\n",
    "            df_resultados = pd.concat([df_resultados, df_aux], ignore_index=True)\n",
    "\n",
    "    return df_resultados"
   ]
  },
  {
   "cell_type": "code",
   "execution_count": 43,
   "metadata": {},
   "outputs": [
    {
     "name": "stderr",
     "output_type": "stream",
     "text": [
      "C:\\Users\\Nytoy\\AppData\\Local\\Temp\\ipykernel_28904\\4276122798.py:38: FutureWarning: The behavior of DataFrame concatenation with empty or all-NA entries is deprecated. In a future version, this will no longer exclude empty or all-NA columns when determining the result dtypes. To retain the old behavior, exclude the relevant entries before the concat operation.\n",
      "  df_resultados = pd.concat([df_resultados, df_aux], ignore_index=True)\n",
      "C:\\Users\\Nytoy\\AppData\\Local\\Temp\\ipykernel_28904\\4276122798.py:38: FutureWarning: The behavior of DataFrame concatenation with empty or all-NA entries is deprecated. In a future version, this will no longer exclude empty or all-NA columns when determining the result dtypes. To retain the old behavior, exclude the relevant entries before the concat operation.\n",
      "  df_resultados = pd.concat([df_resultados, df_aux], ignore_index=True)\n",
      "C:\\Users\\Nytoy\\AppData\\Local\\Temp\\ipykernel_28904\\4276122798.py:38: FutureWarning: The behavior of DataFrame concatenation with empty or all-NA entries is deprecated. In a future version, this will no longer exclude empty or all-NA columns when determining the result dtypes. To retain the old behavior, exclude the relevant entries before the concat operation.\n",
      "  df_resultados = pd.concat([df_resultados, df_aux], ignore_index=True)\n",
      "C:\\Users\\Nytoy\\AppData\\Local\\Temp\\ipykernel_28904\\4276122798.py:38: FutureWarning: The behavior of DataFrame concatenation with empty or all-NA entries is deprecated. In a future version, this will no longer exclude empty or all-NA columns when determining the result dtypes. To retain the old behavior, exclude the relevant entries before the concat operation.\n",
      "  df_resultados = pd.concat([df_resultados, df_aux], ignore_index=True)\n"
     ]
    },
    {
     "name": "stdout",
     "output_type": "stream",
     "text": [
      "                   input               scorer_name  scorer_value  \\\n",
      "0                Fantail                     ratio     57.142857   \n",
      "1                Fantail             partial_ratio    100.000000   \n",
      "2                Fantail          token_sort_ratio     57.142857   \n",
      "3                Fantail  partial_token_sort_ratio    100.000000   \n",
      "4                Fantail           token_set_ratio    100.000000   \n",
      "..                   ...                       ...           ...   \n",
      "59  Fiction Action Games  partial_token_sort_ratio     85.000000   \n",
      "60  Fiction Action Games           token_set_ratio    100.000000   \n",
      "61  Fiction Action Games   partial_token_set_ratio    100.000000   \n",
      "62  Fiction Action Games                   Q_ratio     62.222222   \n",
      "63  Fiction Action Games                   W_ratio     85.500000   \n",
      "\n",
      "                                         product_name  \n",
      "0                                             Mandala  \n",
      "1   Junior Learning Fantail Books Turquoise Non Fi...  \n",
      "2                                             Mandala  \n",
      "3   Junior Learning Fantail Books Turquoise Non Fi...  \n",
      "4   Junior Learning Fantail Books Turquoise Non Fi...  \n",
      "..                                                ...  \n",
      "59  Junior Learning Fantail Books Turquoise Non Fi...  \n",
      "60  Junior Learning Fantail Books Turquoise Non Fi...  \n",
      "61  TAMASHII NATIONS Bandai S.H. Figuarts Captain ...  \n",
      "62                          Multiplication Bingo Game  \n",
      "63  TAMASHII NATIONS Bandai S.H. Figuarts Captain ...  \n",
      "\n",
      "[64 rows x 4 columns]\n"
     ]
    }
   ],
   "source": [
    "products_list = dataset[\"Product Name\"]\n",
    "\n",
    "limit = 1\n",
    "\n",
    "scenarios = [\n",
    "    {\"input\": \"Fantail\", \"divisor\": None},  \n",
    "    {\"input\": \"Learning; Turquoise; Fiction\", \"divisor\": ';'},  \n",
    "    {\"input\": \"Non Fiction Educational Games\", \"divisor\": None},  \n",
    "    {\"input\": \"Fantail Books; Junior Books; Fiction Action Games\", \"divisor\": ';'}, \n",
    "]\n",
    "\n",
    "lista_df = []\n",
    "\n",
    "for scenario in scenarios:\n",
    "    input = scenario['input']\n",
    "    divisor = scenario['divisor']\n",
    "\n",
    "    resultados = testar_inputs(input_user=input, products=products_list, divisor=divisor, limit=limit)\n",
    "    # print(resultados)\n",
    "    lista_df.append(resultados)\n",
    "\n",
    "df_final = pd.concat(lista_df, ignore_index=True)\n",
    "\n",
    "print(df_final)\n",
    "\n",
    "df_final.to_csv('teste.csv', index=False)\n",
    "# ratio = process.extract(input, products_list, scorer=fuzz.ratio, limit=limit, processor=utils.default_process)\n",
    "# p_ratio = process.extract(input, products_list, scorer=fuzz.partial_ratio, limit=limit, processor=utils.default_process)\n",
    "# tsort_ratio = process.extract(input, products_list, scorer=fuzz.token_sort_ratio, limit=limit, processor=utils.default_process)\n",
    "# ptsort_ratio = process.extract(input, products_list, scorer=fuzz.partial_token_sort_ratio, limit=limit, processor=utils.default_process)\n",
    "# tset_ratio = process.extract(input, products_list, scorer=fuzz.token_set_ratio, limit=limit, processor=utils.default_process)\n",
    "# ptset_ratio = process.extract(input, products_list, scorer=fuzz.partial_token_set_ratio, limit=limit, processor=utils.default_process)\n",
    "# W_ratio = process.extract(input, products_list, scorer=fuzz.WRatio, limit=limit, processor=utils.default_process)\n",
    "# Q_ratio = process.extract(input, products_list, scorer=fuzz.QRatio, limit=limit, processor=utils.default_process)\n",
    "\n",
    "# print(f'ratio:                      {ratio}')\n",
    "# print(f'partial ratio:              {p_ratio}')\n",
    "# print(f'token sort ratio:           {tsort_ratio}')\n",
    "# print(f'partial token ratio:        {ptsort_ratio}')\n",
    "# print(f'token set ratio:            {tset_ratio}')\n",
    "# print(f'partial token set ratio:    {ptset_ratio}')\n",
    "# print(f'Wratio:                     {W_ratio}')\n",
    "# print(f'Qratio:                     {Q_ratio}')"
   ]
  }
 ],
 "metadata": {
  "kernelspec": {
   "display_name": ".venv",
   "language": "python",
   "name": "python3"
  },
  "language_info": {
   "codemirror_mode": {
    "name": "ipython",
    "version": 3
   },
   "file_extension": ".py",
   "mimetype": "text/x-python",
   "name": "python",
   "nbconvert_exporter": "python",
   "pygments_lexer": "ipython3",
   "version": "3.11.9"
  }
 },
 "nbformat": 4,
 "nbformat_minor": 2
}
