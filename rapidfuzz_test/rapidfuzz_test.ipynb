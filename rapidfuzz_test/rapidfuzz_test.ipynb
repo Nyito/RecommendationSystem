{
 "cells": [
  {
   "cell_type": "code",
   "execution_count": 5,
   "metadata": {},
   "outputs": [],
   "source": [
    "from rapidfuzz import fuzz, process, utils\n",
    "import pandas as pd"
   ]
  },
  {
   "cell_type": "code",
   "execution_count": 6,
   "metadata": {},
   "outputs": [
    {
     "name": "stdout",
     "output_type": "stream",
     "text": [
      "<class 'pandas.core.frame.DataFrame'>\n",
      "RangeIndex: 10002 entries, 0 to 10001\n",
      "Data columns (total 28 columns):\n",
      " #   Column                 Non-Null Count  Dtype  \n",
      "---  ------                 --------------  -----  \n",
      " 0   Uniq Id                10002 non-null  object \n",
      " 1   Product Name           10002 non-null  object \n",
      " 2   Brand Name             0 non-null      float64\n",
      " 3   Asin                   0 non-null      float64\n",
      " 4   Category               9172 non-null   object \n",
      " 5   Upc Ean Code           34 non-null     object \n",
      " 6   List Price             0 non-null      float64\n",
      " 7   Selling Price          9895 non-null   object \n",
      " 8   Quantity               0 non-null      float64\n",
      " 9   Model Number           8230 non-null   object \n",
      " 10  About Product          9729 non-null   object \n",
      " 11  Product Specification  8370 non-null   object \n",
      " 12  Technical Details      9212 non-null   object \n",
      " 13  Shipping Weight        8864 non-null   object \n",
      " 14  Product Dimensions     479 non-null    object \n",
      " 15  Image                  10002 non-null  object \n",
      " 16  Variants               2478 non-null   object \n",
      " 17  Sku                    0 non-null      float64\n",
      " 18  Product Url            10002 non-null  object \n",
      " 19  Stock                  0 non-null      float64\n",
      " 20  Product Details        0 non-null      float64\n",
      " 21  Dimensions             0 non-null      float64\n",
      " 22  Color                  0 non-null      float64\n",
      " 23  Ingredients            0 non-null      float64\n",
      " 24  Direction To Use       0 non-null      float64\n",
      " 25  Is Amazon Seller       10002 non-null  object \n",
      " 26  Size Quantity Variant  0 non-null      float64\n",
      " 27  Product Description    0 non-null      float64\n",
      "dtypes: float64(13), object(15)\n",
      "memory usage: 2.1+ MB\n"
     ]
    }
   ],
   "source": [
    "dataset = pd.read_csv(\"AmazonData.csv\")\n",
    "dataset.info()"
   ]
  },
  {
   "cell_type": "code",
   "execution_count": 7,
   "metadata": {},
   "outputs": [
    {
     "name": "stdout",
     "output_type": "stream",
     "text": [
      "<class 'pandas.core.frame.DataFrame'>\n",
      "Index: 7216 entries, 0 to 10001\n",
      "Data columns (total 6 columns):\n",
      " #   Column                 Non-Null Count  Dtype \n",
      "---  ------                 --------------  ----- \n",
      " 0   Product Name           7216 non-null   object\n",
      " 1   Category               7216 non-null   object\n",
      " 2   Selling Price          7216 non-null   object\n",
      " 3   About Product          7216 non-null   object\n",
      " 4   Product Specification  7216 non-null   object\n",
      " 5   Shipping Weight        7216 non-null   object\n",
      "dtypes: object(6)\n",
      "memory usage: 394.6+ KB\n"
     ]
    }
   ],
   "source": [
    "cols = [0,2,3,5,6,8,9,12,14,15,16,17,18,19,20,21,22,23,24,25,26,27]\n",
    "dataset.drop(dataset.columns[cols], axis =1, inplace=True)\n",
    "dataset.dropna(inplace = True)\n",
    "dataset.info()"
   ]
  },
  {
   "cell_type": "code",
   "execution_count": 8,
   "metadata": {},
   "outputs": [],
   "source": [
    "new = dataset[\"Category\"].str.split(\"|\", n = 3, expand = True)\n",
    "new = new.apply(lambda x: x.str.strip())\n",
    "  \n",
    "# making the first category called Main Category\n",
    "dataset[\"Main Category\"]= new[0] \n",
    "  \n",
    "# making the second category called sub_category \n",
    "dataset[\"Sub Category\"]= new[1]\n",
    "\n",
    "# making the third category called side_category \n",
    "dataset[\"Side Category\"]= new[2]\n",
    "\n",
    "# making the last column consist of the remaining categories\n",
    "dataset[\"Other Category\"]= new[3]\n",
    "\n",
    "# Dropping old category columns and the remaining categories \n",
    "dataset.drop(columns =[\"Category\"], inplace = True)"
   ]
  },
  {
   "cell_type": "code",
   "execution_count": 9,
   "metadata": {},
   "outputs": [
    {
     "name": "stdout",
     "output_type": "stream",
     "text": [
      "<class 'pandas.core.frame.DataFrame'>\n",
      "Index: 7216 entries, 0 to 10001\n",
      "Data columns (total 9 columns):\n",
      " #   Column                 Non-Null Count  Dtype \n",
      "---  ------                 --------------  ----- \n",
      " 0   Product Name           7216 non-null   object\n",
      " 1   Selling Price          7216 non-null   object\n",
      " 2   About Product          7216 non-null   object\n",
      " 3   Product Specification  7216 non-null   object\n",
      " 4   Shipping Weight        7216 non-null   object\n",
      " 5   Main Category          7216 non-null   object\n",
      " 6   Sub Category           7216 non-null   object\n",
      " 7   Side Category          6231 non-null   object\n",
      " 8   Other Category         2791 non-null   object\n",
      "dtypes: object(9)\n",
      "memory usage: 563.8+ KB\n"
     ]
    }
   ],
   "source": [
    "dataset.info()"
   ]
  },
  {
   "cell_type": "code",
   "execution_count": 17,
   "metadata": {},
   "outputs": [
    {
     "name": "stdout",
     "output_type": "stream",
     "text": [
      "[('Lego Space & Airport Set', 58.82352941176471, 4750), ('Space Base', 50.0, 5575), ('Green Glow Necklace', 48.275862068965516, 4552), ('LEGO Desk Drawer 8, Grey', 47.05882352941176, 4965), ('FOLDOVER STICKER', 46.15384615384615, 6726)]\n",
      "[('Lego Space & Airport Set', 100.0, 4750), ('LEGO Speed Champions 1974 Porsche 911 Turbo 3.0 75895 Building Kit, New 2019 (179 Pieces)', 88.88888888888889, 5981), ('LEGO Speed Champions 2018 Dodge Challenger SRT Demon and 1970 Dodge Charger R/T 75893 Building Kit, 2019 (478 Pieces)', 88.88888888888889, 9131), ('LEGO Creator Expert Gingerbread House 10267 Building Kit, New 2020 (1,477 Pieces)', 77.77777777777779, 195), ('LEGO Star Wars Resistance Y-Wing Microfighter 75263 Cool Toy Building Kit for Kids, New 2020 (86 Pieces)', 77.77777777777779, 920)]\n",
      "[('Space Base', 70.0, 5575), ('Lego Space & Airport Set', 62.5, 4750), ('Specter Ops', 57.14285714285714, 5366), ('Snake Oil Game', 50.0, 2564), ('Papo Alligator', 50.0, 3159)]\n",
      "[('Anatolian 1000Piece Jigsaw Puzzle - Planets in Space Jigsaw Puzzle', 88.88888888888889, 1359), ('Space Base', 82.35294117647058, 5575), ('LEGO Friends Heartlake Surf Shop 41315 Building Kit (186 Pieces)', 80.0, 102), (\"RoyalBaby Space Shuttle Kids Bike for Boys and Girls, 14 16 18 Inch Magnesium Bicycle with 2 Hand Disc Brakes, Child's Cycle with Training Wheels or Kickstand, Black White Purple\", 80.0, 491), ('LEGO City Dirt Road Pursuit 60172 Building Kit (297 Pieces)', 80.0, 1364)]\n",
      "[('Lego Space & Airport Set', 100.0, 4750), ('THE LEGO MOVIE 2 Queen Watevra’s ‘So-Not-Evil’ Space Palace 70838 Building Kit, New 2019 (995 Pieces)', 100.0, 4878), ('Space Base', 70.0, 5575), (\"Mrs. Grossman's Outer Space Reusable Sticker Activity Set, Multicolor\", 66.66666666666666, 231), (\"RoyalBaby Space Shuttle Kids Bike for Boys and Girls, 14 16 18 Inch Magnesium Bicycle with 2 Hand Disc Brakes, Child's Cycle with Training Wheels or Kickstand, Black White Purple\", 66.66666666666666, 491)]\n",
      "[('LEGO Minecraft Creeper BigFig and Ocelot Characters 21156 Buildable Toy Minecraft Figure Gift Set for Play and Decoration, New 2020 (184 Pieces)', 100.0, 13), ('LEGO Friends Heartlake Surf Shop 41315 Building Kit (186 Pieces)', 100.0, 102), ('LEGO Technic Power Functions Motor Set 8293 (10 Pieces)', 100.0, 143), ('LEGO Creator Expert Gingerbread House 10267 Building Kit, New 2020 (1,477 Pieces)', 100.0, 195), (\"Mrs. Grossman's Outer Space Reusable Sticker Activity Set, Multicolor\", 100.0, 231)]\n",
      "[('Lego Space & Airport Set', 90.0, 4750), ('LEGO Friends Heartlake Surf Shop 41315 Building Kit (186 Pieces)', 85.5, 102), ('LEGO Technic Power Functions Motor Set 8293 (10 Pieces)', 85.5, 143), (\"Mrs. Grossman's Outer Space Reusable Sticker Activity Set, Multicolor\", 85.5, 231), ('LEGO The Powerpuff Girls Mojo Jojo Strikes 41288 Building Kit (228 Pieces)', 85.5, 832)]\n",
      "[('Lego Space & Airport Set', 58.82352941176471, 4750), ('Space Base', 50.0, 5575), ('Green Glow Necklace', 48.275862068965516, 4552), ('LEGO Desk Drawer 8, Grey', 47.05882352941176, 4965), ('FOLDOVER STICKER', 46.15384615384615, 6726)]\n"
     ]
    }
   ],
   "source": [
    "products_list = dataset[\"Product Name\"]\n",
    "input = \"Lego Space\"\n",
    "limit = 5\n",
    "ratio = process.extract(input, products_list, scorer=fuzz.ratio, limit=limit, processor=utils.default_process)\n",
    "p_ratio = process.extract(input, products_list, scorer=fuzz.partial_ratio, limit=limit, processor=utils.default_process)\n",
    "tsort_ratio = process.extract(input, products_list, scorer=fuzz.token_sort_ratio, limit=limit, processor=utils.default_process)\n",
    "ptsort_ratio = process.extract(input, products_list, scorer=fuzz.partial_token_sort_ratio, limit=limit, processor=utils.default_process)\n",
    "tset_ratio = process.extract(input, products_list, scorer=fuzz.token_set_ratio, limit=limit, processor=utils.default_process)\n",
    "ptset_ratio = process.extract(input, products_list, scorer=fuzz.partial_token_set_ratio, limit=limit, processor=utils.default_process)\n",
    "W_ratio = process.extract(input, products_list, scorer=fuzz.WRatio, limit=limit, processor=utils.default_process)\n",
    "Q_ratio = process.extract(input, products_list, scorer=fuzz.QRatio, limit=limit, processor=utils.default_process)\n",
    "\n",
    "print(ratio)\n",
    "print(p_ratio)\n",
    "print(tsort_ratio)\n",
    "print(ptsort_ratio)\n",
    "print(tset_ratio)\n",
    "print(ptset_ratio)\n",
    "print(W_ratio)\n",
    "print(Q_ratio)\n"
   ]
  },
  {
   "cell_type": "code",
   "execution_count": null,
   "metadata": {},
   "outputs": [],
   "source": []
  }
 ],
 "metadata": {
  "kernelspec": {
   "display_name": ".venv",
   "language": "python",
   "name": "python3"
  },
  "language_info": {
   "codemirror_mode": {
    "name": "ipython",
    "version": 3
   },
   "file_extension": ".py",
   "mimetype": "text/x-python",
   "name": "python",
   "nbconvert_exporter": "python",
   "pygments_lexer": "ipython3",
   "version": "3.11.9"
  }
 },
 "nbformat": 4,
 "nbformat_minor": 2
}
