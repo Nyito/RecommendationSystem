{
 "cells": [
  {
   "cell_type": "code",
   "execution_count": 1,
   "metadata": {},
   "outputs": [],
   "source": [
    "from rapidfuzz import fuzz, process, utils\n",
    "import pandas as pd"
   ]
  },
  {
   "cell_type": "code",
   "execution_count": 2,
   "metadata": {},
   "outputs": [
    {
     "name": "stdout",
     "output_type": "stream",
     "text": [
      "<class 'pandas.core.frame.DataFrame'>\n",
      "RangeIndex: 7136 entries, 0 to 7135\n",
      "Data columns (total 8 columns):\n",
      " #   Column                   Non-Null Count  Dtype  \n",
      "---  ------                   --------------  -----  \n",
      " 0   Product Name             7136 non-null   object \n",
      " 1   Selling Price($)         7136 non-null   float64\n",
      " 2   About Product            7136 non-null   object \n",
      " 3   Product Specification    7136 non-null   object \n",
      " 4   Shipping Weight(Pounds)  7136 non-null   float64\n",
      " 5   Main Category            7136 non-null   object \n",
      " 6   Sub-Category             7136 non-null   object \n",
      " 7   Side Category            6155 non-null   object \n",
      "dtypes: float64(2), object(6)\n",
      "memory usage: 446.1+ KB\n"
     ]
    }
   ],
   "source": [
    "dataset = pd.read_csv('../data/CleanData.csv')\n",
    "dataset.info()"
   ]
  },
  {
   "cell_type": "code",
   "execution_count": 3,
   "metadata": {},
   "outputs": [
    {
     "name": "stdout",
     "output_type": "stream",
     "text": [
      "Mandala\n"
     ]
    }
   ],
   "source": [
    "print(dataset['Product Name'][6305])"
   ]
  },
  {
   "cell_type": "code",
   "execution_count": 4,
   "metadata": {},
   "outputs": [
    {
     "name": "stdout",
     "output_type": "stream",
     "text": [
      "ratio:                      [('Space Base', 50.0, 4025), ('Barbie Car Wash Playset', 48.484848484848484, 1496), (\"Rubie's Pet Costume\", 48.275862068965516, 5808), ('Pan Balance', 47.61904761904761, 5031), ('Secrets', 47.05882352941176, 3844)]\n",
      "partial ratio:              (\"RoyalBaby Space Shuttle Kids Bike for Boys and Girls, 14 16 18 Inch Magnesium Bicycle with 2 Hand Disc Brakes, Child's Cycle with Training Wheels or Kickstand, Black White Purple\", 80.0, 360)\n",
      "                            ('Chic Home Spaceship 5 Piece Comforter Set Space Explorer Extraterrestrial Theme Youth Design Bedding-Throw Blanket Decorative Pillow Shams Included, Full', 80.0, 6621)\n",
      "token sort ratio:           [('Space Base', 100.0, 4025), ('Clank!, Base', 60.0, 582), ('Specter Ops', 57.14285714285714, 3878), ('Pan Balance', 57.14285714285714, 5031), ('Lego Space & Airport Set', 56.25, 3461)]\n",
      "partial token ratio:        [('Space Base', 100.0, 4025), ('Lego Space & Airport Set', 84.21052631578947, 3461), ('Pointehaven FCO-Space Comforter Set, Full', 84.21052631578947, 6474), ('Anatolian 1000Piece Jigsaw Puzzle - Planets in Space Jigsaw Puzzle', 82.35294117647058, 1011), (\"Mrs. Grossman's Outer Space Reusable Sticker Activity Set, Multicolor\", 80.0, 164)]\n",
      "token set ratio:            [('Space Base: The Emergence of Shy Pluto', 100.0, 3665), ('Space Base', 100.0, 4025), (\"Mrs. Grossman's Outer Space Reusable Sticker Activity Set, Multicolor\", 66.66666666666666, 164), (\"RoyalBaby Space Shuttle Kids Bike for Boys and Girls, 14 16 18 Inch Magnesium Bicycle with 2 Hand Disc Brakes, Child's Cycle with Training Wheels or Kickstand, Black White Purple\", 66.66666666666666, 360), ('Power Trains Car Pack: Space', 66.66666666666666, 647)]\n",
      "partial token set ratio:    [(\"Mrs. Grossman's Outer Space Reusable Sticker Activity Set, Multicolor\", 100.0, 164), ('Osmo - Super Studio Disney Mickey Mouse & Friends Game - Ages 5-11 - Learn to Draw your Clubhouse Favorites & Watch them Come to Life - For iPad and Fire Tablet (Osmo Base Required)', 100.0, 236), ('Learning Resources Base Ten Blocks Smart Pack, Early Childhood Math Skills, Ages 5+', 100.0, 264), (\"RoyalBaby Space Shuttle Kids Bike for Boys and Girls, 14 16 18 Inch Magnesium Bicycle with 2 Hand Disc Brakes, Child's Cycle with Training Wheels or Kickstand, Black White Purple\", 100.0, 360), ('Clank!, Base', 100.0, 582)]\n",
      "Wratio:                     [('Space Base', 95.0, 4025), (\"Mrs. Grossman's Outer Space Reusable Sticker Activity Set, Multicolor\", 85.5, 164), ('Power Trains Car Pack: Space', 85.5, 647), ('ETA hand2mind Blue Plastic Base Ten Rods, Set of 50', 85.5, 862), ('Daron Space Adventure Saturn V Rocket Model Playset', 85.5, 935)]\n",
      "Qratio:                     [('Space Base', 50.0, 4025), ('Barbie Car Wash Playset', 48.484848484848484, 1496), (\"Rubie's Pet Costume\", 48.275862068965516, 5808), ('Pan Balance', 47.61904761904761, 5031), ('Secrets', 47.05882352941176, 3844)]\n"
     ]
    }
   ],
   "source": [
    "products_list = dataset[\"Product Name\"]\n",
    "input = \"Base Space\"\n",
    "limit = 5\n",
    "ratio = process.extract(input, products_list, scorer=fuzz.ratio, limit=limit, processor=utils.default_process)\n",
    "p_ratio = process.extract(input, products_list, scorer=fuzz.partial_ratio, limit=limit, processor=utils.default_process)\n",
    "tsort_ratio = process.extract(input, products_list, scorer=fuzz.token_sort_ratio, limit=limit, processor=utils.default_process)\n",
    "ptsort_ratio = process.extract(input, products_list, scorer=fuzz.partial_token_sort_ratio, limit=limit, processor=utils.default_process)\n",
    "tset_ratio = process.extract(input, products_list, scorer=fuzz.token_set_ratio, limit=limit, processor=utils.default_process)\n",
    "ptset_ratio = process.extract(input, products_list, scorer=fuzz.partial_token_set_ratio, limit=limit, processor=utils.default_process)\n",
    "W_ratio = process.extract(input, products_list, scorer=fuzz.WRatio, limit=limit, processor=utils.default_process)\n",
    "Q_ratio = process.extract(input, products_list, scorer=fuzz.QRatio, limit=limit, processor=utils.default_process)\n",
    "\n",
    "print(f'ratio:                      {ratio}')\n",
    "print(f'partial ratio:              {p_ratio[0]}')\n",
    "print(f'                            {p_ratio[1]}')\n",
    "print(f'token sort ratio:           {tsort_ratio}')\n",
    "print(f'partial token ratio:        {ptsort_ratio}')\n",
    "print(f'token set ratio:            {tset_ratio}')\n",
    "print(f'partial token set ratio:    {ptset_ratio}')\n",
    "print(f'Wratio:                     {W_ratio}')\n",
    "print(f'Qratio:                     {Q_ratio}')"
   ]
  },
  {
   "cell_type": "code",
   "execution_count": 5,
   "metadata": {},
   "outputs": [],
   "source": [
    "def prototype_rapid_fuzz_filter(user_input, products, number_of_rec):\n",
    "    list_of_rec = []\n",
    "    token_set_ratio_match = process.extract(user_input, products, scorer=fuzz.token_set_ratio, limit=1, processor=utils.default_process)\n",
    "    partial_ratio_matches = process.extract(user_input, products, scorer=fuzz.token_set_ratio, limit=number_of_rec, processor=utils.default_process)\n",
    "\n",
    "    if token_set_ratio_match[0][1] == 100:\n",
    "        list_of_rec.extend(token_set_ratio_match)\n",
    "        for match in partial_ratio_matches:\n",
    "            if match[0] != token_set_ratio_match[0][0]:\n",
    "                list_of_rec.append(match)\n",
    "    \n",
    "    else:\n",
    "        for match in partial_ratio_matches:\n",
    "            list_of_rec.append(match)\n",
    "\n",
    "    return list_of_rec\n",
    "\n",
    "def rapid_fuzz_rec_to_df(recommendations, dataframe):\n",
    "    sorted_indeces = [match[2] for match in recommendations]\n",
    "    reordered_df = dataframe.iloc[sorted_indeces].reset_index(drop=True)\n",
    "    return reordered_df"
   ]
  },
  {
   "cell_type": "code",
   "execution_count": 6,
   "metadata": {},
   "outputs": [
    {
     "name": "stdout",
     "output_type": "stream",
     "text": [
      "Darice, 600 Mermaid Princess Sticker Book\n"
     ]
    }
   ],
   "source": [
    "print(dataset['Product Name'][2489])"
   ]
  },
  {
   "cell_type": "code",
   "execution_count": 7,
   "metadata": {},
   "outputs": [
    {
     "name": "stdout",
     "output_type": "stream",
     "text": [
      "('GreenBrier Games Yashima Legends from Fairytale Board Game', 100.0, 193)\n",
      "('University Games Break Out Game, Kids', 100.0, 217)\n",
      "('Carson-Dellosa Publishing Language Arts Learning Games, Grade 2', 100.0, 250)\n",
      "('Buffalo Games - New York Twilight - 300 Large Piece Jigsaw Puzzle', 100.0, 296)\n",
      "('Loftus SW-0249 4 Pc Classic Wooden Games in A Tin Set, 6 inches Long, Brown', 100.0, 314)\n",
      "                                           Product Name  Selling Price($)  \\\n",
      "0     GreenBrier Games Yashima Legends from Fairytal...             35.00   \n",
      "1                 University Games Break Out Game, Kids             11.12   \n",
      "2     Carson-Dellosa Publishing Language Arts Learni...             24.99   \n",
      "3     Buffalo Games - New York Twilight - 300 Large ...             13.77   \n",
      "4     Loftus SW-0249 4 Pc Classic Wooden Games in A ...             12.54   \n",
      "...                                                 ...               ...   \n",
      "7131  Tektrum 3 Piece 3pc Duvet Cover Set with Butto...             22.82   \n",
      "7132                                              Tudor             41.97   \n",
      "7133                                           Quoridor             34.88   \n",
      "7134                                            Corinth             49.99   \n",
      "7135                                             Qwinto             12.49   \n",
      "\n",
      "                                          About Product  \\\n",
      "0     Make sure this fits by entering your model num...   \n",
      "1     Make sure this fits by entering your model num...   \n",
      "2     Make sure this fits by entering your model num...   \n",
      "3     Make sure this fits by entering your model num...   \n",
      "4     Make sure this fits by entering your model num...   \n",
      "...                                                 ...   \n",
      "7131  Make sure this fits by entering your model num...   \n",
      "7132  Make sure this fits by entering your model num...   \n",
      "7133  Make sure this fits by entering your model num...   \n",
      "7134  Make sure this fits by entering your model num...   \n",
      "7135  Make sure this fits by entering your model num...   \n",
      "\n",
      "                                  Product Specification  \\\n",
      "0     ProductDimensions:3.2x11x9.2inches|ItemWeight:...   \n",
      "1     ProductDimensions:10.5x2.5x10.5inches|ItemWeig...   \n",
      "2     ProductDimensions:9.8x12x3.5inches|ItemWeight:...   \n",
      "3     ProductDimensions:21.2x0.1x15inches|ItemWeight...   \n",
      "4     ProductDimensions:3.8x3.3x0.8inches|ItemWeight...   \n",
      "...                                                 ...   \n",
      "7131  ProductDimensions:11x9.2x3inches|ItemWeight:3....   \n",
      "7132  ProductDimensions:11.9x3.1x11.9inches|ItemWeig...   \n",
      "7133  ProductDimensions:2.2x11x11inches|ItemWeight:4...   \n",
      "7134  ProductDimensions:8x8x1.8inches|ItemWeight:1.3...   \n",
      "7135  ProductDimensions:5.3x3.9x0.9inches|ItemWeight...   \n",
      "\n",
      "      Shipping Weight(Pounds)    Main Category           Sub-Category  \\\n",
      "0                     1.90000    Toys & Games    Games & Accessories    \n",
      "1                     1.10000    Toys & Games                Puzzles    \n",
      "2                     2.40000    Toys & Games    Games & Accessories    \n",
      "3                     0.86875    Toys & Games                Puzzles    \n",
      "4                     0.48125    Toys & Games    Baby & Toddler Toys    \n",
      "...                       ...              ...                    ...   \n",
      "7131                  3.10000  Home & Kitchen                Bedding    \n",
      "7132                  4.49000    Toys & Games     Games & Accessories   \n",
      "7133                  2.20000    Toys & Games    Games & Accessories    \n",
      "7134                  1.38000    Toys & Games    Games & Accessories    \n",
      "7135                  0.28125    Toys & Games     Games & Accessories   \n",
      "\n",
      "                 Side Category  \n",
      "0                  Board Games  \n",
      "1                Brain Teasers  \n",
      "2                  Board Games  \n",
      "3               Jigsaw Puzzles  \n",
      "4      Sorting & Stacking Toys  \n",
      "...                        ...  \n",
      "7131             Kids' Bedding  \n",
      "7132                       NaN  \n",
      "7133               Board Games  \n",
      "7134               Board Games  \n",
      "7135                       NaN  \n",
      "\n",
      "[7136 rows x 8 columns]\n"
     ]
    }
   ],
   "source": [
    "input = 'Games'\n",
    "list_recs = []\n",
    "limit = 5\n",
    "for i in range(limit):\n",
    "    print(prototype_rapid_fuzz_filter(user_input=input, products=products_list, number_of_rec=limit)[i])\n",
    "list_recs = prototype_rapid_fuzz_filter(user_input=input, products=products_list, number_of_rec=len(dataset['Product Name']))\n",
    "new_df = rapid_fuzz_rec_to_df(recommendations=list_recs, dataframe=dataset)\n",
    "\n",
    "print(new_df)"
   ]
  }
 ],
 "metadata": {
  "kernelspec": {
   "display_name": ".venv",
   "language": "python",
   "name": "python3"
  },
  "language_info": {
   "codemirror_mode": {
    "name": "ipython",
    "version": 3
   },
   "file_extension": ".py",
   "mimetype": "text/x-python",
   "name": "python",
   "nbconvert_exporter": "python",
   "pygments_lexer": "ipython3",
   "version": "3.11.9"
  }
 },
 "nbformat": 4,
 "nbformat_minor": 2
}
