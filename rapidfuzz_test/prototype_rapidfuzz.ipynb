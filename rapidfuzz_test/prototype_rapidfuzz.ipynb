{
 "cells": [
  {
   "cell_type": "code",
   "execution_count": 1,
   "metadata": {},
   "outputs": [],
   "source": [
    "from rapidfuzz import fuzz, process, utils\n",
    "import pandas as pd"
   ]
  },
  {
   "cell_type": "code",
   "execution_count": 7,
   "metadata": {},
   "outputs": [
    {
     "name": "stdout",
     "output_type": "stream",
     "text": [
      "<class 'pandas.core.frame.DataFrame'>\n",
      "RangeIndex: 7136 entries, 0 to 7135\n",
      "Data columns (total 8 columns):\n",
      " #   Column                   Non-Null Count  Dtype  \n",
      "---  ------                   --------------  -----  \n",
      " 0   Product Name             7136 non-null   object \n",
      " 1   Selling Price($)         7136 non-null   float64\n",
      " 2   About Product            7136 non-null   object \n",
      " 3   Product Specification    7136 non-null   object \n",
      " 4   Shipping Weight(Pounds)  7136 non-null   float64\n",
      " 5   Main Category            7136 non-null   object \n",
      " 6   Sub-Category             7136 non-null   object \n",
      " 7   Side Category            6155 non-null   object \n",
      "dtypes: float64(2), object(6)\n",
      "memory usage: 446.1+ KB\n"
     ]
    }
   ],
   "source": [
    "dataset = pd.read_csv('../data/CleanData.csv')\n",
    "dataset.info()"
   ]
  },
  {
   "cell_type": "code",
   "execution_count": 11,
   "metadata": {},
   "outputs": [
    {
     "name": "stdout",
     "output_type": "stream",
     "text": [
      "ratio:                      [('Lego Space & Airport Set', 58.82352941176471, 3461)]\n",
      "partial ratio:              [('Lego Space & Airport Set', 100.0, 3461)]\n",
      "token sort ratio:           [('Space Base', 70.0, 4025)]\n",
      "partial token ratio:        [('Anatolian 1000Piece Jigsaw Puzzle - Planets in Space Jigsaw Puzzle', 88.88888888888889, 1011)]\n",
      "token set ratio:            [('Lego Space & Airport Set', 100.0, 3461)]\n",
      "partial token set ratio:    [('LEGO Minecraft Creeper BigFig and Ocelot Characters 21156 Buildable Toy Minecraft Figure Gift Set for Play and Decoration, New 2020 (184 Pieces)', 100.0, 9)]\n",
      "Wratio:                     [('Lego Space & Airport Set', 90.0, 3461)]\n",
      "Qratio:                     [('Lego Space & Airport Set', 58.82352941176471, 3461)]\n"
     ]
    }
   ],
   "source": [
    "products_list = dataset[\"Product Name\"]\n",
    "input = \"Lego Space\"\n",
    "limit = 1\n",
    "ratio = process.extract(input, products_list, scorer=fuzz.ratio, limit=limit, processor=utils.default_process)\n",
    "p_ratio = process.extract(input, products_list, scorer=fuzz.partial_ratio, limit=limit, processor=utils.default_process)\n",
    "tsort_ratio = process.extract(input, products_list, scorer=fuzz.token_sort_ratio, limit=limit, processor=utils.default_process)\n",
    "ptsort_ratio = process.extract(input, products_list, scorer=fuzz.partial_token_sort_ratio, limit=limit, processor=utils.default_process)\n",
    "tset_ratio = process.extract(input, products_list, scorer=fuzz.token_set_ratio, limit=limit, processor=utils.default_process)\n",
    "ptset_ratio = process.extract(input, products_list, scorer=fuzz.partial_token_set_ratio, limit=limit, processor=utils.default_process)\n",
    "W_ratio = process.extract(input, products_list, scorer=fuzz.WRatio, limit=limit, processor=utils.default_process)\n",
    "Q_ratio = process.extract(input, products_list, scorer=fuzz.QRatio, limit=limit, processor=utils.default_process)\n",
    "\n",
    "print(f'ratio:                      {ratio}')\n",
    "print(f'partial ratio:              {p_ratio}')\n",
    "print(f'token sort ratio:           {tsort_ratio}')\n",
    "print(f'partial token ratio:        {ptsort_ratio}')\n",
    "print(f'token set ratio:            {tset_ratio}')\n",
    "print(f'partial token set ratio:    {ptset_ratio}')\n",
    "print(f'Wratio:                     {W_ratio}')\n",
    "print(f'Qratio:                     {Q_ratio}')"
   ]
  }
 ],
 "metadata": {
  "kernelspec": {
   "display_name": ".venv",
   "language": "python",
   "name": "python3"
  },
  "language_info": {
   "codemirror_mode": {
    "name": "ipython",
    "version": 3
   },
   "file_extension": ".py",
   "mimetype": "text/x-python",
   "name": "python",
   "nbconvert_exporter": "python",
   "pygments_lexer": "ipython3",
   "version": "3.11.9"
  }
 },
 "nbformat": 4,
 "nbformat_minor": 2
}
