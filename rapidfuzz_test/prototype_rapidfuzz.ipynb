{
 "cells": [
  {
   "cell_type": "code",
   "execution_count": 2,
   "metadata": {},
   "outputs": [],
   "source": [
    "from rapidfuzz import fuzz, process, utils\n",
    "import pandas as pd"
   ]
  },
  {
   "cell_type": "code",
   "execution_count": 3,
   "metadata": {},
   "outputs": [
    {
     "name": "stdout",
     "output_type": "stream",
     "text": [
      "<class 'pandas.core.frame.DataFrame'>\n",
      "RangeIndex: 7136 entries, 0 to 7135\n",
      "Data columns (total 8 columns):\n",
      " #   Column                   Non-Null Count  Dtype  \n",
      "---  ------                   --------------  -----  \n",
      " 0   Product Name             7136 non-null   object \n",
      " 1   Selling Price($)         7136 non-null   float64\n",
      " 2   About Product            7136 non-null   object \n",
      " 3   Product Specification    7136 non-null   object \n",
      " 4   Shipping Weight(Pounds)  7136 non-null   float64\n",
      " 5   Main Category            7136 non-null   object \n",
      " 6   Sub-Category             7136 non-null   object \n",
      " 7   Side Category            6155 non-null   object \n",
      "dtypes: float64(2), object(6)\n",
      "memory usage: 446.1+ KB\n"
     ]
    }
   ],
   "source": [
    "dataset = pd.read_csv('../data/CleanData.csv')\n",
    "dataset.info()"
   ]
  },
  {
   "cell_type": "code",
   "execution_count": 18,
   "metadata": {},
   "outputs": [
    {
     "name": "stdout",
     "output_type": "stream",
     "text": [
      "Mandala\n"
     ]
    }
   ],
   "source": [
    "print(dataset['Product Name'][6305])"
   ]
  },
  {
   "cell_type": "code",
   "execution_count": 19,
   "metadata": {},
   "outputs": [
    {
     "name": "stdout",
     "output_type": "stream",
     "text": [
      "ratio:                      [('Space Base', 50.0, 4025), ('Barbie Car Wash Playset', 48.484848484848484, 1496), (\"Rubie's Pet Costume\", 48.275862068965516, 5808), ('Pan Balance', 47.61904761904761, 5031), ('Secrets', 47.05882352941176, 3844)]\n",
      "partial ratio:              (\"RoyalBaby Space Shuttle Kids Bike for Boys and Girls, 14 16 18 Inch Magnesium Bicycle with 2 Hand Disc Brakes, Child's Cycle with Training Wheels or Kickstand, Black White Purple\", 80.0, 360)\n",
      "                            ('Chic Home Spaceship 5 Piece Comforter Set Space Explorer Extraterrestrial Theme Youth Design Bedding-Throw Blanket Decorative Pillow Shams Included, Full', 80.0, 6621)\n",
      "token sort ratio:           [('Space Base', 100.0, 4025), ('Clank!, Base', 60.0, 582), ('Specter Ops', 57.14285714285714, 3878), ('Pan Balance', 57.14285714285714, 5031), ('Lego Space & Airport Set', 56.25, 3461)]\n",
      "partial token ratio:        [('Space Base', 100.0, 4025), ('Lego Space & Airport Set', 84.21052631578947, 3461), ('Pointehaven FCO-Space Comforter Set, Full', 84.21052631578947, 6474), ('Anatolian 1000Piece Jigsaw Puzzle - Planets in Space Jigsaw Puzzle', 82.35294117647058, 1011), (\"Mrs. Grossman's Outer Space Reusable Sticker Activity Set, Multicolor\", 80.0, 164)]\n",
      "token set ratio:            [('Space Base: The Emergence of Shy Pluto', 100.0, 3665), ('Space Base', 100.0, 4025), (\"Mrs. Grossman's Outer Space Reusable Sticker Activity Set, Multicolor\", 66.66666666666666, 164), (\"RoyalBaby Space Shuttle Kids Bike for Boys and Girls, 14 16 18 Inch Magnesium Bicycle with 2 Hand Disc Brakes, Child's Cycle with Training Wheels or Kickstand, Black White Purple\", 66.66666666666666, 360), ('Power Trains Car Pack: Space', 66.66666666666666, 647)]\n",
      "partial token set ratio:    [(\"Mrs. Grossman's Outer Space Reusable Sticker Activity Set, Multicolor\", 100.0, 164), ('Osmo - Super Studio Disney Mickey Mouse & Friends Game - Ages 5-11 - Learn to Draw your Clubhouse Favorites & Watch them Come to Life - For iPad and Fire Tablet (Osmo Base Required)', 100.0, 236), ('Learning Resources Base Ten Blocks Smart Pack, Early Childhood Math Skills, Ages 5+', 100.0, 264), (\"RoyalBaby Space Shuttle Kids Bike for Boys and Girls, 14 16 18 Inch Magnesium Bicycle with 2 Hand Disc Brakes, Child's Cycle with Training Wheels or Kickstand, Black White Purple\", 100.0, 360), ('Clank!, Base', 100.0, 582)]\n",
      "Wratio:                     [('Space Base', 95.0, 4025), (\"Mrs. Grossman's Outer Space Reusable Sticker Activity Set, Multicolor\", 85.5, 164), ('Power Trains Car Pack: Space', 85.5, 647), ('ETA hand2mind Blue Plastic Base Ten Rods, Set of 50', 85.5, 862), ('Daron Space Adventure Saturn V Rocket Model Playset', 85.5, 935)]\n",
      "Qratio:                     [('Space Base', 50.0, 4025), ('Barbie Car Wash Playset', 48.484848484848484, 1496), (\"Rubie's Pet Costume\", 48.275862068965516, 5808), ('Pan Balance', 47.61904761904761, 5031), ('Secrets', 47.05882352941176, 3844)]\n"
     ]
    }
   ],
   "source": [
    "products_list = dataset[\"Product Name\"]\n",
    "input = \"Base Space\"\n",
    "limit = 5\n",
    "ratio = process.extract(input, products_list, scorer=fuzz.ratio, limit=limit, processor=utils.default_process)\n",
    "p_ratio = process.extract(input, products_list, scorer=fuzz.partial_ratio, limit=limit, processor=utils.default_process)\n",
    "tsort_ratio = process.extract(input, products_list, scorer=fuzz.token_sort_ratio, limit=limit, processor=utils.default_process)\n",
    "ptsort_ratio = process.extract(input, products_list, scorer=fuzz.partial_token_sort_ratio, limit=limit, processor=utils.default_process)\n",
    "tset_ratio = process.extract(input, products_list, scorer=fuzz.token_set_ratio, limit=limit, processor=utils.default_process)\n",
    "ptset_ratio = process.extract(input, products_list, scorer=fuzz.partial_token_set_ratio, limit=limit, processor=utils.default_process)\n",
    "W_ratio = process.extract(input, products_list, scorer=fuzz.WRatio, limit=limit, processor=utils.default_process)\n",
    "Q_ratio = process.extract(input, products_list, scorer=fuzz.QRatio, limit=limit, processor=utils.default_process)\n",
    "\n",
    "print(f'ratio:                      {ratio}')\n",
    "print(f'partial ratio:              {p_ratio[0]}')\n",
    "print(f'                            {p_ratio[1]}')\n",
    "print(f'token sort ratio:           {tsort_ratio}')\n",
    "print(f'partial token ratio:        {ptsort_ratio}')\n",
    "print(f'token set ratio:            {tset_ratio}')\n",
    "print(f'partial token set ratio:    {ptset_ratio}')\n",
    "print(f'Wratio:                     {W_ratio}')\n",
    "print(f'Qratio:                     {Q_ratio}')"
   ]
  },
  {
   "cell_type": "code",
   "execution_count": 34,
   "metadata": {},
   "outputs": [],
   "source": [
    "def prototype_rapid_fuzz_filter(user_input, products, number_of_rec):\n",
    "    list_of_rec = []\n",
    "    token_set_ratio_match = process.extract(user_input, products, scorer=fuzz.token_set_ratio, limit=1, processor=utils.default_process)\n",
    "    partial_ratio_matches = process.extract(user_input, products, scorer=fuzz.token_set_ratio, limit=number_of_rec, processor=utils.default_process)\n",
    "\n",
    "    if token_set_ratio_match[0][1] == 100:\n",
    "        list_of_rec.append(token_set_ratio_match)\n",
    "        for match in partial_ratio_matches:\n",
    "            if match[0] != token_set_ratio_match[0][0]:\n",
    "                list_of_rec.append(match)\n",
    "    \n",
    "    else:\n",
    "        for match in partial_ratio_matches:\n",
    "            list_of_rec.append(match)\n",
    "\n",
    "    return list_of_rec"
   ]
  },
  {
   "cell_type": "code",
   "execution_count": 22,
   "metadata": {},
   "outputs": [
    {
     "name": "stdout",
     "output_type": "stream",
     "text": [
      "Darice, 600 Mermaid Princess Sticker Book\n"
     ]
    }
   ],
   "source": [
    "print(dataset['Product Name'][2489])"
   ]
  },
  {
   "cell_type": "code",
   "execution_count": 41,
   "metadata": {},
   "outputs": [
    {
     "name": "stdout",
     "output_type": "stream",
     "text": [
      "[('GreenBrier Games Yashima Legends from Fairytale Board Game', 100.0, 193)]\n",
      "('University Games Break Out Game, Kids', 100.0, 217)\n",
      "('Carson-Dellosa Publishing Language Arts Learning Games, Grade 2', 100.0, 250)\n",
      "('Buffalo Games - New York Twilight - 300 Large Piece Jigsaw Puzzle', 100.0, 296)\n",
      "('Loftus SW-0249 4 Pc Classic Wooden Games in A Tin Set, 6 inches Long, Brown', 100.0, 314)\n"
     ]
    }
   ],
   "source": [
    "input = 'Games'\n",
    "limit = 5\n",
    "for i in range(limit):\n",
    "    print(prototype_rapid_fuzz_filter(user_input=input, products=products_list, number_of_rec=limit)[i])"
   ]
  }
 ],
 "metadata": {
  "kernelspec": {
   "display_name": ".venv",
   "language": "python",
   "name": "python3"
  },
  "language_info": {
   "codemirror_mode": {
    "name": "ipython",
    "version": 3
   },
   "file_extension": ".py",
   "mimetype": "text/x-python",
   "name": "python",
   "nbconvert_exporter": "python",
   "pygments_lexer": "ipython3",
   "version": "3.11.9"
  }
 },
 "nbformat": 4,
 "nbformat_minor": 2
}
