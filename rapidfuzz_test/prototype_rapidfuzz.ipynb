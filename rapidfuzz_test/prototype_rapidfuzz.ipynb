{
 "cells": [
  {
   "cell_type": "code",
   "execution_count": 1,
   "metadata": {},
   "outputs": [],
   "source": [
    "from rapidfuzz import fuzz, process, utils\n",
    "import pandas as pd"
   ]
  },
  {
   "cell_type": "code",
   "execution_count": 2,
   "metadata": {},
   "outputs": [
    {
     "name": "stdout",
     "output_type": "stream",
     "text": [
      "<class 'pandas.core.frame.DataFrame'>\n",
      "RangeIndex: 7136 entries, 0 to 7135\n",
      "Data columns (total 8 columns):\n",
      " #   Column                   Non-Null Count  Dtype  \n",
      "---  ------                   --------------  -----  \n",
      " 0   Product Name             7136 non-null   object \n",
      " 1   Selling Price($)         7136 non-null   float64\n",
      " 2   About Product            7136 non-null   object \n",
      " 3   Product Specification    7136 non-null   object \n",
      " 4   Shipping Weight(Pounds)  7136 non-null   float64\n",
      " 5   Main Category            7136 non-null   object \n",
      " 6   Sub-Category             7136 non-null   object \n",
      " 7   Side Category            6155 non-null   object \n",
      "dtypes: float64(2), object(6)\n",
      "memory usage: 446.1+ KB\n"
     ]
    }
   ],
   "source": [
    "dataset = pd.read_csv('../data/CleanData.csv')\n",
    "dataset.info()"
   ]
  },
  {
   "cell_type": "code",
   "execution_count": 16,
   "metadata": {},
   "outputs": [
    {
     "name": "stdout",
     "output_type": "stream",
     "text": [
      "Junior Learning Fantail Books Turquoise Non Fiction Educational Action Games\n"
     ]
    }
   ],
   "source": [
    "print(dataset['Product Name'][6875])"
   ]
  },
  {
   "cell_type": "code",
   "execution_count": 12,
   "metadata": {},
   "outputs": [
    {
     "name": "stdout",
     "output_type": "stream",
     "text": [
      "ratio:                      [('Space Base', 50.0, 4025), ('Barbie Car Wash Playset', 48.484848484848484, 1496)]\n",
      "partial ratio:              [(\"RoyalBaby Space Shuttle Kids Bike for Boys and Girls, 14 16 18 Inch Magnesium Bicycle with 2 Hand Disc Brakes, Child's Cycle with Training Wheels or Kickstand, Black White Purple\", 80.0, 360), ('Chic Home Spaceship 5 Piece Comforter Set Space Explorer Extraterrestrial Theme Youth Design Bedding-Throw Blanket Decorative Pillow Shams Included, Full', 80.0, 6621)]\n",
      "token sort ratio:           [('Space Base', 100.0, 4025), ('Clank!, Base', 60.0, 582)]\n",
      "partial token ratio:        [('Space Base', 100.0, 4025), ('Lego Space & Airport Set', 84.21052631578947, 3461)]\n",
      "token set ratio:            [('Space Base: The Emergence of Shy Pluto', 100.0, 3665), ('Space Base', 100.0, 4025)]\n",
      "partial token set ratio:    [(\"Mrs. Grossman's Outer Space Reusable Sticker Activity Set, Multicolor\", 100.0, 164), ('Osmo - Super Studio Disney Mickey Mouse & Friends Game - Ages 5-11 - Learn to Draw your Clubhouse Favorites & Watch them Come to Life - For iPad and Fire Tablet (Osmo Base Required)', 100.0, 236)]\n",
      "Wratio:                     [('Space Base', 95.0, 4025), (\"Mrs. Grossman's Outer Space Reusable Sticker Activity Set, Multicolor\", 85.5, 164)]\n",
      "Qratio:                     [('Space Base', 50.0, 4025), ('Barbie Car Wash Playset', 48.484848484848484, 1496)]\n"
     ]
    }
   ],
   "source": [
    "products_list = dataset[\"Product Name\"]\n",
    "input = \"Base Space\"\n",
    "limit = 2\n",
    "ratio = process.extract(input, products_list, scorer=fuzz.ratio, limit=limit, processor=utils.default_process)\n",
    "p_ratio = process.extract(input, products_list, scorer=fuzz.partial_ratio, limit=limit, processor=utils.default_process)\n",
    "tsort_ratio = process.extract(input, products_list, scorer=fuzz.token_sort_ratio, limit=limit, processor=utils.default_process)\n",
    "ptsort_ratio = process.extract(input, products_list, scorer=fuzz.partial_token_sort_ratio, limit=limit, processor=utils.default_process)\n",
    "tset_ratio = process.extract(input, products_list, scorer=fuzz.token_set_ratio, limit=limit, processor=utils.default_process)\n",
    "ptset_ratio = process.extract(input, products_list, scorer=fuzz.partial_token_set_ratio, limit=limit, processor=utils.default_process)\n",
    "W_ratio = process.extract(input, products_list, scorer=fuzz.WRatio, limit=limit, processor=utils.default_process)\n",
    "Q_ratio = process.extract(input, products_list, scorer=fuzz.QRatio, limit=limit, processor=utils.default_process)\n",
    "\n",
    "print(f'ratio:                      {ratio}')\n",
    "print(f'partial ratio:              {p_ratio}')\n",
    "print(f'token sort ratio:           {tsort_ratio}')\n",
    "print(f'partial token ratio:        {ptsort_ratio}')\n",
    "print(f'token set ratio:            {tset_ratio}')\n",
    "print(f'partial token set ratio:    {ptset_ratio}')\n",
    "print(f'Wratio:                     {W_ratio}')\n",
    "print(f'Qratio:                     {Q_ratio}')"
   ]
  }
 ],
 "metadata": {
  "kernelspec": {
   "display_name": ".venv",
   "language": "python",
   "name": "python3"
  },
  "language_info": {
   "codemirror_mode": {
    "name": "ipython",
    "version": 3
   },
   "file_extension": ".py",
   "mimetype": "text/x-python",
   "name": "python",
   "nbconvert_exporter": "python",
   "pygments_lexer": "ipython3",
   "version": "3.11.9"
  }
 },
 "nbformat": 4,
 "nbformat_minor": 2
}
