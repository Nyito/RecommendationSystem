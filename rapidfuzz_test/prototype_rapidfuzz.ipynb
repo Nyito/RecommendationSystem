{
 "cells": [
  {
   "cell_type": "code",
   "execution_count": 2,
   "metadata": {},
   "outputs": [],
   "source": [
    "from rapidfuzz import fuzz, process, utils\n",
    "import pandas as pd"
   ]
  },
  {
   "cell_type": "code",
   "execution_count": 3,
   "metadata": {},
   "outputs": [
    {
     "name": "stdout",
     "output_type": "stream",
     "text": [
      "<class 'pandas.core.frame.DataFrame'>\n",
      "RangeIndex: 7136 entries, 0 to 7135\n",
      "Data columns (total 8 columns):\n",
      " #   Column                   Non-Null Count  Dtype  \n",
      "---  ------                   --------------  -----  \n",
      " 0   Product Name             7136 non-null   object \n",
      " 1   Selling Price($)         7136 non-null   float64\n",
      " 2   About Product            7136 non-null   object \n",
      " 3   Product Specification    7136 non-null   object \n",
      " 4   Shipping Weight(Pounds)  7136 non-null   float64\n",
      " 5   Main Category            7136 non-null   object \n",
      " 6   Sub-Category             7136 non-null   object \n",
      " 7   Side Category            6155 non-null   object \n",
      "dtypes: float64(2), object(6)\n",
      "memory usage: 446.1+ KB\n"
     ]
    }
   ],
   "source": [
    "dataset = pd.read_csv('../data/CleanData.csv')\n",
    "dataset.info()"
   ]
  },
  {
   "cell_type": "code",
   "execution_count": 4,
   "metadata": {},
   "outputs": [
    {
     "name": "stdout",
     "output_type": "stream",
     "text": [
      "Mandala\n"
     ]
    }
   ],
   "source": [
    "print(dataset['Product Name'][6305])"
   ]
  },
  {
   "cell_type": "code",
   "execution_count": 5,
   "metadata": {},
   "outputs": [
    {
     "name": "stdout",
     "output_type": "stream",
     "text": [
      "                      Scorer                                                 Product Name  Value\n",
      "0                      ratio                                                   Space Base 100.00\n",
      "1                      ratio                                                  Specter Ops  57.14\n",
      "2              partial ratio                       Space Base: The Emergence of Shy Pluto 100.00\n",
      "3              partial ratio                                                   Space Base 100.00\n",
      "4           token sort ratio                                                   Space Base 100.00\n",
      "5           token sort ratio                                                 Clank!, Base  60.00\n",
      "6   partial token sort ratio                                                   Space Base 100.00\n",
      "7   partial token sort ratio                                     Lego Space & Airport Set  84.21\n",
      "8            token set ratio                       Space Base: The Emergence of Shy Pluto 100.00\n",
      "9            token set ratio                                                   Space Base 100.00\n",
      "10   partial token set ratio  Mrs. Grossman's Outer Space Reusable Sticker Activity Se... 100.00\n",
      "11   partial token set ratio  Osmo - Super Studio Disney Mickey Mouse & Friends Game -... 100.00\n",
      "12                    Wratio                                                   Space Base 100.00\n",
      "13                    Wratio                       Space Base: The Emergence of Shy Pluto  90.00\n",
      "14                    Qratio                                                   Space Base 100.00\n",
      "15                    Qratio                                                  Specter Ops  57.14\n"
     ]
    },
    {
     "name": "stderr",
     "output_type": "stream",
     "text": [
      "C:\\Users\\Nytoy\\AppData\\Local\\Temp\\ipykernel_18676\\2016948444.py:32: FutureWarning: The behavior of DataFrame concatenation with empty or all-NA entries is deprecated. In a future version, this will no longer exclude empty or all-NA columns when determining the result dtypes. To retain the old behavior, exclude the relevant entries before the concat operation.\n",
      "  df = pd.concat([df, new_row], ignore_index=True)\n"
     ]
    }
   ],
   "source": [
    "products_list = dataset[\"Product Name\"]\n",
    "input = \"Space Base\"\n",
    "limit = 2\n",
    "ratio = process.extract(input, products_list, scorer=fuzz.ratio, limit=limit, processor=utils.default_process)\n",
    "p_ratio = process.extract(input, products_list, scorer=fuzz.partial_ratio, limit=limit, processor=utils.default_process)\n",
    "tsort_ratio = process.extract(input, products_list, scorer=fuzz.token_sort_ratio, limit=limit, processor=utils.default_process)\n",
    "ptsort_ratio = process.extract(input, products_list, scorer=fuzz.partial_token_sort_ratio, limit=limit, processor=utils.default_process)\n",
    "tset_ratio = process.extract(input, products_list, scorer=fuzz.token_set_ratio, limit=limit, processor=utils.default_process)\n",
    "ptset_ratio = process.extract(input, products_list, scorer=fuzz.partial_token_set_ratio, limit=limit, processor=utils.default_process)\n",
    "W_ratio = process.extract(input, products_list, scorer=fuzz.WRatio, limit=limit, processor=utils.default_process)\n",
    "Q_ratio = process.extract(input, products_list, scorer=fuzz.QRatio, limit=limit, processor=utils.default_process)\n",
    "\n",
    "Scorer_list = {\n",
    "    'ratio':ratio, \n",
    "    'partial ratio':p_ratio, \n",
    "    'token sort ratio':tsort_ratio, \n",
    "    'partial token sort ratio':ptsort_ratio, \n",
    "    'token set ratio':tset_ratio, \n",
    "    'partial token set ratio':ptset_ratio, \n",
    "    'Wratio':W_ratio, \n",
    "    'Qratio':Q_ratio,\n",
    "}\n",
    "\n",
    "pd.set_option('display.width', 1000)  \n",
    "pd.set_option('display.max_colwidth', 60) \n",
    "pd.set_option('display.float_format', '{:.2f}'.format)  \n",
    "\n",
    "df = pd.DataFrame(columns=['Scorer', 'Product Name', 'Value'])\n",
    "for key,value in Scorer_list.items():\n",
    "    for i in range(limit):\n",
    "        new_row = pd.DataFrame([[key, value[i][0], value[i][1]]], columns=['Scorer', 'Product Name', 'Value'])\n",
    "        df = pd.concat([df, new_row], ignore_index=True)\n",
    "\n",
    "print(df)"
   ]
  },
  {
   "cell_type": "code",
   "execution_count": 6,
   "metadata": {},
   "outputs": [],
   "source": [
    "def prototype_rapid_fuzz_filter(user_input, products, number_of_rec):\n",
    "    list_of_rec = []\n",
    "    token_set_ratio_match = process.extract(user_input, products, scorer=fuzz.token_set_ratio, limit=1, processor=utils.default_process)\n",
    "    partial_ratio_matches = process.extract(user_input, products, scorer=fuzz.partial_ratio, limit=number_of_rec, processor=utils.default_process)\n",
    "\n",
    "    if token_set_ratio_match[0][1] == 100:\n",
    "        list_of_rec.extend(token_set_ratio_match)\n",
    "        for match in partial_ratio_matches:\n",
    "            if match[0] != token_set_ratio_match[0][0]:\n",
    "                list_of_rec.append(match)\n",
    "    \n",
    "    else:\n",
    "        for match in partial_ratio_matches:\n",
    "            list_of_rec.append(match)\n",
    "\n",
    "    return list_of_rec\n",
    "\n",
    "def rapid_fuzz_rec_to_df(recommendations, dataframe):\n",
    "    sorted_indeces = [match[2] for match in recommendations]\n",
    "    reordered_df = dataframe.iloc[sorted_indeces].reset_index(drop=True)\n",
    "    return reordered_df"
   ]
  },
  {
   "cell_type": "code",
   "execution_count": 7,
   "metadata": {},
   "outputs": [
    {
     "name": "stdout",
     "output_type": "stream",
     "text": [
      "Nanoblock Birthday Cake Building Kit\n"
     ]
    }
   ],
   "source": [
    "print(dataset['Product Name'][3496])"
   ]
  },
  {
   "cell_type": "code",
   "execution_count": 8,
   "metadata": {},
   "outputs": [
    {
     "name": "stdout",
     "output_type": "stream",
     "text": [
      "('Transformers Toys Cyberverse Action Attackers: 1-Step Changer Skybyte Action Figure - Repeatable Driller Drive Action Attack - for Kids Ages 6 & Up, 4.25\"', 100.0, 138)\n",
      "('Junior Learning Blend Readers Fiction Toy', 90.0, 1904)\n",
      "(\"K'NEX Education ‒ STEM Explorations: Roller Coaster Building Set – 546 Pieces – Ages 8+ Construction Education Toy\", 90.0, 2856)\n",
      "('Galt Toys, First Octons, Construction Toy', 90.0, 5601)\n",
      "('K’NEX – Turbo Jet – 2-in-1 Building Set – 402 Pieces – Ages 7+ – Engineering Educational Toy', 81.81818181818181, 179)\n"
     ]
    }
   ],
   "source": [
    "input = 'Action Toys'\n",
    "list_recs = []\n",
    "limit = 5\n",
    "for i in range(limit):\n",
    "    print(prototype_rapid_fuzz_filter(user_input=input, products=products_list, number_of_rec=limit)[i])\n",
    "list_recs = prototype_rapid_fuzz_filter(user_input=input, products=products_list, number_of_rec=len(dataset['Product Name']))\n"
   ]
  }
 ],
 "metadata": {
  "kernelspec": {
   "display_name": ".venv",
   "language": "python",
   "name": "python3"
  },
  "language_info": {
   "codemirror_mode": {
    "name": "ipython",
    "version": 3
   },
   "file_extension": ".py",
   "mimetype": "text/x-python",
   "name": "python",
   "nbconvert_exporter": "python",
   "pygments_lexer": "ipython3",
   "version": "3.11.9"
  }
 },
 "nbformat": 4,
 "nbformat_minor": 2
}
